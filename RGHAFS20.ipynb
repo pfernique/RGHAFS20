{
 "cells": [
  {
   "cell_type": "markdown",
   "metadata": {},
   "source": [
    "# A diver operated stereo-video approach for characterizing reef fish spawning aggregations: the Galapagos Marine Reserve as case study\n",
    "\n",
    "The [pandas](http://pandas.pydata.org/pandas-docs/stable/index.html) package is used for data manipulation\n",
    "The [rpy2](https://rpy2.github.io/doc/latest/html/index.html) package is used for R data analyses from Python.\n",
    "The [matplotlib](http://matplotlib.org/) package is used for $2$D data visualization.\n",
    "Data is available in the `share` directory of this repository:"
   ]
  },
  {
   "cell_type": "code",
   "execution_count": 1,
   "metadata": {},
   "outputs": [
    {
     "name": "stderr",
     "output_type": "stream",
     "text": [
      "C:\\Users\\pierre.fernique\\Miniconda3\\envs\\RGHAFS20\\lib\\site-packages\\rpy2\\robjects\\pandas2ri.py:17: FutureWarning: pandas.core.index is deprecated and will be removed in a future version.  The public classes are available in the top-level namespace.\n",
      "  from pandas.core.index import Index as PandasIndex\n"
     ]
    }
   ],
   "source": [
    "from pandas import DataFrame, read_csv, np\n",
    "\n",
    "import rpy2\n",
    "from rpy2.robjects import r as R, pandas2ri\n",
    "pandas2ri.activate()\n",
    "%reload_ext rpy2.ipython\n",
    "\n",
    "%matplotlib inline\n",
    "import matplotlib\n",
    "matplotlib.rcParams['savefig.bbox'] = 'tight'\n",
    "matplotlib.rcParams['svg.fonttype'] = 'none'\n",
    "from matplotlib import pyplot as plt\n",
    "\n",
    "import math\n",
    "import os"
   ]
  },
  {
   "cell_type": "markdown",
   "metadata": {},
   "source": [
    "## Biomass\n",
    "\n",
    "In order to fit the allometric relationship between the length and weight, we use the linear model\n",
    "\n",
    "$$ \\log(w_i) = \\alpha + \\beta \\times \\log(l_i) + \\epsilon_i,$$\n",
    "\n",
    "where\n",
    "\n",
    "* $i$ denotes an individual,\n",
    "* $w_i$ denotes its weight,\n",
    "* $l_i$ denotes its length,\n",
    "* $\\alpha$ denotes the intercept (theoritical weight of fish of length $0.0$),\n",
    "* $\\beta$ denotes the slope.\n",
    "* $\\epsilon_i$ denotes the Gaussian noise."
   ]
  },
  {
   "cell_type": "code",
   "execution_count": 2,
   "metadata": {},
   "outputs": [
    {
     "data": {
      "image/png": "[encoded data removed]",
      "text/plain": [
       "<Figure size 1080x360 with 1 Axes>"
      ]
     },
     "metadata": {
      "needs_background": "light"
     },
     "output_type": "display_data"
    }
   ],
   "source": [
    "biomass = read_csv(os.path.join('share',\n",
    "                                'biomass.csv'),\n",
    "                   sep=',')\n",
    "R.assign('biomass',\n",
    "         biomass)\n",
    "fig = plt.figure(figsize=(15,5))\n",
    "axes = plt.subplot(1,1,1)\n",
    "logx = True\n",
    "logy = True\n",
    "x = biomass.FL\n",
    "y = biomass.W\n",
    "if logx:\n",
    "    x = [math.log(x) for x in x]\n",
    "if logy:\n",
    "    y = [math.log(y) for y in y]       \n",
    "plt.plot(x,y,'o')\n",
    "_ = axes.set_xlabel('log(Length)')\n",
    "_ = axes.set_ylabel('log(Weight)')"
   ]
  },
  {
   "cell_type": "code",
   "execution_count": 3,
   "metadata": {},
   "outputs": [],
   "source": [
    "%%R\n",
    "reg = lm('log(W) ~ log(FL)',\n",
    "         data=biomass)\n",
    "coefficients = summary(reg)$coefficients\n",
    "prd = predict(reg)"
   ]
  },
  {
   "cell_type": "code",
   "execution_count": 4,
   "metadata": {},
   "outputs": [
    {
     "name": "stdout",
     "output_type": "stream",
     "text": [
      "\n",
      "\r\n",
      "Call:\n",
      "\r\n",
      "lm(formula = \"log(W) ~ log(FL)\", data = biomass)\n",
      "\r\n",
      "\n",
      "\r\n",
      "Residuals:\n",
      "\r\n",
      "      Min        1Q    Median        3Q       Max \n",
      "\r\n",
      "-0.190493 -0.045270  0.000104  0.055658  0.187602 \n",
      "\r\n",
      "\n",
      "\r\n",
      "Coefficients:\n",
      "\r\n",
      "            Estimate Std. Error t value Pr(>|t|)    \n",
      "\r\n",
      "(Intercept) -4.19841    0.25540  -16.44   <2e-16 ***\n",
      "\r\n",
      "log(FL)      3.08765    0.07067   43.69   <2e-16 ***\n",
      "\r\n",
      "---\n",
      "\r\n",
      "Signif. codes:  0 '***' 0.001 '**' 0.01 '*' 0.05 '.' 0.1 ' ' 1\n",
      "\r\n",
      "\n",
      "\r\n",
      "Residual standard error: 0.08529 on 31 degrees of freedom\n",
      "\r\n",
      "Multiple R-squared:  0.984,\tAdjusted R-squared:  0.9835 \n",
      "\r\n",
      "F-statistic:  1909 on 1 and 31 DF,  p-value: < 2.2e-16\n",
      "\r\n",
      "\n",
      "\n"
     ]
    }
   ],
   "source": [
    "print(R('summary(reg)'))"
   ]
  },
  {
   "cell_type": "markdown",
   "metadata": {},
   "source": [
    "On this table the results of the linear model are displayed.\n",
    "In particular:\n",
    "\n",
    "* $\\alpha = -4.19841$ (first column on line (Intercept)) and significantly different from $0.0$ (last column on line (Intercept)),\n",
    "* $\\beta = 3.09$ (first column on line log(FL)) and significantly different from $0.0$ (last column on line log(FL)).\n",
    "The following plots can be used to verify the validity of linear model underlying hypotheses.\n",
    "In particular:\n",
    "\n",
    "* The top-left graph enable the verification of the homoscedasticity.\n",
    "* The top-right graph enable the verification of the normality of errors."
   ]
  },
  {
   "cell_type": "markdown",
   "metadata": {},
   "source": []
  },
  {
   "cell_type": "code",
   "execution_count": 5,
   "metadata": {},
   "outputs": [
    {
     "data": {
      "image/png": "[encoded data removed]"
     },
     "metadata": {},
     "output_type": "display_data"
    }
   ],
   "source": [
    "%%R\n",
    "par(mfrow=c(2,2))\n",
    "plot(reg)"
   ]
  },
  {
   "cell_type": "markdown",
   "metadata": {},
   "source": [
    "And the graphic below illustrate the adjustment of the linear model (red line) to the data (blue dots). "
   ]
  },
  {
   "cell_type": "code",
   "execution_count": 6,
   "metadata": {},
   "outputs": [
    {
     "data": {
      "image/png": "[encoded data removed]",
      "text/plain": [
       "<Figure size 1080x360 with 1 Axes>"
      ]
     },
     "metadata": {
      "needs_background": "light"
     },
     "output_type": "display_data"
    }
   ],
   "source": [
    "%Rpull prd\n",
    "fig = plt.figure(figsize=(15,5))\n",
    "axes = plt.subplot(1,1,1)\n",
    "plt.plot(x,y,'ko')\n",
    "plt.plot(x,list(prd),'k-')\n",
    "_ = axes.set_xlabel('log(Length)')\n",
    "_ = axes.set_ylabel('log(Weight)')\n",
    "fig.savefig('lW-lL.svg')"
   ]
  },
  {
   "cell_type": "markdown",
   "metadata": {
    "collapsed": true
   },
   "source": [
    "We are now interested into converting randomly collected lengths in the video (see graph below) into weights using the previous length-weight allometric relationship."
   ]
  },
  {
   "cell_type": "code",
   "execution_count": 7,
   "metadata": {},
   "outputs": [
    {
     "data": {
      "image/png": "[encoded data removed]",
      "text/plain": [
       "<Figure size 1080x360 with 1 Axes>"
      ]
     },
     "metadata": {
      "needs_background": "light"
     },
     "output_type": "display_data"
    }
   ],
   "source": [
    "lengths = read_csv(os.path.join('share',\n",
    "                                'lengths.csv'),\n",
    "                   sep=',')\n",
    "R.assign('lengths',\n",
    "         lengths)\n",
    "fig = plt.figure(figsize=(15,5))\n",
    "axes = plt.subplot(1,1,1)\n",
    "for sex, color in zip(['M', 'F'], [.3, .6]):\n",
    "    axes.hist(lengths.Length[lengths.Stage == sex].tolist(),\n",
    "              alpha=color,\n",
    "              edgecolor='k',\n",
    "              color='k')\n",
    "_ = axes.set_xlabel('Length')\n",
    "_ = axes.set_ylabel('Frequency')\n",
    "fig.savefig('length.svg')"
   ]
  },
  {
   "cell_type": "markdown",
   "metadata": {},
   "source": [
    "On this graph are displayed the histograms of lengths for:\n",
    "\n",
    "* females, in dark gray,\n",
    "* males, in light gray.\n",
    "\n",
    "In order to test if the sex has an influence on the length, we use the linear model\n",
    "\n",
    "$$ l_i = \\alpha_{s_i} + \\epsilon_i,$$\n",
    "\n",
    "where\n",
    "\n",
    "*   $i$ denotes an individual.\n",
    "*   $l_i$ is its length.\n",
    "*   $\\alpha_{s_i}$ is a coefficient depending on the sex of the individual.\n",
    "    There two different coefficients : $\\alpha_{F}$ for females and $\\alpha_M$ for males.\n",
    "*   $\\epsilon_i$ is the Gaussian noise."
   ]
  },
  {
   "cell_type": "code",
   "execution_count": 8,
   "metadata": {},
   "outputs": [],
   "source": [
    "%%R\n",
    "reg = lm('Length ~ Stage', data=lengths)"
   ]
  },
  {
   "cell_type": "code",
   "execution_count": 9,
   "metadata": {},
   "outputs": [
    {
     "name": "stdout",
     "output_type": "stream",
     "text": [
      "\n",
      "\r\n",
      "Call:\n",
      "\r\n",
      "lm(formula = \"Length ~ Stage\", data = lengths)\n",
      "\r\n",
      "\n",
      "\r\n",
      "Residuals:\n",
      "\r\n",
      "     Min       1Q   Median       3Q      Max \n",
      "\r\n",
      "-19.2921  -3.5401   0.0079   3.2079  21.3599 \n",
      "\r\n",
      "\n",
      "\r\n",
      "Coefficients:\n",
      "\r\n",
      "            Estimate Std. Error t value Pr(>|t|)    \n",
      "\r\n",
      "(Intercept)  24.1401     0.5285   45.67   <2e-16 ***\n",
      "\r\n",
      "StageM       15.6520     0.7209   21.71   <2e-16 ***\n",
      "\r\n",
      "---\n",
      "\r\n",
      "Signif. codes:  0 '***' 0.001 '**' 0.01 '*' 0.05 '.' 0.1 ' ' 1\n",
      "\r\n",
      "\n",
      "\r\n",
      "Residual standard error: 6.298 on 305 degrees of freedom\n",
      "\r\n",
      "Multiple R-squared:  0.6071,\tAdjusted R-squared:  0.6058 \n",
      "\r\n",
      "F-statistic: 471.3 on 1 and 305 DF,  p-value: < 2.2e-16\n",
      "\r\n",
      "\n",
      "\n"
     ]
    }
   ],
   "source": [
    "print(R('summary(reg)'))"
   ]
  },
  {
   "cell_type": "markdown",
   "metadata": {},
   "source": [
    "On this table are displayed the estimated average length of:\n",
    "\n",
    "* females, $\\alpha_F = 24.14$ (first column on line (Intercept)) and significantly different from $0$ (last column on line (Intercept)),\n",
    "* males, $\\alpha_M = 24.14+15.65=39.79$ (first column on line (Intercept) plus the first column on line StageM) and significantly different from  the average of females (last column on line StageM).\n",
    "\n",
    "The following plots can be used to verify the validity of linear model underlying hypotheses.\n",
    "In particular:\n",
    "\n",
    "* The top-left graph enable the verification of the homoscedasticity.\n",
    "* The top-right graph enable the verification of the normality of errors."
   ]
  },
  {
   "cell_type": "code",
   "execution_count": 10,
   "metadata": {},
   "outputs": [
    {
     "data": {
      "image/png": "[encoded data removed]"
     },
     "metadata": {},
     "output_type": "display_data"
    }
   ],
   "source": [
    "%%R\n",
    "par(mfrow=c(2,2))\n",
    "plot(reg)"
   ]
  },
  {
   "cell_type": "markdown",
   "metadata": {},
   "source": [
    "Using the allometric relationships we display below the histogram of weights conditionally to the sex:\n",
    "\n",
    "* In light gray the histogram of male weights.\n",
    "* In dark gray the histogram of female weights."
   ]
  },
  {
   "cell_type": "code",
   "execution_count": 11,
   "metadata": {},
   "outputs": [
    {
     "name": "stderr",
     "output_type": "stream",
     "text": [
      "C:\\Users\\pierre.fernique\\Miniconda3\\envs\\RGHAFS20\\lib\\site-packages\\ipykernel_launcher.py:2: FutureWarning: The pandas.np module is deprecated and will be removed from pandas in a future version. Import numpy directly instead\n",
      "  \n"
     ]
    },
    {
     "data": {
      "image/png": "[encoded data removed]",
      "text/plain": [
       "<Figure size 1080x360 with 1 Axes>"
      ]
     },
     "metadata": {
      "needs_background": "light"
     },
     "output_type": "display_data"
    }
   ],
   "source": [
    "%Rpull coefficients\n",
    "coefficients = np.array(coefficients)\n",
    "alpha = math.exp(coefficients[0,0])\n",
    "beta = coefficients[1,0]\n",
    "fig = plt.figure(figsize=(15,5))\n",
    "axes = plt.subplot(1,1,1)\n",
    "for sex, color in zip(['M', 'F'], [.3, .6]):\n",
    "    axes.hist([alpha * length**beta for length in lengths.Length[lengths.Stage == sex].tolist()],\n",
    "              alpha=color,\n",
    "              color='k',\n",
    "              edgecolor='k')\n",
    "axes.set_xlabel('Weight')\n",
    "axes.set_ylabel('Frequency')\n",
    "fig.savefig('weight.svg')"
   ]
  },
  {
   "cell_type": "markdown",
   "metadata": {},
   "source": [
    "## Describing the reproductive behaviour of the species based on tangible quantitative data and explicit 3D representation of the spawning event.\n",
    "\n",
    "### Preamble\n",
    "\n",
    "Using [VTK](http://www.vtk.org/) to visualize frames."
   ]
  },
  {
   "cell_type": "code",
   "execution_count": 12,
   "metadata": {},
   "outputs": [],
   "source": [
    "from RGHAFS20.frame import vtk"
   ]
  },
  {
   "cell_type": "markdown",
   "metadata": {},
   "source": [
    "To ease the *VTK* interactions we provide $3$ functions\n",
    "\n",
    "* `renderers`, initialize differnt views of the same frame (e.g. one for viewing only males and one for viewing only females)\n",
    "* `synchornize`, allow different views of the same frame (see above) to share the same camera in order to ease comparisons (when the camera of a view is moved, the other views moves in the same manner).\n",
    "* `show`, is just an aggregation of *VTK* commands to display the frame and convert the selected view into a PNG image embedded in the notebook using [matplotlib](http://matplotlib.org/1.4.0/index.html) (if a name is provided, the image is written on the disk with the given name)."
   ]
  },
  {
   "cell_type": "code",
   "execution_count": 13,
   "metadata": {},
   "outputs": [],
   "source": [
    "from RGHAFS20.frame import renderers, synchronize, show"
   ]
  },
  {
   "cell_type": "markdown",
   "metadata": {},
   "source": [
    "A frame is represented by a set of $3$D points (columns **X**, **Y** and **Z**) associated to an indentifier (**Type**).\n",
    "The identifier used are :\n",
    "\n",
    "* G, for ground.\n",
    "* M, for bodanius males.\n",
    "* F, for bodanius females."
   ]
  },
  {
   "cell_type": "code",
   "execution_count": 14,
   "metadata": {
    "scrolled": true
   },
   "outputs": [
    {
     "data": {
      "text/html": [
       "<div>\n",
       "<style scoped>\n",
       "    .dataframe tbody tr th:only-of-type {\n",
       "        vertical-align: middle;\n",
       "    }\n",
       "\n",
       "    .dataframe tbody tr th {\n",
       "        vertical-align: top;\n",
       "    }\n",
       "\n",
       "    .dataframe thead th {\n",
       "        text-align: right;\n",
       "    }\n",
       "</style>\n",
       "<table border=\"1\" class=\"dataframe\">\n",
       "  <thead>\n",
       "    <tr style=\"text-align: right;\">\n",
       "      <th></th>\n",
       "      <th>Unnamed: 0</th>\n",
       "      <th>Type</th>\n",
       "      <th>Precision</th>\n",
       "      <th>RMS</th>\n",
       "      <th>Range</th>\n",
       "      <th>Direction</th>\n",
       "      <th>X</th>\n",
       "      <th>Y</th>\n",
       "      <th>Z</th>\n",
       "    </tr>\n",
       "  </thead>\n",
       "  <tbody>\n",
       "    <tr>\n",
       "      <th>0</th>\n",
       "      <td>19</td>\n",
       "      <td>M</td>\n",
       "      <td>18841</td>\n",
       "      <td>3609</td>\n",
       "      <td>6946071</td>\n",
       "      <td>22366</td>\n",
       "      <td>-2495922</td>\n",
       "      <td>768215</td>\n",
       "      <td>-6436468</td>\n",
       "    </tr>\n",
       "    <tr>\n",
       "      <th>1</th>\n",
       "      <td>20</td>\n",
       "      <td>M</td>\n",
       "      <td>17684</td>\n",
       "      <td>121</td>\n",
       "      <td>6694072</td>\n",
       "      <td>20331</td>\n",
       "      <td>-2189589</td>\n",
       "      <td>684936</td>\n",
       "      <td>-6288653</td>\n",
       "    </tr>\n",
       "    <tr>\n",
       "      <th>2</th>\n",
       "      <td>21</td>\n",
       "      <td>M</td>\n",
       "      <td>10987</td>\n",
       "      <td>17919</td>\n",
       "      <td>5357418</td>\n",
       "      <td>12336</td>\n",
       "      <td>193847</td>\n",
       "      <td>-1210530</td>\n",
       "      <td>-5215263</td>\n",
       "    </tr>\n",
       "    <tr>\n",
       "      <th>3</th>\n",
       "      <td>22</td>\n",
       "      <td>M</td>\n",
       "      <td>14547</td>\n",
       "      <td>6941</td>\n",
       "      <td>6239373</td>\n",
       "      <td>9509</td>\n",
       "      <td>-988059</td>\n",
       "      <td>196378</td>\n",
       "      <td>-6157512</td>\n",
       "    </tr>\n",
       "    <tr>\n",
       "      <th>4</th>\n",
       "      <td>23</td>\n",
       "      <td>M</td>\n",
       "      <td>20899</td>\n",
       "      <td>1983</td>\n",
       "      <td>7628989</td>\n",
       "      <td>5484</td>\n",
       "      <td>-720332</td>\n",
       "      <td>-232559</td>\n",
       "      <td>-7591345</td>\n",
       "    </tr>\n",
       "    <tr>\n",
       "      <th>...</th>\n",
       "      <td>...</td>\n",
       "      <td>...</td>\n",
       "      <td>...</td>\n",
       "      <td>...</td>\n",
       "      <td>...</td>\n",
       "      <td>...</td>\n",
       "      <td>...</td>\n",
       "      <td>...</td>\n",
       "      <td>...</td>\n",
       "    </tr>\n",
       "    <tr>\n",
       "      <th>134</th>\n",
       "      <td>153</td>\n",
       "      <td>G</td>\n",
       "      <td>25617</td>\n",
       "      <td>6331</td>\n",
       "      <td>8696359</td>\n",
       "      <td>4312</td>\n",
       "      <td>523340</td>\n",
       "      <td>255068</td>\n",
       "      <td>-8676849</td>\n",
       "    </tr>\n",
       "    <tr>\n",
       "      <th>135</th>\n",
       "      <td>154</td>\n",
       "      <td>G</td>\n",
       "      <td>24864</td>\n",
       "      <td>5062</td>\n",
       "      <td>8347051</td>\n",
       "      <td>5047</td>\n",
       "      <td>-705588</td>\n",
       "      <td>-334458</td>\n",
       "      <td>-8310448</td>\n",
       "    </tr>\n",
       "    <tr>\n",
       "      <th>136</th>\n",
       "      <td>155</td>\n",
       "      <td>G</td>\n",
       "      <td>21552</td>\n",
       "      <td>3869</td>\n",
       "      <td>7769343</td>\n",
       "      <td>4464</td>\n",
       "      <td>-515518</td>\n",
       "      <td>-438376</td>\n",
       "      <td>-7739816</td>\n",
       "    </tr>\n",
       "    <tr>\n",
       "      <th>137</th>\n",
       "      <td>156</td>\n",
       "      <td>G</td>\n",
       "      <td>16906</td>\n",
       "      <td>9679</td>\n",
       "      <td>6634123</td>\n",
       "      <td>16174</td>\n",
       "      <td>1308985</td>\n",
       "      <td>-1404846</td>\n",
       "      <td>-6350162</td>\n",
       "    </tr>\n",
       "    <tr>\n",
       "      <th>138</th>\n",
       "      <td>157</td>\n",
       "      <td>G</td>\n",
       "      <td>20281</td>\n",
       "      <td>2758</td>\n",
       "      <td>7635160</td>\n",
       "      <td>5213</td>\n",
       "      <td>693401</td>\n",
       "      <td>-98909</td>\n",
       "      <td>-7602965</td>\n",
       "    </tr>\n",
       "  </tbody>\n",
       "</table>\n",
       "<p>139 rows × 9 columns</p>\n",
       "</div>"
      ],
      "text/plain": [
       "     Unnamed: 0 Type  Precision    RMS    Range  Direction        X        Y  \\\n",
       "0            19    M      18841   3609  6946071      22366 -2495922   768215   \n",
       "1            20    M      17684    121  6694072      20331 -2189589   684936   \n",
       "2            21    M      10987  17919  5357418      12336   193847 -1210530   \n",
       "3            22    M      14547   6941  6239373       9509  -988059   196378   \n",
       "4            23    M      20899   1983  7628989       5484  -720332  -232559   \n",
       "..          ...  ...        ...    ...      ...        ...      ...      ...   \n",
       "134         153    G      25617   6331  8696359       4312   523340   255068   \n",
       "135         154    G      24864   5062  8347051       5047  -705588  -334458   \n",
       "136         155    G      21552   3869  7769343       4464  -515518  -438376   \n",
       "137         156    G      16906   9679  6634123      16174  1308985 -1404846   \n",
       "138         157    G      20281   2758  7635160       5213   693401   -98909   \n",
       "\n",
       "           Z  \n",
       "0   -6436468  \n",
       "1   -6288653  \n",
       "2   -5215263  \n",
       "3   -6157512  \n",
       "4   -7591345  \n",
       "..       ...  \n",
       "134 -8676849  \n",
       "135 -8310448  \n",
       "136 -7739816  \n",
       "137 -6350162  \n",
       "138 -7602965  \n",
       "\n",
       "[139 rows x 9 columns]"
      ]
     },
     "execution_count": 14,
     "metadata": {},
     "output_type": "execute_result"
    }
   ],
   "source": [
    "id_frame = 2\n",
    "frame = read_csv(os.path.join('share',\n",
    "                              'frame_'+str(id_frame)+'/points.csv'),\n",
    "                 sep='\\t')\n",
    "frame"
   ]
  },
  {
   "cell_type": "markdown",
   "metadata": {},
   "source": [
    "On each frame, bodanius are are represented by spheres"
   ]
  },
  {
   "cell_type": "code",
   "execution_count": 15,
   "metadata": {},
   "outputs": [],
   "source": [
    "from RGHAFS20.frame import plot_spheres\n",
    "\n",
    "window = vtk.vtkRenderWindow()\n",
    "renderer = renderers(window, 1,1).pop()\n",
    "\n",
    "plot_spheres(frame[frame.Type != 'G'], renderer, 0., 1., 0., size=200000)\n",
    "\n",
    "show(window)\n",
    "del window"
   ]
  },
  {
   "cell_type": "markdown",
   "metadata": {},
   "source": [
    "On each frame the ground is represented by a surface representing the delaunay triangulation of avaible points."
   ]
  },
  {
   "cell_type": "code",
   "execution_count": 16,
   "metadata": {},
   "outputs": [],
   "source": [
    "from RGHAFS20.frame import plot_delaunay_2D\n",
    "\n",
    "window = vtk.vtkRenderWindow()\n",
    "renderer = renderers(window, 1,1).pop()\n",
    "\n",
    "plot_delaunay_2D(frame[frame.Type == 'G'], renderer, 1., 1., 0.)\n",
    "\n",
    "show(window)\n",
    "del window"
   ]
  },
  {
   "cell_type": "markdown",
   "metadata": {},
   "source": [
    "The resulting frame is a combination of:\n",
    "\n",
    "* A yellow surface representing the ground.\n",
    "* Blue spheres representing male bodanius.\n",
    "* Red spheres representing female bodanius."
   ]
  },
  {
   "cell_type": "code",
   "execution_count": 17,
   "metadata": {},
   "outputs": [],
   "source": [
    "id_frame = 4\n",
    "frame = read_csv(os.path.join('share',\n",
    "                              'frame_' + str(id_frame) + '/points.csv'),\n",
    "                 sep='\\t')\n",
    "\n",
    "window = vtk.vtkRenderWindow()\n",
    "renderer = renderers(window, 1,1).pop()\n",
    "\n",
    "plot_spheres(frame[frame.Type == 'M'], renderer, 0., 0., 1., size=200000)\n",
    "plot_spheres(frame[frame.Type == 'F'], renderer, 1., 0., 0., size=200000)\n",
    "plot_delaunay_2D(frame[frame.Type == 'G'], renderer, 1., 1., 0.)\n",
    "\n",
    "show(window, magnification=10, name='./frame.png')\n",
    "del window"
   ]
  },
  {
   "cell_type": "markdown",
   "metadata": {},
   "source": [
    "### Distances between individuals"
   ]
  },
  {
   "cell_type": "markdown",
   "metadata": {},
   "source": [
    "Since the units of positions are in micrometers, one use the `SI` function to convert them into meters."
   ]
  },
  {
   "cell_type": "code",
   "execution_count": 18,
   "metadata": {},
   "outputs": [],
   "source": [
    "from RGHAFS20.tools import SI"
   ]
  },
  {
   "cell_type": "markdown",
   "metadata": {},
   "source": [
    "In order to compare behaviours of males and females we consider sex minimal intra and inter-distances.\n",
    "The minimal intra-distance is the minimal distance of one individual to another individual of the same sex.\n",
    "*A contrario*, the minimal inter-distance is the minimal distance of one individual to another individual of the other sex.\n",
    "These distances are displayed using conditional histograms for males (in blue) and females (in red) and statistically compared using [Wilcoxon rank sum test](http://en.wikipedia.org/wiki/Wilcoxon_signed-rank_test),\n",
    "The Wilcoxon rank sum test is used since the obersations are clearly non-normal."
   ]
  },
  {
   "cell_type": "markdown",
   "metadata": {},
   "source": [
    "#### Intra-distances"
   ]
  },
  {
   "cell_type": "code",
   "execution_count": 19,
   "metadata": {},
   "outputs": [
    {
     "data": {
      "image/png": "[encoded data removed]",
      "text/plain": [
       "<Figure size 1080x360 with 1 Axes>"
      ]
     },
     "metadata": {
      "needs_background": "light"
     },
     "output_type": "display_data"
    }
   ],
   "source": [
    "from RGHAFS20.distances import intra\n",
    "frames = []\n",
    "for id_frame in range(1,20):\n",
    "    frame = read_csv(os.path.join('share',\n",
    "                                  'frame_' + str(id_frame) + '/points.csv'),\n",
    "                     sep='\\t')\n",
    "    for sex in ['F', 'M']:\n",
    "        if id_frame < 16:\n",
    "            X, Y, Z = SI(frame[frame.Type == sex], 'micro')\n",
    "        else:\n",
    "            X, Y, Z = SI(frame[frame.Type == sex], 'mm')\n",
    "        for d in intra(X, Y, Z):\n",
    "            frames.append([d, sex])\n",
    "frames = DataFrame(data=frames, columns=['d', 'sex'])\n",
    "R.assign('frames', frames)\n",
    "fig = plt.figure(figsize=(15,5))\n",
    "axes = fig.add_subplot(1,1,1)\n",
    "histM = axes.hist(frames[frames.sex == 'M'].d.tolist(), alpha=.5, color='b', edgecolor='k')\n",
    "histF = axes.hist(frames[frames.sex == 'F'].d.tolist(), alpha=.5, color='r', edgecolor='k')"
   ]
  },
  {
   "cell_type": "code",
   "execution_count": 20,
   "metadata": {},
   "outputs": [
    {
     "name": "stdout",
     "output_type": "stream",
     "text": [
      "\n",
      "\r\n",
      "\tWilcoxon rank sum test with continuity correction\n",
      "\r\n",
      "\n",
      "\r\n",
      "data:  d by sex\n",
      "\r\n",
      "W = 11759, p-value = 1.166e-13\n",
      "\r\n",
      "alternative hypothesis: true location shift is not equal to 0\n",
      "\r\n",
      "\n",
      "\n"
     ]
    }
   ],
   "source": [
    "print(R('wilcox.test(d ~ sex, data=frames)'))"
   ]
  },
  {
   "cell_type": "markdown",
   "metadata": {},
   "source": [
    "This approach is considering that intra-distances within females and within males are significatively different.\n",
    "Males tend to be less close than females."
   ]
  },
  {
   "cell_type": "markdown",
   "metadata": {},
   "source": [
    "#### Inter-distances"
   ]
  },
  {
   "cell_type": "markdown",
   "metadata": {},
   "source": [
    "Inter-distances are not really relevant and are not significatively different.\n",
    "The approach below comparing intra-distances to inter-distances seems to be more relevant."
   ]
  },
  {
   "cell_type": "code",
   "execution_count": 21,
   "metadata": {},
   "outputs": [
    {
     "data": {
      "image/png": "[encoded data removed]",
      "text/plain": [
       "<Figure size 1080x360 with 1 Axes>"
      ]
     },
     "metadata": {
      "needs_background": "light"
     },
     "output_type": "display_data"
    }
   ],
   "source": [
    "from RGHAFS20.distances import inter\n",
    "frames = []\n",
    "for id_frame in range(1,20):\n",
    "    frame = read_csv(os.path.join('share',\n",
    "                                  'frame_' + str(id_frame) + '/points.csv'),\n",
    "                     sep='\\t')\n",
    "    for sex in ['F', 'M']:\n",
    "        if id_frame < 16:\n",
    "            X0, Y0, Z0 = SI(frame[frame.Type == sex], 'micro')\n",
    "            X1, Y1, Z1 = SI(frame[frame.Type == 'G'], 'micro')\n",
    "        else:\n",
    "            X0, Y0, Z0 = SI(frame[frame.Type == sex], 'mm')\n",
    "            X1, Y1, Z1 = SI(frame[frame.Type == 'G'], 'mm')\n",
    "        for d in inter(X0, Y0, Z0, X1, Y1, Z1):\n",
    "            frames.append([d, sex])\n",
    "frames = DataFrame(data=frames, columns=['d', 'sex'])\n",
    "R.assign('frames', frames)\n",
    "fig = plt.figure(figsize=(15,5))\n",
    "axes = fig.add_subplot(1,1,1)\n",
    "histM = axes.hist(frames[frames.sex == 'M'].d.tolist(), alpha=.5, color='b', edgecolor='k', density=True)\n",
    "histF = axes.hist(frames[frames.sex == 'F'].d.tolist(), alpha=.5, color='r', edgecolor='k', density=True)"
   ]
  },
  {
   "cell_type": "code",
   "execution_count": 22,
   "metadata": {},
   "outputs": [
    {
     "name": "stdout",
     "output_type": "stream",
     "text": [
      "\n",
      "\r\n",
      "\tWilcoxon rank sum test with continuity correction\n",
      "\r\n",
      "\n",
      "\r\n",
      "data:  d by sex\n",
      "\r\n",
      "W = 3065, p-value = 2.248e-05\n",
      "\r\n",
      "alternative hypothesis: true location shift is not equal to 0\n",
      "\r\n",
      "\n",
      "\n"
     ]
    }
   ],
   "source": [
    "print(R('wilcox.test(d ~ sex, data=frames)'))"
   ]
  },
  {
   "cell_type": "markdown",
   "metadata": {},
   "source": [
    "#### Comparison of inter and intra-distances"
   ]
  },
  {
   "cell_type": "markdown",
   "metadata": {},
   "source": [
    "We compare hereabove the intra and inter-distances for males and females.\n",
    "For both, after a statistical analysis it appears that males are closest to females than to males and vice-versa."
   ]
  },
  {
   "cell_type": "code",
   "execution_count": 23,
   "metadata": {},
   "outputs": [
    {
     "data": {
      "image/png": "[encoded data removed]",
      "text/plain": [
       "<Figure size 1080x360 with 1 Axes>"
      ]
     },
     "metadata": {
      "needs_background": "light"
     },
     "output_type": "display_data"
    }
   ],
   "source": [
    "frames = []\n",
    "for id_frame in range(1,20):\n",
    "    frame = read_csv(os.path.join('share',\n",
    "                                  'frame_' + str(id_frame) + '/points.csv'),\n",
    "                     sep='\\t')\n",
    "    if id_frame < 16:\n",
    "        X0, Y0, Z0 = SI(frame[frame.Type == 'M'], 'micro')\n",
    "        X1, Y1, Z1 = SI(frame[frame.Type == 'F'], 'micro')\n",
    "    else:\n",
    "        X0, Y0, Z0 = SI(frame[frame.Type == 'M'], 'mm')\n",
    "        X1, Y1, Z1 = SI(frame[frame.Type == 'F'], 'mm')  \n",
    "    for d in inter(X0, Y0, Z0, X1, Y1, Z1):\n",
    "        frames.append([d, 'F'])\n",
    "    for d in intra(X0, Y0, Z0):\n",
    "        frames.append([d, 'M'])\n",
    "frames = DataFrame(data=frames, columns=['d', 'sex'])\n",
    "R.assign('frames', frames)\n",
    "fig = plt.figure(figsize=(15,5))\n",
    "axes = fig.add_subplot(1,1,1)\n",
    "histM = axes.hist(frames[frames.sex == 'M'].d.tolist(), alpha=.5, color='b', edgecolor='k', density=True)\n",
    "histF = axes.hist(frames[frames.sex == 'F'].d.tolist(), alpha=.5, color='r', edgecolor='k', density=True)"
   ]
  },
  {
   "cell_type": "code",
   "execution_count": 24,
   "metadata": {},
   "outputs": [
    {
     "name": "stdout",
     "output_type": "stream",
     "text": [
      "\n",
      "\r\n",
      "\tWilcoxon rank sum test with continuity correction\n",
      "\r\n",
      "\n",
      "\r\n",
      "data:  d by sex\n",
      "\r\n",
      "W = 2292, p-value < 2.2e-16\n",
      "\r\n",
      "alternative hypothesis: true location shift is not equal to 0\n",
      "\r\n",
      "\n",
      "\n"
     ]
    }
   ],
   "source": [
    "print(R('wilcox.test(d ~ sex, data=frames)'))"
   ]
  },
  {
   "cell_type": "code",
   "execution_count": 25,
   "metadata": {},
   "outputs": [
    {
     "data": {
      "image/png": "[encoded data removed]",
      "text/plain": [
       "<Figure size 1080x360 with 1 Axes>"
      ]
     },
     "metadata": {
      "needs_background": "light"
     },
     "output_type": "display_data"
    }
   ],
   "source": [
    "frames = []\n",
    "for id_frame in range(1,20):\n",
    "    frame = read_csv(os.path.join('share',\n",
    "                                  'frame_' + str(id_frame) + '/points.csv'),\n",
    "                     sep='\\t')\n",
    "    if id_frame < 16:\n",
    "        X0, Y0, Z0 = SI(frame[frame.Type == 'F'], 'micro')\n",
    "        X1, Y1, Z1 = SI(frame[frame.Type == 'M'], 'micro')\n",
    "    else:\n",
    "        X0, Y0, Z0 = SI(frame[frame.Type == 'F'], 'mm')\n",
    "        X1, Y1, Z1 = SI(frame[frame.Type == 'M'], 'mm')\n",
    "    for d in inter(X0, Y0, Z0, X1, Y1, Z1):\n",
    "        frames.append([d, 'M'])\n",
    "    for d in intra(X0, Y0, Z0):\n",
    "        frames.append([d, 'F'])\n",
    "frames = DataFrame(data=frames, columns=['d', 'sex'])\n",
    "R.assign('frames', frames)\n",
    "fig = plt.figure(figsize=(15,5))\n",
    "axes = fig.add_subplot(1,1,1)\n",
    "histM = axes.hist(frames[frames.sex == 'M'].d.tolist(), alpha=.5, color='b', edgecolor='k', density=True)\n",
    "histF = axes.hist(frames[frames.sex == 'F'].d.tolist(), alpha=.5, color='r', edgecolor='k', density=True)"
   ]
  },
  {
   "cell_type": "code",
   "execution_count": 26,
   "metadata": {},
   "outputs": [],
   "source": [
    "%%R\n",
    "aggregate(frames, list(Sex = frames$sex), summary)"
   ]
  },
  {
   "cell_type": "code",
   "execution_count": 27,
   "metadata": {},
   "outputs": [
    {
     "name": "stdout",
     "output_type": "stream",
     "text": [
      "\n",
      "\r\n",
      "\tWilcoxon rank sum test with continuity correction\n",
      "\r\n",
      "\n",
      "\r\n",
      "data:  d by sex\n",
      "\r\n",
      "W = 17152, p-value = 4.952e-05\n",
      "\r\n",
      "alternative hypothesis: true location shift is not equal to 0\n",
      "\r\n",
      "\n",
      "\n"
     ]
    }
   ],
   "source": [
    "print(R('wilcox.test(d ~ sex, data=frames)'))"
   ]
  },
  {
   "cell_type": "markdown",
   "metadata": {},
   "source": [
    "## Providing estimates of abundance and volumetric density of fish using individual 3D coordinates"
   ]
  },
  {
   "cell_type": "markdown",
   "metadata": {},
   "source": [
    "Using convex hulls we are able to estimate the density of a set of fish."
   ]
  },
  {
   "cell_type": "code",
   "execution_count": 28,
   "metadata": {},
   "outputs": [
    {
     "data": {
      "text/html": [
       "<div>\n",
       "<style scoped>\n",
       "    .dataframe tbody tr th:only-of-type {\n",
       "        vertical-align: middle;\n",
       "    }\n",
       "\n",
       "    .dataframe tbody tr th {\n",
       "        vertical-align: top;\n",
       "    }\n",
       "\n",
       "    .dataframe thead th {\n",
       "        text-align: right;\n",
       "    }\n",
       "</style>\n",
       "<table border=\"1\" class=\"dataframe\">\n",
       "  <thead>\n",
       "    <tr style=\"text-align: right;\">\n",
       "      <th></th>\n",
       "      <th>c</th>\n",
       "      <th>sex</th>\n",
       "    </tr>\n",
       "  </thead>\n",
       "  <tbody>\n",
       "    <tr>\n",
       "      <th>0</th>\n",
       "      <td>2.450088</td>\n",
       "      <td>F</td>\n",
       "    </tr>\n",
       "    <tr>\n",
       "      <th>1</th>\n",
       "      <td>1.228412</td>\n",
       "      <td>M</td>\n",
       "    </tr>\n",
       "    <tr>\n",
       "      <th>2</th>\n",
       "      <td>3.620624</td>\n",
       "      <td>F</td>\n",
       "    </tr>\n",
       "    <tr>\n",
       "      <th>3</th>\n",
       "      <td>1.186523</td>\n",
       "      <td>M</td>\n",
       "    </tr>\n",
       "    <tr>\n",
       "      <th>4</th>\n",
       "      <td>3.429632</td>\n",
       "      <td>F</td>\n",
       "    </tr>\n",
       "    <tr>\n",
       "      <th>5</th>\n",
       "      <td>1.091303</td>\n",
       "      <td>M</td>\n",
       "    </tr>\n",
       "    <tr>\n",
       "      <th>6</th>\n",
       "      <td>5.168258</td>\n",
       "      <td>F</td>\n",
       "    </tr>\n",
       "    <tr>\n",
       "      <th>7</th>\n",
       "      <td>1.601316</td>\n",
       "      <td>M</td>\n",
       "    </tr>\n",
       "    <tr>\n",
       "      <th>8</th>\n",
       "      <td>2.203265</td>\n",
       "      <td>F</td>\n",
       "    </tr>\n",
       "    <tr>\n",
       "      <th>9</th>\n",
       "      <td>2.369772</td>\n",
       "      <td>M</td>\n",
       "    </tr>\n",
       "    <tr>\n",
       "      <th>11</th>\n",
       "      <td>1.402278</td>\n",
       "      <td>M</td>\n",
       "    </tr>\n",
       "    <tr>\n",
       "      <th>13</th>\n",
       "      <td>3.562269</td>\n",
       "      <td>M</td>\n",
       "    </tr>\n",
       "    <tr>\n",
       "      <th>15</th>\n",
       "      <td>1.823780</td>\n",
       "      <td>M</td>\n",
       "    </tr>\n",
       "    <tr>\n",
       "      <th>17</th>\n",
       "      <td>2.947524</td>\n",
       "      <td>M</td>\n",
       "    </tr>\n",
       "    <tr>\n",
       "      <th>19</th>\n",
       "      <td>2.536074</td>\n",
       "      <td>M</td>\n",
       "    </tr>\n",
       "    <tr>\n",
       "      <th>20</th>\n",
       "      <td>4.947402</td>\n",
       "      <td>F</td>\n",
       "    </tr>\n",
       "    <tr>\n",
       "      <th>22</th>\n",
       "      <td>2.928430</td>\n",
       "      <td>F</td>\n",
       "    </tr>\n",
       "  </tbody>\n",
       "</table>\n",
       "</div>"
      ],
      "text/plain": [
       "           c sex\n",
       "0   2.450088   F\n",
       "1   1.228412   M\n",
       "2   3.620624   F\n",
       "3   1.186523   M\n",
       "4   3.429632   F\n",
       "5   1.091303   M\n",
       "6   5.168258   F\n",
       "7   1.601316   M\n",
       "8   2.203265   F\n",
       "9   2.369772   M\n",
       "11  1.402278   M\n",
       "13  3.562269   M\n",
       "15  1.823780   M\n",
       "17  2.947524   M\n",
       "19  2.536074   M\n",
       "20  4.947402   F\n",
       "22  2.928430   F"
      ]
     },
     "execution_count": 28,
     "metadata": {},
     "output_type": "execute_result"
    }
   ],
   "source": [
    "from RGHAFS20.concentration import convex_hull_concentration\n",
    "frames = []\n",
    "for id_frame in range(1,13):\n",
    "    frame = read_csv(os.path.join('share',\n",
    "                                  'frame_' + str(id_frame) + '/points.csv'),\n",
    "                     sep='\\t')\n",
    "    for sex in ['F', 'M']:\n",
    "        X, Y, Z = SI(frame[frame.Type == sex], 'micro')\n",
    "        c = convex_hull_concentration(X, Y, Z, nmin=3)\n",
    "        frames.append([c, sex])\n",
    "frames = DataFrame(data=frames, columns=['c', 'sex'])\n",
    "R.assign('frames', frames)\n",
    "frames.dropna(0, 'any')"
   ]
  },
  {
   "cell_type": "markdown",
   "metadata": {},
   "source": [
    "Given the number of frames the data is limited.\n",
    "Nevertheless males and females could be compared using Wilcoxon rank sum test for instances."
   ]
  },
  {
   "cell_type": "code",
   "execution_count": 29,
   "metadata": {},
   "outputs": [
    {
     "name": "stdout",
     "output_type": "stream",
     "text": [
      "\n",
      "\r\n",
      "\tWilcoxon rank sum test\n",
      "\r\n",
      "\n",
      "\r\n",
      "data:  c by sex\n",
      "\r\n",
      "W = 60, p-value = 0.01357\n",
      "\r\n",
      "alternative hypothesis: true location shift is not equal to 0\n",
      "\r\n",
      "\n",
      "\n"
     ]
    }
   ],
   "source": [
    "print(R('wilcox.test(c ~ sex, data=frames)'))"
   ]
  },
  {
   "cell_type": "markdown",
   "metadata": {},
   "source": [
    "But this approach is not entirely satisfying since one compare densities between different frames.\n",
    "Fish groups are therefore have not the same size and it could be relevant only if fishes are uniformly distributed into their convex hull.\n",
    "In order to investigate this property we considered the density as a function of the distance of the barycenter of fish groups.\n",
    "As illustrated on the below (log of density as function of the log distance to the barycenter) the fishes are clearly not uniformly distributed into their convex-hulls."
   ]
  },
  {
   "cell_type": "code",
   "execution_count": 30,
   "metadata": {},
   "outputs": [
    {
     "data": {
      "image/png": "[encoded data removed]",
      "text/plain": [
       "<Figure size 1080x360 with 1 Axes>"
      ]
     },
     "metadata": {
      "needs_background": "light"
     },
     "output_type": "display_data"
    }
   ],
   "source": [
    "from RGHAFS20.concentration import radiuses\n",
    "fig = plt.figure(figsize=(15,5))\n",
    "axes = plt.subplot(1,1,1)\n",
    "logx = True\n",
    "logy = True\n",
    "frames = []\n",
    "for id_frame in range(1,13):\n",
    "    frame = read_csv(os.path.join('share',\n",
    "                                  'frame_' + str(id_frame) + '/points.csv'),\n",
    "                     sep='\\t')\n",
    "    for sex, color in zip(['F', 'M'], ['ko', 'kD']):\n",
    "        X, Y, Z = SI(frame[frame.Type == sex], 'micro')\n",
    "        r = radiuses(X, Y, Z)\n",
    "        c = [convex_hull_concentration(X, Y, Z, i, nmin=7) for i in r]\n",
    "        if logx:\n",
    "            r = [math.log(r) for r in r]\n",
    "        if logy:\n",
    "            c = [math.log(c) for c in c]\n",
    "        plt.plot(r,c,color, markersize=10., alpha=.3+.3*(sex=='M'))\n",
    "        for r, c in zip(r, c):\n",
    "            frames.append([r, c, sex])\n",
    "frames = DataFrame(data=frames, columns=['r', 'c', 'sex'])\n",
    "R.assign('frames', frames)\n",
    "axes.set_xlabel('Distance to the barycenter')\n",
    "axes.set_ylabel('Concentration')\n",
    "fig.savefig('density.svg')"
   ]
  },
  {
   "cell_type": "markdown",
   "metadata": {},
   "source": [
    "In fact, it seems that for a group $i$ of individuals of same sex $s_i$: \n",
    "\n",
    "$$ \\log(d_i) = \\alpha_{s_i} + \\beta_{s_i} \\times r_i + \\epsilon_i$$\n",
    "\n",
    "where:\n",
    "\n",
    "* $d_i$ is the density of the group,\n",
    "* $r_i$ is the maximal distance to the barycenter encountered in the group $i$,\n",
    "* $\\epsilon_i$"
   ]
  },
  {
   "cell_type": "code",
   "execution_count": 31,
   "metadata": {},
   "outputs": [],
   "source": [
    "%%R\n",
    "reg = lm('c ~ r * sex', data=frames)"
   ]
  },
  {
   "cell_type": "code",
   "execution_count": 32,
   "metadata": {},
   "outputs": [
    {
     "name": "stdout",
     "output_type": "stream",
     "text": [
      "\n",
      "\r\n",
      "Call:\n",
      "\r\n",
      "lm(formula = \"c ~ r * sex\", data = frames)\n",
      "\r\n",
      "\n",
      "\r\n",
      "Residuals:\n",
      "\r\n",
      "     Min       1Q   Median       3Q      Max \n",
      "\r\n",
      "-0.80550 -0.23397 -0.01438  0.14569  1.22272 \n",
      "\r\n",
      "\n",
      "\r\n",
      "Coefficients:\n",
      "\r\n",
      "            Estimate Std. Error t value Pr(>|t|)    \n",
      "\r\n",
      "(Intercept)  3.23361    0.04938  65.483  < 2e-16 ***\n",
      "\r\n",
      "r           -0.91688    0.04654 -19.703  < 2e-16 ***\n",
      "\r\n",
      "sexM        -1.02108    0.25270  -4.041 8.19e-05 ***\n",
      "\r\n",
      "r:sexM       0.22339    0.16192   1.380     0.17    \n",
      "\r\n",
      "---\n",
      "\r\n",
      "Signif. codes:  0 '***' 0.001 '**' 0.01 '*' 0.05 '.' 0.1 ' ' 1\n",
      "\r\n",
      "\n",
      "\r\n",
      "Residual standard error: 0.3541 on 163 degrees of freedom\n",
      "\r\n",
      "  (135 observations deleted due to missingness)\n",
      "\r\n",
      "Multiple R-squared:  0.8376,\tAdjusted R-squared:  0.8346 \n",
      "\r\n",
      "F-statistic: 280.3 on 3 and 163 DF,  p-value: < 2.2e-16\n",
      "\r\n",
      "\n",
      "\n"
     ]
    }
   ],
   "source": [
    "print(R('summary(reg)'))"
   ]
  },
  {
   "cell_type": "code",
   "execution_count": 33,
   "metadata": {},
   "outputs": [
    {
     "name": "stdout",
     "output_type": "stream",
     "text": [
      "\n",
      "\r\n",
      "Call:\n",
      "\r\n",
      "lm(formula = c ~ r + sex, data = frames)\n",
      "\r\n",
      "\n",
      "\r\n",
      "Residuals:\n",
      "\r\n",
      "     Min       1Q   Median       3Q      Max \n",
      "\r\n",
      "-0.75758 -0.22691 -0.02436  0.14913  1.32342 \n",
      "\r\n",
      "\n",
      "\r\n",
      "Coefficients:\n",
      "\r\n",
      "            Estimate Std. Error t value Pr(>|t|)    \n",
      "\r\n",
      "(Intercept)  3.21846    0.04828  66.665   <2e-16 ***\n",
      "\r\n",
      "r           -0.89843    0.04470 -20.101   <2e-16 ***\n",
      "\r\n",
      "sexM        -0.68714    0.07278  -9.441   <2e-16 ***\n",
      "\r\n",
      "---\n",
      "\r\n",
      "Signif. codes:  0 '***' 0.001 '**' 0.01 '*' 0.05 '.' 0.1 ' ' 1\n",
      "\r\n",
      "\n",
      "\r\n",
      "Residual standard error: 0.3551 on 164 degrees of freedom\n",
      "\r\n",
      "  (135 observations deleted due to missingness)\n",
      "\r\n",
      "Multiple R-squared:  0.8357,\tAdjusted R-squared:  0.8337 \n",
      "\r\n",
      "F-statistic: 417.2 on 2 and 164 DF,  p-value: < 2.2e-16\n",
      "\r\n",
      "\n",
      "\n"
     ]
    }
   ],
   "source": [
    "print(R('summary(step(reg))'))"
   ]
  },
  {
   "cell_type": "markdown",
   "metadata": {},
   "source": [
    "When fitting the linear model to data, both test and model selection approaches propose to consider the following model (the slope is not depending on the sex) :\n",
    "\n",
    "$$ \\log(d_i) = \\alpha_{s_i} + \\beta \\times r_i + \\epsilon_i$$\n",
    "\n",
    "This is particularly interesting since the difference between males and females is therefore only concerning the intercept.\n",
    "Then\n",
    "\n",
    "$$\\forall r \\in \\mathbb{R}^+, \\quad \\frac{d_M}{d_F} = \\exp(\\alpha_{M}-\\alpha_{F}) $$\n",
    "\n",
    "can be used to compare densities."
   ]
  },
  {
   "cell_type": "code",
   "execution_count": 34,
   "metadata": {},
   "outputs": [],
   "source": [
    "%%R\n",
    "reg = lm('c ~ r + sex', data=frames)\n",
    "coefficients = summary(reg)$coefficients\n",
    "prd = predict(reg, na.action = na.exclude)"
   ]
  },
  {
   "cell_type": "code",
   "execution_count": 35,
   "metadata": {},
   "outputs": [
    {
     "name": "stdout",
     "output_type": "stream",
     "text": [
      "\n",
      "\r\n",
      "Call:\n",
      "\r\n",
      "lm(formula = \"c ~ r + sex\", data = frames)\n",
      "\r\n",
      "\n",
      "\r\n",
      "Residuals:\n",
      "\r\n",
      "     Min       1Q   Median       3Q      Max \n",
      "\r\n",
      "-0.75758 -0.22691 -0.02436  0.14913  1.32342 \n",
      "\r\n",
      "\n",
      "\r\n",
      "Coefficients:\n",
      "\r\n",
      "            Estimate Std. Error t value Pr(>|t|)    \n",
      "\r\n",
      "(Intercept)  3.21846    0.04828  66.665   <2e-16 ***\n",
      "\r\n",
      "r           -0.89843    0.04470 -20.101   <2e-16 ***\n",
      "\r\n",
      "sexM        -0.68714    0.07278  -9.441   <2e-16 ***\n",
      "\r\n",
      "---\n",
      "\r\n",
      "Signif. codes:  0 '***' 0.001 '**' 0.01 '*' 0.05 '.' 0.1 ' ' 1\n",
      "\r\n",
      "\n",
      "\r\n",
      "Residual standard error: 0.3551 on 164 degrees of freedom\n",
      "\r\n",
      "  (135 observations deleted due to missingness)\n",
      "\r\n",
      "Multiple R-squared:  0.8357,\tAdjusted R-squared:  0.8337 \n",
      "\r\n",
      "F-statistic: 417.2 on 2 and 164 DF,  p-value: < 2.2e-16\n",
      "\r\n",
      "\n",
      "\n"
     ]
    }
   ],
   "source": [
    "print(R('summary(reg)'))"
   ]
  },
  {
   "cell_type": "markdown",
   "metadata": {},
   "source": [
    "From this table we have $\\alpha_M - \\alpha_F = -0.68714$.\n",
    "For a same radius of an enclosing circle, the density of females is therefore $\\frac{1}{\\exp(-0.68714)} \\approx \\frac{1}{.50} \\approx 2.$ times higher that the one of males."
   ]
  },
  {
   "cell_type": "code",
   "execution_count": 36,
   "metadata": {},
   "outputs": [],
   "source": [
    "newframes = DataFrame(data=[[-.5, 'M'], [3.5, \"M\"]], columns=['r', 'sex'])\n",
    "newframes\n",
    "_ = R.assign('newframes', newframes)"
   ]
  },
  {
   "cell_type": "code",
   "execution_count": 37,
   "metadata": {},
   "outputs": [],
   "source": [
    "%%R\n",
    "Mpred = predict(reg, newframes)"
   ]
  },
  {
   "cell_type": "code",
   "execution_count": 38,
   "metadata": {},
   "outputs": [],
   "source": [
    "newframes = DataFrame(data=[[-.5, 'F'], [3.5, \"F\"]], columns=['r', 'sex'])\n",
    "_ = R.assign('newframes', newframes)"
   ]
  },
  {
   "cell_type": "code",
   "execution_count": 39,
   "metadata": {},
   "outputs": [],
   "source": [
    "%%R\n",
    "Fpred = predict(reg, newframes)"
   ]
  },
  {
   "cell_type": "code",
   "execution_count": 40,
   "metadata": {},
   "outputs": [
    {
     "data": {
      "image/png": "[encoded data removed]",
      "text/plain": [
       "<Figure size 1080x360 with 1 Axes>"
      ]
     },
     "metadata": {
      "needs_background": "light"
     },
     "output_type": "display_data"
    }
   ],
   "source": [
    "%Rpull Mpred\n",
    "%Rpull Fpred\n",
    "fig = plt.figure(figsize=(15,5))\n",
    "axes = plt.subplot(1,1,1)\n",
    "axes.plot(frames.r[frames.sex == 'F'], frames.c[frames.sex == 'F'], 'ko', markersize=10., alpha=.3)\n",
    "axes.plot(frames.r[frames.sex == 'M'], frames.c[frames.sex == 'M'], 'kD', markersize=10., alpha=.6)\n",
    "axes.plot([-.5, 3.5], list(Fpred), 'k:')\n",
    "axes.plot([-.5, 3.5], list(Mpred), 'k--')\n",
    "axes.set_xlabel('Distance to the barycenter')\n",
    "axes.set_ylabel('Concentration')\n",
    "fig.savefig('density.svg')"
   ]
  }
 ],
 "metadata": {
  "kernelspec": {
   "display_name": "Python 3",
   "language": "python",
   "name": "python3"
  },
  "language_info": {
   "codemirror_mode": {
    "name": "ipython",
    "version": 3
   },
   "file_extension": ".py",
   "mimetype": "text/x-python",
   "name": "python",
   "nbconvert_exporter": "python",
   "pygments_lexer": "ipython3",
   "version": "3.6.10"
  }
 },
 "nbformat": 4,
 "nbformat_minor": 1
}
