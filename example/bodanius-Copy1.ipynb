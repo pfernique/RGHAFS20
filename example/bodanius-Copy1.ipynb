{
 "cells": [
  {
   "cell_type": "code",
   "execution_count": 1,
   "metadata": {
    "collapsed": false
   },
   "outputs": [],
   "source": [
    "%matplotlib inline\n",
    "import matplotlib\n",
    "matplotlib.rcParams['savefig.dpi'] = 80\n",
    "matplotlib.rcParams['savefig.bbox'] = 'tight'\n",
    "matplotlib.rcParams['svg.fonttype'] = 'none'"
   ]
  },
  {
   "cell_type": "markdown",
   "metadata": {},
   "source": [
    "# A new stereo-video approach to characterize and monitor reef fish spawning aggregations based on the first record of a spawning aggregation of the Mexican hogfish Bodianus diplotaenia in the Galapagos Marine Reserve\n",
    "\n",
    "Data are available in the `share` directory of this package:"
   ]
  },
  {
   "cell_type": "code",
   "execution_count": 2,
   "metadata": {
    "collapsed": false
   },
   "outputs": [],
   "source": [
    "from path import path\n",
    "data = path('../share')"
   ]
  },
  {
   "cell_type": "markdown",
   "metadata": {},
   "source": [
    "The [pandas](http://pandas.pydata.org/pandas-docs/stable/index.html) package is used for data manipulation."
   ]
  },
  {
   "cell_type": "code",
   "execution_count": 3,
   "metadata": {
    "collapsed": false
   },
   "outputs": [],
   "source": [
    "from pandas import DataFrame, read_csv, np"
   ]
  },
  {
   "cell_type": "markdown",
   "metadata": {},
   "source": [
    "The [matplotlib](http://matplotlib.org/) package is used for $2$D data visualization."
   ]
  },
  {
   "cell_type": "code",
   "execution_count": 4,
   "metadata": {
    "collapsed": true
   },
   "outputs": [],
   "source": [
    "from matplotlib import pyplot as plt"
   ]
  },
  {
   "cell_type": "markdown",
   "metadata": {},
   "source": [
    "Import [RPy2](http://rpy.sourceforge.net/) package for R analyses embedded in the IPython notebook"
   ]
  },
  {
   "cell_type": "code",
   "execution_count": 11,
   "metadata": {
    "collapsed": false
   },
   "outputs": [
    {
     "ename": "ImportError",
     "evalue": "No module named simplegeneric",
     "output_type": "error",
     "traceback": [
      "\u001b[1;31m---------------------------------------------------------------------------\u001b[0m",
      "\u001b[1;31mImportError\u001b[0m                               Traceback (most recent call last)",
      "\u001b[1;32m<ipython-input-11-4f1d7f591c2d>\u001b[0m in \u001b[0;36m<module>\u001b[1;34m()\u001b[0m\n\u001b[0;32m      1\u001b[0m \u001b[1;32mimport\u001b[0m \u001b[0mrpy2\u001b[0m\u001b[1;33m\u001b[0m\u001b[0m\n\u001b[1;32m----> 2\u001b[1;33m \u001b[0mget_ipython\u001b[0m\u001b[1;33m(\u001b[0m\u001b[1;33m)\u001b[0m\u001b[1;33m.\u001b[0m\u001b[0mmagic\u001b[0m\u001b[1;33m(\u001b[0m\u001b[1;34mu'reload_ext rpy2.ipython'\u001b[0m\u001b[1;33m)\u001b[0m\u001b[1;33m\u001b[0m\u001b[0m\n\u001b[0m\u001b[0;32m      3\u001b[0m \u001b[0mget_ipython\u001b[0m\u001b[1;33m(\u001b[0m\u001b[1;33m)\u001b[0m\u001b[1;33m.\u001b[0m\u001b[0mmagic\u001b[0m\u001b[1;33m(\u001b[0m\u001b[1;34mu'Rpush data'\u001b[0m\u001b[1;33m)\u001b[0m\u001b[1;33m\u001b[0m\u001b[0m\n",
      "\u001b[1;32m/usr/local/lib/python2.7/dist-packages/ipython-4.0.0-py2.7.egg/IPython/core/interactiveshell.pyc\u001b[0m in \u001b[0;36mmagic\u001b[1;34m(self, arg_s)\u001b[0m\n\u001b[0;32m   2334\u001b[0m         \u001b[0mmagic_name\u001b[0m\u001b[1;33m,\u001b[0m \u001b[0m_\u001b[0m\u001b[1;33m,\u001b[0m \u001b[0mmagic_arg_s\u001b[0m \u001b[1;33m=\u001b[0m \u001b[0marg_s\u001b[0m\u001b[1;33m.\u001b[0m\u001b[0mpartition\u001b[0m\u001b[1;33m(\u001b[0m\u001b[1;34m' '\u001b[0m\u001b[1;33m)\u001b[0m\u001b[1;33m\u001b[0m\u001b[0m\n\u001b[0;32m   2335\u001b[0m         \u001b[0mmagic_name\u001b[0m \u001b[1;33m=\u001b[0m \u001b[0mmagic_name\u001b[0m\u001b[1;33m.\u001b[0m\u001b[0mlstrip\u001b[0m\u001b[1;33m(\u001b[0m\u001b[0mprefilter\u001b[0m\u001b[1;33m.\u001b[0m\u001b[0mESC_MAGIC\u001b[0m\u001b[1;33m)\u001b[0m\u001b[1;33m\u001b[0m\u001b[0m\n\u001b[1;32m-> 2336\u001b[1;33m         \u001b[1;32mreturn\u001b[0m \u001b[0mself\u001b[0m\u001b[1;33m.\u001b[0m\u001b[0mrun_line_magic\u001b[0m\u001b[1;33m(\u001b[0m\u001b[0mmagic_name\u001b[0m\u001b[1;33m,\u001b[0m \u001b[0mmagic_arg_s\u001b[0m\u001b[1;33m)\u001b[0m\u001b[1;33m\u001b[0m\u001b[0m\n\u001b[0m\u001b[0;32m   2337\u001b[0m \u001b[1;33m\u001b[0m\u001b[0m\n\u001b[0;32m   2338\u001b[0m     \u001b[1;31m#-------------------------------------------------------------------------\u001b[0m\u001b[1;33m\u001b[0m\u001b[1;33m\u001b[0m\u001b[0m\n",
      "\u001b[1;32m/usr/local/lib/python2.7/dist-packages/ipython-4.0.0-py2.7.egg/IPython/core/interactiveshell.pyc\u001b[0m in \u001b[0;36mrun_line_magic\u001b[1;34m(self, magic_name, line)\u001b[0m\n\u001b[0;32m   2255\u001b[0m                 \u001b[0mkwargs\u001b[0m\u001b[1;33m[\u001b[0m\u001b[1;34m'local_ns'\u001b[0m\u001b[1;33m]\u001b[0m \u001b[1;33m=\u001b[0m \u001b[0msys\u001b[0m\u001b[1;33m.\u001b[0m\u001b[0m_getframe\u001b[0m\u001b[1;33m(\u001b[0m\u001b[0mstack_depth\u001b[0m\u001b[1;33m)\u001b[0m\u001b[1;33m.\u001b[0m\u001b[0mf_locals\u001b[0m\u001b[1;33m\u001b[0m\u001b[0m\n\u001b[0;32m   2256\u001b[0m             \u001b[1;32mwith\u001b[0m \u001b[0mself\u001b[0m\u001b[1;33m.\u001b[0m\u001b[0mbuiltin_trap\u001b[0m\u001b[1;33m:\u001b[0m\u001b[1;33m\u001b[0m\u001b[0m\n\u001b[1;32m-> 2257\u001b[1;33m                 \u001b[0mresult\u001b[0m \u001b[1;33m=\u001b[0m \u001b[0mfn\u001b[0m\u001b[1;33m(\u001b[0m\u001b[1;33m*\u001b[0m\u001b[0margs\u001b[0m\u001b[1;33m,\u001b[0m\u001b[1;33m**\u001b[0m\u001b[0mkwargs\u001b[0m\u001b[1;33m)\u001b[0m\u001b[1;33m\u001b[0m\u001b[0m\n\u001b[0m\u001b[0;32m   2258\u001b[0m             \u001b[1;32mreturn\u001b[0m \u001b[0mresult\u001b[0m\u001b[1;33m\u001b[0m\u001b[0m\n\u001b[0;32m   2259\u001b[0m \u001b[1;33m\u001b[0m\u001b[0m\n",
      "\u001b[1;32m/usr/local/lib/python2.7/dist-packages/ipython-4.0.0-py2.7.egg/IPython/core/magics/extension.pyc\u001b[0m in \u001b[0;36mreload_ext\u001b[1;34m(self, module_str)\u001b[0m\n",
      "\u001b[1;32m/usr/local/lib/python2.7/dist-packages/ipython-4.0.0-py2.7.egg/IPython/core/magic.pyc\u001b[0m in \u001b[0;36m<lambda>\u001b[1;34m(f, *a, **k)\u001b[0m\n\u001b[0;32m    191\u001b[0m     \u001b[1;31m# but it's overkill for just that one bit of state.\u001b[0m\u001b[1;33m\u001b[0m\u001b[1;33m\u001b[0m\u001b[0m\n\u001b[0;32m    192\u001b[0m     \u001b[1;32mdef\u001b[0m \u001b[0mmagic_deco\u001b[0m\u001b[1;33m(\u001b[0m\u001b[0marg\u001b[0m\u001b[1;33m)\u001b[0m\u001b[1;33m:\u001b[0m\u001b[1;33m\u001b[0m\u001b[0m\n\u001b[1;32m--> 193\u001b[1;33m         \u001b[0mcall\u001b[0m \u001b[1;33m=\u001b[0m \u001b[1;32mlambda\u001b[0m \u001b[0mf\u001b[0m\u001b[1;33m,\u001b[0m \u001b[1;33m*\u001b[0m\u001b[0ma\u001b[0m\u001b[1;33m,\u001b[0m \u001b[1;33m**\u001b[0m\u001b[0mk\u001b[0m\u001b[1;33m:\u001b[0m \u001b[0mf\u001b[0m\u001b[1;33m(\u001b[0m\u001b[1;33m*\u001b[0m\u001b[0ma\u001b[0m\u001b[1;33m,\u001b[0m \u001b[1;33m**\u001b[0m\u001b[0mk\u001b[0m\u001b[1;33m)\u001b[0m\u001b[1;33m\u001b[0m\u001b[0m\n\u001b[0m\u001b[0;32m    194\u001b[0m \u001b[1;33m\u001b[0m\u001b[0m\n\u001b[0;32m    195\u001b[0m         \u001b[1;32mif\u001b[0m \u001b[0mcallable\u001b[0m\u001b[1;33m(\u001b[0m\u001b[0marg\u001b[0m\u001b[1;33m)\u001b[0m\u001b[1;33m:\u001b[0m\u001b[1;33m\u001b[0m\u001b[0m\n",
      "\u001b[1;32m/usr/local/lib/python2.7/dist-packages/ipython-4.0.0-py2.7.egg/IPython/core/magics/extension.pyc\u001b[0m in \u001b[0;36mreload_ext\u001b[1;34m(self, module_str)\u001b[0m\n\u001b[0;32m     94\u001b[0m         \u001b[1;32mif\u001b[0m \u001b[1;32mnot\u001b[0m \u001b[0mmodule_str\u001b[0m\u001b[1;33m:\u001b[0m\u001b[1;33m\u001b[0m\u001b[0m\n\u001b[0;32m     95\u001b[0m             \u001b[1;32mraise\u001b[0m \u001b[0mUsageError\u001b[0m\u001b[1;33m(\u001b[0m\u001b[1;34m'Missing module name.'\u001b[0m\u001b[1;33m)\u001b[0m\u001b[1;33m\u001b[0m\u001b[0m\n\u001b[1;32m---> 96\u001b[1;33m         \u001b[0mself\u001b[0m\u001b[1;33m.\u001b[0m\u001b[0mshell\u001b[0m\u001b[1;33m.\u001b[0m\u001b[0mextension_manager\u001b[0m\u001b[1;33m.\u001b[0m\u001b[0mreload_extension\u001b[0m\u001b[1;33m(\u001b[0m\u001b[0mmodule_str\u001b[0m\u001b[1;33m)\u001b[0m\u001b[1;33m\u001b[0m\u001b[0m\n\u001b[0m",
      "\u001b[1;32m/usr/local/lib/python2.7/dist-packages/ipython-4.0.0-py2.7.egg/IPython/core/extensions.pyc\u001b[0m in \u001b[0;36mreload_extension\u001b[1;34m(self, module_str)\u001b[0m\n\u001b[0;32m    132\u001b[0m                 \u001b[0mself\u001b[0m\u001b[1;33m.\u001b[0m\u001b[0mloaded\u001b[0m\u001b[1;33m.\u001b[0m\u001b[0madd\u001b[0m\u001b[1;33m(\u001b[0m\u001b[0mmodule_str\u001b[0m\u001b[1;33m)\u001b[0m\u001b[1;33m\u001b[0m\u001b[0m\n\u001b[0;32m    133\u001b[0m         \u001b[1;32melse\u001b[0m\u001b[1;33m:\u001b[0m\u001b[1;33m\u001b[0m\u001b[0m\n\u001b[1;32m--> 134\u001b[1;33m             \u001b[0mself\u001b[0m\u001b[1;33m.\u001b[0m\u001b[0mload_extension\u001b[0m\u001b[1;33m(\u001b[0m\u001b[0mmodule_str\u001b[0m\u001b[1;33m)\u001b[0m\u001b[1;33m\u001b[0m\u001b[0m\n\u001b[0m\u001b[0;32m    135\u001b[0m \u001b[1;33m\u001b[0m\u001b[0m\n\u001b[0;32m    136\u001b[0m     \u001b[1;32mdef\u001b[0m \u001b[0m_call_load_ipython_extension\u001b[0m\u001b[1;33m(\u001b[0m\u001b[0mself\u001b[0m\u001b[1;33m,\u001b[0m \u001b[0mmod\u001b[0m\u001b[1;33m)\u001b[0m\u001b[1;33m:\u001b[0m\u001b[1;33m\u001b[0m\u001b[0m\n",
      "\u001b[1;32m/usr/local/lib/python2.7/dist-packages/ipython-4.0.0-py2.7.egg/IPython/core/extensions.pyc\u001b[0m in \u001b[0;36mload_extension\u001b[1;34m(self, module_str)\u001b[0m\n\u001b[0;32m     87\u001b[0m             \u001b[1;32mif\u001b[0m \u001b[0mmodule_str\u001b[0m \u001b[1;32mnot\u001b[0m \u001b[1;32min\u001b[0m \u001b[0msys\u001b[0m\u001b[1;33m.\u001b[0m\u001b[0mmodules\u001b[0m\u001b[1;33m:\u001b[0m\u001b[1;33m\u001b[0m\u001b[0m\n\u001b[0;32m     88\u001b[0m                 \u001b[1;32mwith\u001b[0m \u001b[0mprepended_to_syspath\u001b[0m\u001b[1;33m(\u001b[0m\u001b[0mself\u001b[0m\u001b[1;33m.\u001b[0m\u001b[0mipython_extension_dir\u001b[0m\u001b[1;33m)\u001b[0m\u001b[1;33m:\u001b[0m\u001b[1;33m\u001b[0m\u001b[0m\n\u001b[1;32m---> 89\u001b[1;33m                     \u001b[0m__import__\u001b[0m\u001b[1;33m(\u001b[0m\u001b[0mmodule_str\u001b[0m\u001b[1;33m)\u001b[0m\u001b[1;33m\u001b[0m\u001b[0m\n\u001b[0m\u001b[0;32m     90\u001b[0m             \u001b[0mmod\u001b[0m \u001b[1;33m=\u001b[0m \u001b[0msys\u001b[0m\u001b[1;33m.\u001b[0m\u001b[0mmodules\u001b[0m\u001b[1;33m[\u001b[0m\u001b[0mmodule_str\u001b[0m\u001b[1;33m]\u001b[0m\u001b[1;33m\u001b[0m\u001b[0m\n\u001b[0;32m     91\u001b[0m             \u001b[1;32mif\u001b[0m \u001b[0mself\u001b[0m\u001b[1;33m.\u001b[0m\u001b[0m_call_load_ipython_extension\u001b[0m\u001b[1;33m(\u001b[0m\u001b[0mmod\u001b[0m\u001b[1;33m)\u001b[0m\u001b[1;33m:\u001b[0m\u001b[1;33m\u001b[0m\u001b[0m\n",
      "\u001b[1;32m/usr/lib/python2.7/dist-packages/rpy2/ipython/__init__.py\u001b[0m in \u001b[0;36m<module>\u001b[1;34m()\u001b[0m\n\u001b[1;32m----> 1\u001b[1;33m \u001b[1;32mfrom\u001b[0m \u001b[1;33m.\u001b[0m\u001b[0mrmagic\u001b[0m \u001b[1;32mimport\u001b[0m \u001b[0mload_ipython_extension\u001b[0m\u001b[1;33m\u001b[0m\u001b[0m\n\u001b[0m",
      "\u001b[1;32m/usr/lib/python2.7/dist-packages/rpy2/ipython/rmagic.py\u001b[0m in \u001b[0;36m<module>\u001b[1;34m()\u001b[0m\n\u001b[0;32m     73\u001b[0m     \u001b[0margument\u001b[0m\u001b[1;33m,\u001b[0m \u001b[0mmagic_arguments\u001b[0m\u001b[1;33m,\u001b[0m \u001b[0mparse_argstring\u001b[0m\u001b[1;33m,\u001b[0m \u001b[0margument_group\u001b[0m\u001b[1;33m\u001b[0m\u001b[0m\n\u001b[0;32m     74\u001b[0m )\n\u001b[1;32m---> 75\u001b[1;33m \u001b[1;32mfrom\u001b[0m \u001b[0mIPython\u001b[0m\u001b[1;33m.\u001b[0m\u001b[0mexternal\u001b[0m\u001b[1;33m.\u001b[0m\u001b[0msimplegeneric\u001b[0m \u001b[1;32mimport\u001b[0m \u001b[0mgeneric\u001b[0m\u001b[1;33m\u001b[0m\u001b[0m\n\u001b[0m\u001b[0;32m     76\u001b[0m \u001b[1;32mfrom\u001b[0m \u001b[0mIPython\u001b[0m\u001b[1;33m.\u001b[0m\u001b[0mutils\u001b[0m\u001b[1;33m.\u001b[0m\u001b[0mpy3compat\u001b[0m \u001b[1;32mimport\u001b[0m \u001b[0mstr_to_unicode\u001b[0m\u001b[1;33m,\u001b[0m \u001b[0municode_to_str\u001b[0m\u001b[1;33m,\u001b[0m \u001b[0mPY3\u001b[0m\u001b[1;33m\u001b[0m\u001b[0m\n\u001b[0;32m     77\u001b[0m \u001b[1;33m\u001b[0m\u001b[0m\n",
      "\u001b[1;31mImportError\u001b[0m: No module named simplegeneric"
     ]
    }
   ],
   "source": [
    "import rpy2\n",
    "%reload_ext rpy2.ipython\n",
    "%Rpush data"
   ]
  },
  {
   "cell_type": "code",
   "execution_count": null,
   "metadata": {
    "collapsed": true
   },
   "outputs": [],
   "source": [
    "import math"
   ]
  },
  {
   "cell_type": "markdown",
   "metadata": {},
   "source": [
    "## Biomass\n",
    "\n",
    "In order to fit the allometric relationship between the length and weight, we use the linear model\n",
    "\n",
    "$$ \\log(w_i) = \\alpha + \\beta \\times \\log(l_i) + \\epsilon_i,$$\n",
    "\n",
    "where\n",
    "\n",
    "* $i$ denotes an individual,\n",
    "* $w_i$ denotes its weight,\n",
    "* $l_i$ denotes its length,\n",
    "* $\\alpha$ denotes the intercept (theoritical weight of fish of length $0.0$),\n",
    "* $\\beta$ denotes the slope.\n",
    "* $\\epsilon_i$ denotes the Gaussian noise."
   ]
  },
  {
   "cell_type": "code",
   "execution_count": null,
   "metadata": {
    "collapsed": false
   },
   "outputs": [],
   "source": [
    "biomass = read_csv(data/'biomass.csv', sep=',')\n",
    "fig = plt.figure(figsize=(15,5))\n",
    "axes = plt.subplot(1,1,1)\n",
    "logx = True\n",
    "logy = True\n",
    "x = biomass.FL\n",
    "y = biomass.W\n",
    "if logx:\n",
    "    x = [math.log(x) for x in x]\n",
    "if logy:\n",
    "    y = [math.log(y) for y in y]       \n",
    "plt.plot(x,y,'o')\n",
    "axes.set_xlabel('log(Length)')\n",
    "axes.set_ylabel('log(Weight)')"
   ]
  },
  {
   "cell_type": "code",
   "execution_count": null,
   "metadata": {
    "collapsed": false
   },
   "outputs": [],
   "source": [
    "%%R\n",
    "biomass = read.csv(paste(data, 'biomass.csv', sep=.Platform$file.sep), header=T, sep=',')\n",
    "reg = lm('log(W) ~ log(FL)', data=biomass)\n",
    "coefficients = summary(reg)$coefficients\n",
    "prd = predict(reg)\n",
    "summary(reg)"
   ]
  },
  {
   "cell_type": "code",
   "execution_count": 6,
   "metadata": {
    "collapsed": false
   },
   "outputs": [
    {
     "name": "stderr",
     "output_type": "stream",
     "text": [
      "ERROR: Cell magic `%%R` not found.\n"
     ]
    }
   ],
   "source": [
    "%%R\n",
    "par(mfrow=c(2,2))\n",
    "plot(reg)"
   ]
  },
  {
   "cell_type": "code",
   "execution_count": 10,
   "metadata": {
    "collapsed": false
   },
   "outputs": [
    {
     "data": {
      "image/png": "[encoded data removed]",
      "text/plain": [
       "<matplotlib.figure.Figure at 0x7f7c977f6610>"
      ]
     },
     "metadata": {},
     "output_type": "display_data"
    }
   ],
   "source": [
    "%Rpull prd\n",
    "fig = plt.figure(figsize=(15,5))\n",
    "axes = plt.subplot(1,1,1)\n",
    "plt.plot(x,y,'ko')\n",
    "plt.plot(x,list(prd),'k-')\n",
    "axes.set_xlabel('log(Length)')\n",
    "axes.set_ylabel('log(Weight)')\n",
    "fig.savefig('lW-lL.svg')"
   ]
  },
  {
   "cell_type": "code",
   "execution_count": 11,
   "metadata": {
    "collapsed": false
   },
   "outputs": [
    {
     "data": {
      "text/plain": [
       "15.172684452104935"
      ]
     },
     "execution_count": 11,
     "metadata": {},
     "output_type": "execute_result"
    }
   ],
   "source": [
    "math.sqrt(np.mean([(math.exp(i)-math.exp(j))**2 for i, j in zip(prd, y)]))/np.mean(y)"
   ]
  },
  {
   "cell_type": "code",
   "execution_count": 12,
   "metadata": {
    "collapsed": false
   },
   "outputs": [
    {
     "name": "stdout",
     "output_type": "stream",
     "text": [
      "277.160041175 295.0 -17.8399588246 1.07886146055\n",
      "327.604105182 342.0 -14.3958948177 0.605970139189\n",
      "404.661110457 389.0 15.6611104574 0.630515117631\n",
      "469.386992572 500.0 -30.6130074282 1.8743124476\n",
      "469.386992572 488.0 -18.6130074282 0.709926322794\n",
      "498.390492945 496.0 2.39049294466 0.0115210816905\n",
      "498.390492945 476.0 22.3904929447 1.05322305526\n",
      "579.656053404 554.0 25.656053404 1.18814634706\n",
      "668.793876927 571.0 97.793876927 16.7489358396\n",
      "668.793876927 735.0 -66.206123073 5.96360643858\n",
      "743.670301153 710.0 33.6703011529 1.59674532356\n",
      "857.887795043 905.0 -47.1122049566 2.45255232693\n",
      "857.887795043 784.0 73.8877950434 6.96352838823\n",
      "884.093182398 1000.0 -115.906817602 13.4343903665\n",
      "901.334844558 745.0 156.334844558 32.806152514\n",
      "974.237958077 1030.0 -55.7620419232 3.01884011597\n",
      "992.645745902 1017.0 -24.3542540981 0.583215037044\n",
      "1050.15212037 979.0 71.1521203661 5.17121984943\n",
      "1247.87026002 1248.0 -0.129739980937 1.34875502031e-05\n",
      "1384.33756299 1670.0 -285.66243701 48.864088574\n",
      "1432.33548414 1370.0 62.3354841383 2.83628655675\n",
      "1481.4461648 1545.0 -63.553835197 2.61429771408\n",
      "1544.13577383 1277.0 267.135773831 55.8821626159\n",
      "1583.05899068 1692.0 -108.941009324 7.01426921547\n",
      "1608.59488271 1587.0 21.5948827109 0.293849375738\n",
      "1812.84611863 1925.0 -112.153881366 6.53428213268\n",
      "1812.84611863 1689.0 123.846118634 9.08103084711\n",
      "1958.33262297 2050.0 -91.6673770295 4.09897951779\n",
      "2191.05703278 2195.0 -3.942967223 0.0070829113994\n",
      "2407.91142939 2395.0 12.9114293943 0.0696054317345\n",
      "2564.53010764 2825.0 -260.469892365 24.0157751605\n",
      "3100.85265834 2975.0 125.852658344 5.3239971806\n",
      "3459.62229577 3450.0 9.62229576855 0.0268372683645\n"
     ]
    }
   ],
   "source": [
    "for i, j in zip(list(prd), y):\n",
    "    print math.exp(i), math.exp(j), math.exp(i)-math.exp(j), (math.exp(i)-math.exp(j))**2/math.exp(j)"
   ]
  },
  {
   "cell_type": "markdown",
   "metadata": {},
   "source": [
    "## Selecting a site"
   ]
  },
  {
   "cell_type": "code",
   "execution_count": 13,
   "metadata": {
    "collapsed": false
   },
   "outputs": [
    {
     "data": {
      "text/html": [
       "<div style=\"max-height:1000px;max-width:1500px;overflow:auto;\">\n",
       "<table border=\"1\" class=\"dataframe\">\n",
       "  <thead>\n",
       "    <tr style=\"text-align: right;\">\n",
       "      <th></th>\n",
       "      <th>Site</th>\n",
       "      <th>Period</th>\n",
       "      <th>Transectos</th>\n",
       "      <th>Length</th>\n",
       "      <th>Species</th>\n",
       "      <th>Number</th>\n",
       "      <th>Stage</th>\n",
       "    </tr>\n",
       "  </thead>\n",
       "  <tbody>\n",
       "    <tr>\n",
       "      <th>115</th>\n",
       "      <td> Punta Suarez</td>\n",
       "      <td> C3</td>\n",
       "      <td> Punta Suarez C3</td>\n",
       "      <td> 372</td>\n",
       "      <td> Bodianus diplotaenia</td>\n",
       "      <td> 1</td>\n",
       "      <td> M</td>\n",
       "    </tr>\n",
       "    <tr>\n",
       "      <th>116</th>\n",
       "      <td> Punta Suarez</td>\n",
       "      <td> C3</td>\n",
       "      <td> Punta Suarez C3</td>\n",
       "      <td> 358</td>\n",
       "      <td> Bodianus diplotaenia</td>\n",
       "      <td> 1</td>\n",
       "      <td> M</td>\n",
       "    </tr>\n",
       "  </tbody>\n",
       "</table>\n",
       "</div>"
      ],
      "text/plain": [
       "             Site Period       Transectos  Length               Species  \\\n",
       "115  Punta Suarez     C3  Punta Suarez C3     372  Bodianus diplotaenia   \n",
       "116  Punta Suarez     C3  Punta Suarez C3     358  Bodianus diplotaenia   \n",
       "\n",
       "     Number Stage  \n",
       "115       1     M  \n",
       "116       1     M  "
      ]
     },
     "execution_count": 13,
     "metadata": {},
     "output_type": "execute_result"
    }
   ],
   "source": [
    "transect = read_csv(data/'transects_bis.csv', sep=',')\n",
    "temp = transect[transect.Period == 'C3']\n",
    "temp = temp[temp.Site == 'Punta Suarez']\n",
    "temp"
   ]
  },
  {
   "cell_type": "code",
   "execution_count": 14,
   "metadata": {
    "collapsed": false
   },
   "outputs": [
    {
     "data": {
      "text/plain": [
       "(11.799426840673846, 2)"
      ]
     },
     "execution_count": 14,
     "metadata": {},
     "output_type": "execute_result"
    }
   ],
   "source": [
    "sum(temp.Length.apply(math.log)), sum(temp.Number)"
   ]
  },
  {
   "cell_type": "code",
   "execution_count": 15,
   "metadata": {
    "collapsed": false
   },
   "outputs": [
    {
     "data": {
      "text/html": [
       "<div style=\"max-height:1000px;max-width:1500px;overflow:auto;\">\n",
       "<table border=\"1\" class=\"dataframe\">\n",
       "  <thead>\n",
       "    <tr style=\"text-align: right;\">\n",
       "      <th></th>\n",
       "      <th>Site</th>\n",
       "      <th>Period</th>\n",
       "      <th>Transectos</th>\n",
       "      <th>Length</th>\n",
       "      <th>Species</th>\n",
       "      <th>Number</th>\n",
       "      <th>Stage</th>\n",
       "    </tr>\n",
       "  </thead>\n",
       "  <tbody>\n",
       "    <tr>\n",
       "      <th>0  </th>\n",
       "      <td> Bahia Gardner norte</td>\n",
       "      <td> C1</td>\n",
       "      <td> Bahia Gardner norte C1</td>\n",
       "      <td> 377</td>\n",
       "      <td> Bodianus diplotaenia</td>\n",
       "      <td> 1</td>\n",
       "      <td>  M</td>\n",
       "    </tr>\n",
       "    <tr>\n",
       "      <th>1  </th>\n",
       "      <td> Bahia Gardner norte</td>\n",
       "      <td> C1</td>\n",
       "      <td> Bahia Gardner norte C1</td>\n",
       "      <td> 197</td>\n",
       "      <td> Bodianus diplotaenia</td>\n",
       "      <td> 1</td>\n",
       "      <td>  F</td>\n",
       "    </tr>\n",
       "    <tr>\n",
       "      <th>2  </th>\n",
       "      <td> Bahia Gardner norte</td>\n",
       "      <td> C1</td>\n",
       "      <td> Bahia Gardner norte C1</td>\n",
       "      <td> 249</td>\n",
       "      <td> Bodianus diplotaenia</td>\n",
       "      <td> 1</td>\n",
       "      <td>  F</td>\n",
       "    </tr>\n",
       "    <tr>\n",
       "      <th>3  </th>\n",
       "      <td> Bahia Gardner norte</td>\n",
       "      <td> C1</td>\n",
       "      <td> Bahia Gardner norte C1</td>\n",
       "      <td> 256</td>\n",
       "      <td> Bodianus diplotaenia</td>\n",
       "      <td> 1</td>\n",
       "      <td>  F</td>\n",
       "    </tr>\n",
       "    <tr>\n",
       "      <th>4  </th>\n",
       "      <td> Bahia Gardner norte</td>\n",
       "      <td> C1</td>\n",
       "      <td> Bahia Gardner norte C1</td>\n",
       "      <td> 284</td>\n",
       "      <td> Bodianus diplotaenia</td>\n",
       "      <td> 1</td>\n",
       "      <td>  F</td>\n",
       "    </tr>\n",
       "    <tr>\n",
       "      <th>5  </th>\n",
       "      <td> Bahia Gardner norte</td>\n",
       "      <td> C1</td>\n",
       "      <td> Bahia Gardner norte C1</td>\n",
       "      <td> 255</td>\n",
       "      <td> Bodianus diplotaenia</td>\n",
       "      <td> 1</td>\n",
       "      <td>  F</td>\n",
       "    </tr>\n",
       "    <tr>\n",
       "      <th>6  </th>\n",
       "      <td> Bahia Gardner norte</td>\n",
       "      <td> C1</td>\n",
       "      <td> Bahia Gardner norte C1</td>\n",
       "      <td> 363</td>\n",
       "      <td> Bodianus diplotaenia</td>\n",
       "      <td> 1</td>\n",
       "      <td>  M</td>\n",
       "    </tr>\n",
       "    <tr>\n",
       "      <th>7  </th>\n",
       "      <td> Bahia Gardner norte</td>\n",
       "      <td> C3</td>\n",
       "      <td> Bahia Gardner norte C3</td>\n",
       "      <td> 332</td>\n",
       "      <td> Bodianus diplotaenia</td>\n",
       "      <td> 1</td>\n",
       "      <td> AD</td>\n",
       "    </tr>\n",
       "    <tr>\n",
       "      <th>8  </th>\n",
       "      <td> Bahia Gardner norte</td>\n",
       "      <td> C3</td>\n",
       "      <td> Bahia Gardner norte C3</td>\n",
       "      <td> 166</td>\n",
       "      <td> Bodianus diplotaenia</td>\n",
       "      <td> 1</td>\n",
       "      <td>  F</td>\n",
       "    </tr>\n",
       "    <tr>\n",
       "      <th>9  </th>\n",
       "      <td> Bahia Gardner norte</td>\n",
       "      <td> C3</td>\n",
       "      <td> Bahia Gardner norte C3</td>\n",
       "      <td> 224</td>\n",
       "      <td> Bodianus diplotaenia</td>\n",
       "      <td> 1</td>\n",
       "      <td>  F</td>\n",
       "    </tr>\n",
       "    <tr>\n",
       "      <th>10 </th>\n",
       "      <td> Bahia Gardner norte</td>\n",
       "      <td> C3</td>\n",
       "      <td> Bahia Gardner norte C3</td>\n",
       "      <td> 389</td>\n",
       "      <td> Bodianus diplotaenia</td>\n",
       "      <td> 1</td>\n",
       "      <td>  M</td>\n",
       "    </tr>\n",
       "    <tr>\n",
       "      <th>11 </th>\n",
       "      <td> Bahia Gardner norte</td>\n",
       "      <td> A1</td>\n",
       "      <td> Bahia Gardner norte A1</td>\n",
       "      <td> 324</td>\n",
       "      <td> Bodianus diplotaenia</td>\n",
       "      <td> 1</td>\n",
       "      <td>  M</td>\n",
       "    </tr>\n",
       "    <tr>\n",
       "      <th>12 </th>\n",
       "      <td> Bahia Gardner norte</td>\n",
       "      <td> A1</td>\n",
       "      <td> Bahia Gardner norte A1</td>\n",
       "      <td> 220</td>\n",
       "      <td> Bodianus diplotaenia</td>\n",
       "      <td> 1</td>\n",
       "      <td>  F</td>\n",
       "    </tr>\n",
       "    <tr>\n",
       "      <th>13 </th>\n",
       "      <td> Bahia Gardner norte</td>\n",
       "      <td> A1</td>\n",
       "      <td> Bahia Gardner norte A1</td>\n",
       "      <td> 333</td>\n",
       "      <td> Bodianus diplotaenia</td>\n",
       "      <td> 1</td>\n",
       "      <td>  M</td>\n",
       "    </tr>\n",
       "    <tr>\n",
       "      <th>14 </th>\n",
       "      <td> Bahia Gardner norte</td>\n",
       "      <td> A1</td>\n",
       "      <td> Bahia Gardner norte A1</td>\n",
       "      <td> 445</td>\n",
       "      <td> Bodianus diplotaenia</td>\n",
       "      <td> 1</td>\n",
       "      <td>  M</td>\n",
       "    </tr>\n",
       "    <tr>\n",
       "      <th>15 </th>\n",
       "      <td> Bahia Gardner norte</td>\n",
       "      <td> A1</td>\n",
       "      <td> Bahia Gardner norte A1</td>\n",
       "      <td> 345</td>\n",
       "      <td> Bodianus diplotaenia</td>\n",
       "      <td> 1</td>\n",
       "      <td>  M</td>\n",
       "    </tr>\n",
       "    <tr>\n",
       "      <th>16 </th>\n",
       "      <td> Bahia Gardner norte</td>\n",
       "      <td> A1</td>\n",
       "      <td> Bahia Gardner norte A1</td>\n",
       "      <td> 307</td>\n",
       "      <td> Bodianus diplotaenia</td>\n",
       "      <td> 1</td>\n",
       "      <td>  M</td>\n",
       "    </tr>\n",
       "    <tr>\n",
       "      <th>17 </th>\n",
       "      <td> Bahia Gardner norte</td>\n",
       "      <td> A1</td>\n",
       "      <td> Bahia Gardner norte A1</td>\n",
       "      <td> 398</td>\n",
       "      <td> Bodianus diplotaenia</td>\n",
       "      <td> 1</td>\n",
       "      <td>  M</td>\n",
       "    </tr>\n",
       "    <tr>\n",
       "      <th>18 </th>\n",
       "      <td> Bahia Gardner norte</td>\n",
       "      <td> A1</td>\n",
       "      <td> Bahia Gardner norte A1</td>\n",
       "      <td> 360</td>\n",
       "      <td> Bodianus diplotaenia</td>\n",
       "      <td> 1</td>\n",
       "      <td>  M</td>\n",
       "    </tr>\n",
       "    <tr>\n",
       "      <th>19 </th>\n",
       "      <td> Bahia Gardner norte</td>\n",
       "      <td> A1</td>\n",
       "      <td> Bahia Gardner norte A1</td>\n",
       "      <td> 417</td>\n",
       "      <td> Bodianus diplotaenia</td>\n",
       "      <td> 1</td>\n",
       "      <td>  M</td>\n",
       "    </tr>\n",
       "    <tr>\n",
       "      <th>20 </th>\n",
       "      <td> Bahia Gardner norte</td>\n",
       "      <td> A1</td>\n",
       "      <td> Bahia Gardner norte A1</td>\n",
       "      <td> 368</td>\n",
       "      <td> Bodianus diplotaenia</td>\n",
       "      <td> 1</td>\n",
       "      <td>  M</td>\n",
       "    </tr>\n",
       "    <tr>\n",
       "      <th>21 </th>\n",
       "      <td> Bahia Gardner norte</td>\n",
       "      <td> A1</td>\n",
       "      <td> Bahia Gardner norte A1</td>\n",
       "      <td> 381</td>\n",
       "      <td> Bodianus diplotaenia</td>\n",
       "      <td> 1</td>\n",
       "      <td>  M</td>\n",
       "    </tr>\n",
       "    <tr>\n",
       "      <th>22 </th>\n",
       "      <td> Bahia Gardner norte</td>\n",
       "      <td> A1</td>\n",
       "      <td> Bahia Gardner norte A1</td>\n",
       "      <td> 444</td>\n",
       "      <td> Bodianus diplotaenia</td>\n",
       "      <td> 1</td>\n",
       "      <td>  M</td>\n",
       "    </tr>\n",
       "    <tr>\n",
       "      <th>23 </th>\n",
       "      <td> Bahia Gardner norte</td>\n",
       "      <td> A1</td>\n",
       "      <td> Bahia Gardner norte A1</td>\n",
       "      <td> 319</td>\n",
       "      <td> Bodianus diplotaenia</td>\n",
       "      <td> 1</td>\n",
       "      <td>  M</td>\n",
       "    </tr>\n",
       "    <tr>\n",
       "      <th>24 </th>\n",
       "      <td> Bahia Gardner norte</td>\n",
       "      <td> A1</td>\n",
       "      <td> Bahia Gardner norte A1</td>\n",
       "      <td> 368</td>\n",
       "      <td> Bodianus diplotaenia</td>\n",
       "      <td> 1</td>\n",
       "      <td>  M</td>\n",
       "    </tr>\n",
       "    <tr>\n",
       "      <th>25 </th>\n",
       "      <td> Bahia Gardner norte</td>\n",
       "      <td> A1</td>\n",
       "      <td> Bahia Gardner norte A1</td>\n",
       "      <td> 371</td>\n",
       "      <td> Bodianus diplotaenia</td>\n",
       "      <td> 1</td>\n",
       "      <td>  M</td>\n",
       "    </tr>\n",
       "    <tr>\n",
       "      <th>26 </th>\n",
       "      <td> Bahia Gardner norte</td>\n",
       "      <td> A1</td>\n",
       "      <td> Bahia Gardner norte A1</td>\n",
       "      <td> 413</td>\n",
       "      <td> Bodianus diplotaenia</td>\n",
       "      <td> 1</td>\n",
       "      <td>  M</td>\n",
       "    </tr>\n",
       "    <tr>\n",
       "      <th>27 </th>\n",
       "      <td> Bahia Gardner norte</td>\n",
       "      <td> A1</td>\n",
       "      <td> Bahia Gardner norte A1</td>\n",
       "      <td> 415</td>\n",
       "      <td> Bodianus diplotaenia</td>\n",
       "      <td> 1</td>\n",
       "      <td>  M</td>\n",
       "    </tr>\n",
       "    <tr>\n",
       "      <th>28 </th>\n",
       "      <td> Bahia Gardner norte</td>\n",
       "      <td> A1</td>\n",
       "      <td> Bahia Gardner norte A1</td>\n",
       "      <td> 580</td>\n",
       "      <td> Bodianus diplotaenia</td>\n",
       "      <td> 1</td>\n",
       "      <td>  M</td>\n",
       "    </tr>\n",
       "    <tr>\n",
       "      <th>29 </th>\n",
       "      <td> Bahia Gardner norte</td>\n",
       "      <td> A1</td>\n",
       "      <td> Bahia Gardner norte A1</td>\n",
       "      <td> 277</td>\n",
       "      <td> Bodianus diplotaenia</td>\n",
       "      <td> 1</td>\n",
       "      <td>  M</td>\n",
       "    </tr>\n",
       "    <tr>\n",
       "      <th>...</th>\n",
       "      <td>...</td>\n",
       "      <td>...</td>\n",
       "      <td>...</td>\n",
       "      <td>...</td>\n",
       "      <td>...</td>\n",
       "      <td>...</td>\n",
       "      <td>...</td>\n",
       "    </tr>\n",
       "    <tr>\n",
       "      <th>87 </th>\n",
       "      <td> Bahia Gardner norte</td>\n",
       "      <td> A2</td>\n",
       "      <td> Bahia Gardner norte A2</td>\n",
       "      <td> 230</td>\n",
       "      <td> Bodianus diplotaenia</td>\n",
       "      <td> 1</td>\n",
       "      <td>  F</td>\n",
       "    </tr>\n",
       "    <tr>\n",
       "      <th>88 </th>\n",
       "      <td> Bahia Gardner norte</td>\n",
       "      <td> A2</td>\n",
       "      <td> Bahia Gardner norte A2</td>\n",
       "      <td> 246</td>\n",
       "      <td> Bodianus diplotaenia</td>\n",
       "      <td> 1</td>\n",
       "      <td>  F</td>\n",
       "    </tr>\n",
       "    <tr>\n",
       "      <th>89 </th>\n",
       "      <td> Bahia Gardner norte</td>\n",
       "      <td> A2</td>\n",
       "      <td> Bahia Gardner norte A2</td>\n",
       "      <td> 372</td>\n",
       "      <td> Bodianus diplotaenia</td>\n",
       "      <td> 1</td>\n",
       "      <td>  F</td>\n",
       "    </tr>\n",
       "    <tr>\n",
       "      <th>90 </th>\n",
       "      <td> Bahia Gardner norte</td>\n",
       "      <td> A2</td>\n",
       "      <td> Bahia Gardner norte A2</td>\n",
       "      <td> 312</td>\n",
       "      <td> Bodianus diplotaenia</td>\n",
       "      <td> 1</td>\n",
       "      <td>  F</td>\n",
       "    </tr>\n",
       "    <tr>\n",
       "      <th>91 </th>\n",
       "      <td> Bahia Gardner norte</td>\n",
       "      <td> A2</td>\n",
       "      <td> Bahia Gardner norte A2</td>\n",
       "      <td> 162</td>\n",
       "      <td> Bodianus diplotaenia</td>\n",
       "      <td> 1</td>\n",
       "      <td>  F</td>\n",
       "    </tr>\n",
       "    <tr>\n",
       "      <th>92 </th>\n",
       "      <td> Bahia Gardner norte</td>\n",
       "      <td> A2</td>\n",
       "      <td> Bahia Gardner norte A2</td>\n",
       "      <td> 332</td>\n",
       "      <td> Bodianus diplotaenia</td>\n",
       "      <td> 1</td>\n",
       "      <td>  F</td>\n",
       "    </tr>\n",
       "    <tr>\n",
       "      <th>93 </th>\n",
       "      <td> Bahia Gardner norte</td>\n",
       "      <td> A2</td>\n",
       "      <td> Bahia Gardner norte A2</td>\n",
       "      <td> 210</td>\n",
       "      <td> Bodianus diplotaenia</td>\n",
       "      <td> 2</td>\n",
       "      <td>  F</td>\n",
       "    </tr>\n",
       "    <tr>\n",
       "      <th>94 </th>\n",
       "      <td> Bahia Gardner norte</td>\n",
       "      <td> A2</td>\n",
       "      <td> Bahia Gardner norte A2</td>\n",
       "      <td> 325</td>\n",
       "      <td> Bodianus diplotaenia</td>\n",
       "      <td> 1</td>\n",
       "      <td>  F</td>\n",
       "    </tr>\n",
       "    <tr>\n",
       "      <th>95 </th>\n",
       "      <td> Bahia Gardner norte</td>\n",
       "      <td> A2</td>\n",
       "      <td> Bahia Gardner norte A2</td>\n",
       "      <td> 322</td>\n",
       "      <td> Bodianus diplotaenia</td>\n",
       "      <td> 1</td>\n",
       "      <td>  F</td>\n",
       "    </tr>\n",
       "    <tr>\n",
       "      <th>96 </th>\n",
       "      <td> Bahia Gardner norte</td>\n",
       "      <td> A2</td>\n",
       "      <td> Bahia Gardner norte A2</td>\n",
       "      <td> 261</td>\n",
       "      <td> Bodianus diplotaenia</td>\n",
       "      <td> 1</td>\n",
       "      <td>  F</td>\n",
       "    </tr>\n",
       "    <tr>\n",
       "      <th>97 </th>\n",
       "      <td> Bahia Gardner norte</td>\n",
       "      <td> A2</td>\n",
       "      <td> Bahia Gardner norte A2</td>\n",
       "      <td> 281</td>\n",
       "      <td> Bodianus diplotaenia</td>\n",
       "      <td> 1</td>\n",
       "      <td>  F</td>\n",
       "    </tr>\n",
       "    <tr>\n",
       "      <th>98 </th>\n",
       "      <td> Bahia Gardner norte</td>\n",
       "      <td> A2</td>\n",
       "      <td> Bahia Gardner norte A2</td>\n",
       "      <td> 274</td>\n",
       "      <td> Bodianus diplotaenia</td>\n",
       "      <td> 1</td>\n",
       "      <td>  F</td>\n",
       "    </tr>\n",
       "    <tr>\n",
       "      <th>99 </th>\n",
       "      <td> Bahia Gardner norte</td>\n",
       "      <td> A2</td>\n",
       "      <td> Bahia Gardner norte A2</td>\n",
       "      <td> 197</td>\n",
       "      <td> Bodianus diplotaenia</td>\n",
       "      <td> 1</td>\n",
       "      <td>  F</td>\n",
       "    </tr>\n",
       "    <tr>\n",
       "      <th>100</th>\n",
       "      <td> Bahia Gardner norte</td>\n",
       "      <td> A2</td>\n",
       "      <td> Bahia Gardner norte A2</td>\n",
       "      <td> 192</td>\n",
       "      <td> Bodianus diplotaenia</td>\n",
       "      <td> 1</td>\n",
       "      <td>  F</td>\n",
       "    </tr>\n",
       "    <tr>\n",
       "      <th>101</th>\n",
       "      <td> Bahia Gardner norte</td>\n",
       "      <td> A2</td>\n",
       "      <td> Bahia Gardner norte A2</td>\n",
       "      <td> 183</td>\n",
       "      <td> Bodianus diplotaenia</td>\n",
       "      <td> 1</td>\n",
       "      <td>  F</td>\n",
       "    </tr>\n",
       "    <tr>\n",
       "      <th>102</th>\n",
       "      <td> Bahia Gardner norte</td>\n",
       "      <td> A2</td>\n",
       "      <td> Bahia Gardner norte A2</td>\n",
       "      <td> 280</td>\n",
       "      <td> Bodianus diplotaenia</td>\n",
       "      <td> 1</td>\n",
       "      <td>  M</td>\n",
       "    </tr>\n",
       "    <tr>\n",
       "      <th>103</th>\n",
       "      <td>      Islote Gardner</td>\n",
       "      <td> C2</td>\n",
       "      <td>      Islote Gardner C2</td>\n",
       "      <td> 233</td>\n",
       "      <td> Bodianus diplotaenia</td>\n",
       "      <td> 1</td>\n",
       "      <td>  F</td>\n",
       "    </tr>\n",
       "    <tr>\n",
       "      <th>104</th>\n",
       "      <td>      Islote Gardner</td>\n",
       "      <td> C2</td>\n",
       "      <td>      Islote Gardner C2</td>\n",
       "      <td> 246</td>\n",
       "      <td> Bodianus diplotaenia</td>\n",
       "      <td> 1</td>\n",
       "      <td>  F</td>\n",
       "    </tr>\n",
       "    <tr>\n",
       "      <th>105</th>\n",
       "      <td>      Islote Gardner</td>\n",
       "      <td> C3</td>\n",
       "      <td>      Islote Gardner C3</td>\n",
       "      <td> 242</td>\n",
       "      <td> Bodianus diplotaenia</td>\n",
       "      <td> 1</td>\n",
       "      <td>  M</td>\n",
       "    </tr>\n",
       "    <tr>\n",
       "      <th>106</th>\n",
       "      <td>        Punta Suarez</td>\n",
       "      <td> C1</td>\n",
       "      <td>        Punta Suarez C1</td>\n",
       "      <td> 382</td>\n",
       "      <td> Bodianus diplotaenia</td>\n",
       "      <td> 1</td>\n",
       "      <td>  M</td>\n",
       "    </tr>\n",
       "    <tr>\n",
       "      <th>107</th>\n",
       "      <td>        Punta Suarez</td>\n",
       "      <td> C1</td>\n",
       "      <td>        Punta Suarez C1</td>\n",
       "      <td> 284</td>\n",
       "      <td> Bodianus diplotaenia</td>\n",
       "      <td> 1</td>\n",
       "      <td>  F</td>\n",
       "    </tr>\n",
       "    <tr>\n",
       "      <th>108</th>\n",
       "      <td>        Punta Suarez</td>\n",
       "      <td> C1</td>\n",
       "      <td>        Punta Suarez C1</td>\n",
       "      <td> 474</td>\n",
       "      <td> Bodianus diplotaenia</td>\n",
       "      <td> 1</td>\n",
       "      <td>  M</td>\n",
       "    </tr>\n",
       "    <tr>\n",
       "      <th>109</th>\n",
       "      <td>        Punta Suarez</td>\n",
       "      <td> C2</td>\n",
       "      <td>        Punta Suarez C2</td>\n",
       "      <td> 271</td>\n",
       "      <td> Bodianus diplotaenia</td>\n",
       "      <td> 1</td>\n",
       "      <td>  F</td>\n",
       "    </tr>\n",
       "    <tr>\n",
       "      <th>110</th>\n",
       "      <td>        Punta Suarez</td>\n",
       "      <td> C2</td>\n",
       "      <td>        Punta Suarez C2</td>\n",
       "      <td> 317</td>\n",
       "      <td> Bodianus diplotaenia</td>\n",
       "      <td> 1</td>\n",
       "      <td>  M</td>\n",
       "    </tr>\n",
       "    <tr>\n",
       "      <th>111</th>\n",
       "      <td>        Punta Suarez</td>\n",
       "      <td> C2</td>\n",
       "      <td>        Punta Suarez C2</td>\n",
       "      <td> 233</td>\n",
       "      <td> Bodianus diplotaenia</td>\n",
       "      <td> 1</td>\n",
       "      <td>  F</td>\n",
       "    </tr>\n",
       "    <tr>\n",
       "      <th>112</th>\n",
       "      <td>        Punta Suarez</td>\n",
       "      <td> C2</td>\n",
       "      <td>        Punta Suarez C2</td>\n",
       "      <td> 306</td>\n",
       "      <td> Bodianus diplotaenia</td>\n",
       "      <td> 1</td>\n",
       "      <td>  F</td>\n",
       "    </tr>\n",
       "    <tr>\n",
       "      <th>113</th>\n",
       "      <td>        Punta Suarez</td>\n",
       "      <td> C2</td>\n",
       "      <td>        Punta Suarez C2</td>\n",
       "      <td> 296</td>\n",
       "      <td> Bodianus diplotaenia</td>\n",
       "      <td> 1</td>\n",
       "      <td>  F</td>\n",
       "    </tr>\n",
       "    <tr>\n",
       "      <th>114</th>\n",
       "      <td>        Punta Suarez</td>\n",
       "      <td> C2</td>\n",
       "      <td>        Punta Suarez C2</td>\n",
       "      <td> 255</td>\n",
       "      <td> Bodianus diplotaenia</td>\n",
       "      <td> 1</td>\n",
       "      <td>  F</td>\n",
       "    </tr>\n",
       "    <tr>\n",
       "      <th>115</th>\n",
       "      <td>        Punta Suarez</td>\n",
       "      <td> C3</td>\n",
       "      <td>        Punta Suarez C3</td>\n",
       "      <td> 372</td>\n",
       "      <td> Bodianus diplotaenia</td>\n",
       "      <td> 1</td>\n",
       "      <td>  M</td>\n",
       "    </tr>\n",
       "    <tr>\n",
       "      <th>116</th>\n",
       "      <td>        Punta Suarez</td>\n",
       "      <td> C3</td>\n",
       "      <td>        Punta Suarez C3</td>\n",
       "      <td> 358</td>\n",
       "      <td> Bodianus diplotaenia</td>\n",
       "      <td> 1</td>\n",
       "      <td>  M</td>\n",
       "    </tr>\n",
       "  </tbody>\n",
       "</table>\n",
       "<p>117 rows × 7 columns</p>\n",
       "</div>"
      ],
      "text/plain": [
       "                    Site Period              Transectos  Length  \\\n",
       "0    Bahia Gardner norte     C1  Bahia Gardner norte C1     377   \n",
       "1    Bahia Gardner norte     C1  Bahia Gardner norte C1     197   \n",
       "2    Bahia Gardner norte     C1  Bahia Gardner norte C1     249   \n",
       "3    Bahia Gardner norte     C1  Bahia Gardner norte C1     256   \n",
       "4    Bahia Gardner norte     C1  Bahia Gardner norte C1     284   \n",
       "5    Bahia Gardner norte     C1  Bahia Gardner norte C1     255   \n",
       "6    Bahia Gardner norte     C1  Bahia Gardner norte C1     363   \n",
       "7    Bahia Gardner norte     C3  Bahia Gardner norte C3     332   \n",
       "8    Bahia Gardner norte     C3  Bahia Gardner norte C3     166   \n",
       "9    Bahia Gardner norte     C3  Bahia Gardner norte C3     224   \n",
       "10   Bahia Gardner norte     C3  Bahia Gardner norte C3     389   \n",
       "11   Bahia Gardner norte     A1  Bahia Gardner norte A1     324   \n",
       "12   Bahia Gardner norte     A1  Bahia Gardner norte A1     220   \n",
       "13   Bahia Gardner norte     A1  Bahia Gardner norte A1     333   \n",
       "14   Bahia Gardner norte     A1  Bahia Gardner norte A1     445   \n",
       "15   Bahia Gardner norte     A1  Bahia Gardner norte A1     345   \n",
       "16   Bahia Gardner norte     A1  Bahia Gardner norte A1     307   \n",
       "17   Bahia Gardner norte     A1  Bahia Gardner norte A1     398   \n",
       "18   Bahia Gardner norte     A1  Bahia Gardner norte A1     360   \n",
       "19   Bahia Gardner norte     A1  Bahia Gardner norte A1     417   \n",
       "20   Bahia Gardner norte     A1  Bahia Gardner norte A1     368   \n",
       "21   Bahia Gardner norte     A1  Bahia Gardner norte A1     381   \n",
       "22   Bahia Gardner norte     A1  Bahia Gardner norte A1     444   \n",
       "23   Bahia Gardner norte     A1  Bahia Gardner norte A1     319   \n",
       "24   Bahia Gardner norte     A1  Bahia Gardner norte A1     368   \n",
       "25   Bahia Gardner norte     A1  Bahia Gardner norte A1     371   \n",
       "26   Bahia Gardner norte     A1  Bahia Gardner norte A1     413   \n",
       "27   Bahia Gardner norte     A1  Bahia Gardner norte A1     415   \n",
       "28   Bahia Gardner norte     A1  Bahia Gardner norte A1     580   \n",
       "29   Bahia Gardner norte     A1  Bahia Gardner norte A1     277   \n",
       "..                   ...    ...                     ...     ...   \n",
       "87   Bahia Gardner norte     A2  Bahia Gardner norte A2     230   \n",
       "88   Bahia Gardner norte     A2  Bahia Gardner norte A2     246   \n",
       "89   Bahia Gardner norte     A2  Bahia Gardner norte A2     372   \n",
       "90   Bahia Gardner norte     A2  Bahia Gardner norte A2     312   \n",
       "91   Bahia Gardner norte     A2  Bahia Gardner norte A2     162   \n",
       "92   Bahia Gardner norte     A2  Bahia Gardner norte A2     332   \n",
       "93   Bahia Gardner norte     A2  Bahia Gardner norte A2     210   \n",
       "94   Bahia Gardner norte     A2  Bahia Gardner norte A2     325   \n",
       "95   Bahia Gardner norte     A2  Bahia Gardner norte A2     322   \n",
       "96   Bahia Gardner norte     A2  Bahia Gardner norte A2     261   \n",
       "97   Bahia Gardner norte     A2  Bahia Gardner norte A2     281   \n",
       "98   Bahia Gardner norte     A2  Bahia Gardner norte A2     274   \n",
       "99   Bahia Gardner norte     A2  Bahia Gardner norte A2     197   \n",
       "100  Bahia Gardner norte     A2  Bahia Gardner norte A2     192   \n",
       "101  Bahia Gardner norte     A2  Bahia Gardner norte A2     183   \n",
       "102  Bahia Gardner norte     A2  Bahia Gardner norte A2     280   \n",
       "103       Islote Gardner     C2       Islote Gardner C2     233   \n",
       "104       Islote Gardner     C2       Islote Gardner C2     246   \n",
       "105       Islote Gardner     C3       Islote Gardner C3     242   \n",
       "106         Punta Suarez     C1         Punta Suarez C1     382   \n",
       "107         Punta Suarez     C1         Punta Suarez C1     284   \n",
       "108         Punta Suarez     C1         Punta Suarez C1     474   \n",
       "109         Punta Suarez     C2         Punta Suarez C2     271   \n",
       "110         Punta Suarez     C2         Punta Suarez C2     317   \n",
       "111         Punta Suarez     C2         Punta Suarez C2     233   \n",
       "112         Punta Suarez     C2         Punta Suarez C2     306   \n",
       "113         Punta Suarez     C2         Punta Suarez C2     296   \n",
       "114         Punta Suarez     C2         Punta Suarez C2     255   \n",
       "115         Punta Suarez     C3         Punta Suarez C3     372   \n",
       "116         Punta Suarez     C3         Punta Suarez C3     358   \n",
       "\n",
       "                  Species  Number Stage  \n",
       "0    Bodianus diplotaenia       1     M  \n",
       "1    Bodianus diplotaenia       1     F  \n",
       "2    Bodianus diplotaenia       1     F  \n",
       "3    Bodianus diplotaenia       1     F  \n",
       "4    Bodianus diplotaenia       1     F  \n",
       "5    Bodianus diplotaenia       1     F  \n",
       "6    Bodianus diplotaenia       1     M  \n",
       "7    Bodianus diplotaenia       1    AD  \n",
       "8    Bodianus diplotaenia       1     F  \n",
       "9    Bodianus diplotaenia       1     F  \n",
       "10   Bodianus diplotaenia       1     M  \n",
       "11   Bodianus diplotaenia       1     M  \n",
       "12   Bodianus diplotaenia       1     F  \n",
       "13   Bodianus diplotaenia       1     M  \n",
       "14   Bodianus diplotaenia       1     M  \n",
       "15   Bodianus diplotaenia       1     M  \n",
       "16   Bodianus diplotaenia       1     M  \n",
       "17   Bodianus diplotaenia       1     M  \n",
       "18   Bodianus diplotaenia       1     M  \n",
       "19   Bodianus diplotaenia       1     M  \n",
       "20   Bodianus diplotaenia       1     M  \n",
       "21   Bodianus diplotaenia       1     M  \n",
       "22   Bodianus diplotaenia       1     M  \n",
       "23   Bodianus diplotaenia       1     M  \n",
       "24   Bodianus diplotaenia       1     M  \n",
       "25   Bodianus diplotaenia       1     M  \n",
       "26   Bodianus diplotaenia       1     M  \n",
       "27   Bodianus diplotaenia       1     M  \n",
       "28   Bodianus diplotaenia       1     M  \n",
       "29   Bodianus diplotaenia       1     M  \n",
       "..                    ...     ...   ...  \n",
       "87   Bodianus diplotaenia       1     F  \n",
       "88   Bodianus diplotaenia       1     F  \n",
       "89   Bodianus diplotaenia       1     F  \n",
       "90   Bodianus diplotaenia       1     F  \n",
       "91   Bodianus diplotaenia       1     F  \n",
       "92   Bodianus diplotaenia       1     F  \n",
       "93   Bodianus diplotaenia       2     F  \n",
       "94   Bodianus diplotaenia       1     F  \n",
       "95   Bodianus diplotaenia       1     F  \n",
       "96   Bodianus diplotaenia       1     F  \n",
       "97   Bodianus diplotaenia       1     F  \n",
       "98   Bodianus diplotaenia       1     F  \n",
       "99   Bodianus diplotaenia       1     F  \n",
       "100  Bodianus diplotaenia       1     F  \n",
       "101  Bodianus diplotaenia       1     F  \n",
       "102  Bodianus diplotaenia       1     M  \n",
       "103  Bodianus diplotaenia       1     F  \n",
       "104  Bodianus diplotaenia       1     F  \n",
       "105  Bodianus diplotaenia       1     M  \n",
       "106  Bodianus diplotaenia       1     M  \n",
       "107  Bodianus diplotaenia       1     F  \n",
       "108  Bodianus diplotaenia       1     M  \n",
       "109  Bodianus diplotaenia       1     F  \n",
       "110  Bodianus diplotaenia       1     M  \n",
       "111  Bodianus diplotaenia       1     F  \n",
       "112  Bodianus diplotaenia       1     F  \n",
       "113  Bodianus diplotaenia       1     F  \n",
       "114  Bodianus diplotaenia       1     F  \n",
       "115  Bodianus diplotaenia       1     M  \n",
       "116  Bodianus diplotaenia       1     M  \n",
       "\n",
       "[117 rows x 7 columns]"
      ]
     },
     "execution_count": 15,
     "metadata": {},
     "output_type": "execute_result"
    }
   ],
   "source": [
    "transect"
   ]
  },
  {
   "cell_type": "code",
   "execution_count": 16,
   "metadata": {
    "collapsed": false
   },
   "outputs": [
    {
     "data": {
      "image/png": "[encoded data removed]",
      "text/plain": [
       "<matplotlib.figure.Figure at 0x7f7c97927950>"
      ]
     },
     "metadata": {},
     "output_type": "display_data"
    }
   ],
   "source": [
    "transect = read_csv(data/'transect.csv', sep=',')\n",
    "fig = plt.figure(figsize=(15,5))\n",
    "axes = fig.add_subplot(1,1,1)\n",
    "width = .5\n",
    "x = 0\n",
    "delta = 1.\n",
    "_delta = delta\n",
    "transects = sorted(set(transect.Transect))\n",
    "cmap = plt.get_cmap('gray', len(transects))\n",
    "xticks = []\n",
    "for t in range(len(transects)):\n",
    "    ttransect = transect[transect.Transect == transects[t]]\n",
    "    y = -4.19841*ttransect.Diplotaenia + 3.08765 * ttransect.LogLength\n",
    "    rects = axes.bar(np.array(range(x, x+len(y)))*width-width/2+_delta, y, width, color=(0., 0., 0., .5))#cmap(t))\n",
    "    for rect, nb in zip(rects, ttransect.Diplotaenia.tolist()):\n",
    "        height = rect.get_height()\n",
    "        if not np.isfinite(height):\n",
    "            height = 0\n",
    "        axes.text(rect.get_x()+rect.get_width()/2., height+1., '%d'%int(nb),\n",
    "                ha='center', va='bottom')\n",
    "    xticks.append((x+len(y)/2.)*width-width/2+_delta)\n",
    "    x += len(y)\n",
    "    _delta += delta\n",
    "axes.set_xticks(xticks)\n",
    "axes.set_xticklabels(transects)\n",
    "#axes.set_xlabel('Site')\n",
    "axes.set_ylabel('log(Biomass)')\n",
    "fig.savefig('transect.svg')"
   ]
  },
  {
   "cell_type": "markdown",
   "metadata": {},
   "source": [
    "On this table the results of the linear model are displayed.\n",
    "In particular:\n",
    "\n",
    "* $\\alpha = -4.19841$ (first column on line (Intercept)) and significantly different from $0.0$ (last column on line (Intercept)),\n",
    "* $\\beta = 3.09$ (first column on line log(FL)) and significantly different from $0.0$ (last column on line log(FL))."
   ]
  },
  {
   "cell_type": "markdown",
   "metadata": {},
   "source": [
    "The following plots can be used to verify the validity of linear model underlying hypotheses.\n",
    "In particular:\n",
    "\n",
    "* The top-left graph enable the verification of the homoscedasticity.\n",
    "* The top-right graph enable the verification of the normality of errors."
   ]
  },
  {
   "cell_type": "markdown",
   "metadata": {},
   "source": [
    "And the graphic below illustrate the adjustment of the linear model (red line) to the data (blue dots). "
   ]
  },
  {
   "cell_type": "markdown",
   "metadata": {
    "collapsed": true
   },
   "source": [
    "We are now interested into converting randomly collected lengths in the video (see graph below) into weights using the previous length-weight allometric relationship."
   ]
  },
  {
   "cell_type": "code",
   "execution_count": 17,
   "metadata": {
    "collapsed": false
   },
   "outputs": [
    {
     "data": {
      "image/png": "[encoded data removed]",
      "text/plain": [
       "<matplotlib.figure.Figure at 0x7f7c979e0410>"
      ]
     },
     "metadata": {},
     "output_type": "display_data"
    }
   ],
   "source": [
    "lengths = read_csv(data/'lengths.csv', sep=',')\n",
    "fig = plt.figure(figsize=(15,5))\n",
    "axes = plt.subplot(1,1,1)\n",
    "for sex, color in zip(['M', 'F'], [.3, .6]):\n",
    "    axes.hist(lengths.Length[lengths.Stage == sex].tolist(),\n",
    "              alpha=color, color='k', normed=False)\n",
    "axes.set_xlabel('Length')\n",
    "axes.set_ylabel('Frequency')\n",
    "fig.savefig('length.svg')\n",
    "%Rpush lengths"
   ]
  },
  {
   "cell_type": "markdown",
   "metadata": {},
   "source": [
    "On this graph are displayed the histograms of lengths for:\n",
    "\n",
    "* females, in red,\n",
    "* males, in blue."
   ]
  },
  {
   "cell_type": "markdown",
   "metadata": {},
   "source": [
    "In order to test if the sex has an influence on the length, we use the linear model\n",
    "\n",
    "$$ l_i = \\alpha_{s_i} + \\epsilon_i,$$\n",
    "\n",
    "where\n",
    "\n",
    "*   $i$ denotes an individual.\n",
    "*   $l_i$ is its length.\n",
    "*   $\\alpha_{s_i}$ is a coefficient depending on the sex of the individual.\n",
    "    There two different coefficients : $\\alpha_{F}$ for females and $\\alpha_M$ for males.\n",
    "*   $\\epsilon_i$ is the Gaussian noise."
   ]
  },
  {
   "cell_type": "code",
   "execution_count": 18,
   "metadata": {
    "collapsed": false
   },
   "outputs": [
    {
     "data": {
      "text/plain": [
       "\n",
       "Call:\n",
       "lm(formula = \"Length ~ Stage\", data = lengths)\n",
       "\n",
       "Residuals:\n",
       "     Min       1Q   Median       3Q      Max \n",
       "-19.2921  -3.5401   0.0079   3.2079  21.3599 \n",
       "\n",
       "Coefficients:\n",
       "            Estimate Std. Error t value Pr(>|t|)    \n",
       "(Intercept)  24.1401     0.5285   45.67   <2e-16 ***\n",
       "StageM       15.6520     0.7209   21.71   <2e-16 ***\n",
       "---\n",
       "Signif. codes:  0 ‘***’ 0.001 ‘**’ 0.01 ‘*’ 0.05 ‘.’ 0.1 ‘ ’ 1\n",
       "\n",
       "Residual standard error: 6.298 on 305 degrees of freedom\n",
       "Multiple R-squared:  0.6071,\tAdjusted R-squared:  0.6058 \n",
       "F-statistic: 471.3 on 1 and 305 DF,  p-value: < 2.2e-16\n",
       "\n"
      ]
     },
     "metadata": {},
     "output_type": "display_data"
    }
   ],
   "source": [
    "%%R\n",
    "reg = lm('Length ~ Stage', data=lengths)\n",
    "summary(reg)"
   ]
  },
  {
   "cell_type": "markdown",
   "metadata": {},
   "source": [
    "On this table are displayed the estimated average length of:\n",
    "\n",
    "* females, $\\alpha_F = 24.14$ (first column on line (Intercept)) and significantly different from $0$ (last column on line (Intercept)),\n",
    "* males, $\\alpha_M = 24.14+15.65=39.79$ (first column on line (Intercept) plus the first column on line StageM) and significantly different from  the average of females (last column on line StageM)."
   ]
  },
  {
   "cell_type": "markdown",
   "metadata": {},
   "source": [
    "The following plots can be used to verify the validity of linear model underlying hypotheses.\n",
    "In particular:\n",
    "\n",
    "* The top-left graph enable the verification of the homoscedasticity.\n",
    "* The top-right graph enable the verification of the normality of errors."
   ]
  },
  {
   "cell_type": "code",
   "execution_count": 19,
   "metadata": {
    "collapsed": false
   },
   "outputs": [
    {
     "data": {
      "image/png": "[encoded data removed]"
     },
     "metadata": {},
     "output_type": "display_data"
    }
   ],
   "source": [
    "%%R\n",
    "par(mfrow=c(2,2))\n",
    "plot(reg)"
   ]
  },
  {
   "cell_type": "markdown",
   "metadata": {},
   "source": [
    "Using the allometric relationships we display below the histogram of weights conditionally to the sex:\n",
    "\n",
    "* In blue the histogram of male weights.\n",
    "* In red the histogram of female weights."
   ]
  },
  {
   "cell_type": "code",
   "execution_count": 20,
   "metadata": {
    "collapsed": false
   },
   "outputs": [
    {
     "data": {
      "image/png": "[encoded data removed]",
      "text/plain": [
       "<matplotlib.figure.Figure at 0x7f7c93f96b10>"
      ]
     },
     "metadata": {},
     "output_type": "display_data"
    }
   ],
   "source": [
    "%Rpull coefficients\n",
    "coefficients = np.array(coefficients)\n",
    "alpha = math.exp(coefficients[0,0])\n",
    "beta = coefficients[1,0]\n",
    "fig = plt.figure(figsize=(15,5))\n",
    "axes = plt.subplot(1,1,1)\n",
    "for sex, color in zip(['M', 'F'], [.3, .6]):\n",
    "    axes.hist([alpha*length**beta for length in lengths.Length[lengths.Stage == sex].tolist()],\n",
    "              alpha=color, color='k', normed=False)\n",
    "axes.set_xlabel('Weight')\n",
    "axes.set_ylabel('Frequency')\n",
    "fig.savefig('weight.svg')"
   ]
  },
  {
   "cell_type": "code",
   "execution_count": 21,
   "metadata": {
    "collapsed": false
   },
   "outputs": [
    {
     "data": {
      "text/plain": [
       "[[-4.198408842717638,\n",
       "  0.25539908540645584,\n",
       "  -16.43862128964191,\n",
       "  7.380141725945885e-17],\n",
       " [3.0876534537463587,\n",
       "  0.07066535168802383,\n",
       "  43.694022317724425,\n",
       "  2.0447468909057848e-29]]"
      ]
     },
     "execution_count": 21,
     "metadata": {},
     "output_type": "execute_result"
    }
   ],
   "source": [
    "coefficients.tolist()"
   ]
  },
  {
   "cell_type": "markdown",
   "metadata": {},
   "source": [
    "## Describing the reproductive behaviour of the species based on tangible quantitative data and explicit 3D representation of the spawning event.\n",
    "\n",
    "### Preamble\n",
    "\n",
    "Using [VTK](http://www.vtk.org/) to visualize frames."
   ]
  },
  {
   "cell_type": "code",
   "execution_count": 22,
   "metadata": {
    "collapsed": false
   },
   "outputs": [],
   "source": [
    "from wanda.frame import vtk"
   ]
  },
  {
   "cell_type": "markdown",
   "metadata": {},
   "source": [
    "To ease the *VTK* interactions we provide $3$ functions\n",
    "\n",
    "* `renderers`, initialize differnt views of the same frame (e.g. one for viewing only males and one for viewing only females)\n",
    "* `synchornize`, allow different views of the same frame (see above) to share the same camera in order to ease comparisons (when the camera of a view is moved, the other views moves in the same manner).\n",
    "* `show`, is just an aggregation of *VTK* commands to display the frame and convert the selected view into a PNG image embedded in the notebook using [matplotlib](http://matplotlib.org/1.4.0/index.html) (if a name is provided, the image is written on the disk with the given name)."
   ]
  },
  {
   "cell_type": "code",
   "execution_count": 23,
   "metadata": {
    "collapsed": false
   },
   "outputs": [],
   "source": [
    "from wanda.frame import renderers, synchronize, show"
   ]
  },
  {
   "cell_type": "markdown",
   "metadata": {},
   "source": [
    "A frame is represented by a set of $3$D points (columns **X**, **Y** and **Z**) associated to an indentifier (**Type**).\n",
    "The identifier used are :\n",
    "\n",
    "* G, for ground.\n",
    "* M, for bodanius males.\n",
    "* F, for bodanius females."
   ]
  },
  {
   "cell_type": "code",
   "execution_count": 24,
   "metadata": {
    "collapsed": false,
    "scrolled": true
   },
   "outputs": [
    {
     "data": {
      "text/html": [
       "<div style=\"max-height:1000px;max-width:1500px;overflow:auto;\">\n",
       "<table border=\"1\" class=\"dataframe\">\n",
       "  <thead>\n",
       "    <tr style=\"text-align: right;\">\n",
       "      <th></th>\n",
       "      <th>Unnamed: 0</th>\n",
       "      <th>Type</th>\n",
       "      <th>Precision</th>\n",
       "      <th>RMS</th>\n",
       "      <th>Range</th>\n",
       "      <th>Direction</th>\n",
       "      <th>X</th>\n",
       "      <th>Y</th>\n",
       "      <th>Z</th>\n",
       "    </tr>\n",
       "  </thead>\n",
       "  <tbody>\n",
       "    <tr>\n",
       "      <th>0  </th>\n",
       "      <td>  19</td>\n",
       "      <td> M</td>\n",
       "      <td> 18841</td>\n",
       "      <td>  3609</td>\n",
       "      <td>  6946071</td>\n",
       "      <td> 22366</td>\n",
       "      <td>-2495922</td>\n",
       "      <td>  768215</td>\n",
       "      <td>-6436468</td>\n",
       "    </tr>\n",
       "    <tr>\n",
       "      <th>1  </th>\n",
       "      <td>  20</td>\n",
       "      <td> M</td>\n",
       "      <td> 17684</td>\n",
       "      <td>   121</td>\n",
       "      <td>  6694072</td>\n",
       "      <td> 20331</td>\n",
       "      <td>-2189589</td>\n",
       "      <td>  684936</td>\n",
       "      <td>-6288653</td>\n",
       "    </tr>\n",
       "    <tr>\n",
       "      <th>2  </th>\n",
       "      <td>  21</td>\n",
       "      <td> M</td>\n",
       "      <td> 10987</td>\n",
       "      <td> 17919</td>\n",
       "      <td>  5357418</td>\n",
       "      <td> 12336</td>\n",
       "      <td>  193847</td>\n",
       "      <td>-1210530</td>\n",
       "      <td>-5215263</td>\n",
       "    </tr>\n",
       "    <tr>\n",
       "      <th>3  </th>\n",
       "      <td>  22</td>\n",
       "      <td> M</td>\n",
       "      <td> 14547</td>\n",
       "      <td>  6941</td>\n",
       "      <td>  6239373</td>\n",
       "      <td>  9509</td>\n",
       "      <td> -988059</td>\n",
       "      <td>  196378</td>\n",
       "      <td>-6157512</td>\n",
       "    </tr>\n",
       "    <tr>\n",
       "      <th>4  </th>\n",
       "      <td>  23</td>\n",
       "      <td> M</td>\n",
       "      <td> 20899</td>\n",
       "      <td>  1983</td>\n",
       "      <td>  7628989</td>\n",
       "      <td>  5484</td>\n",
       "      <td> -720332</td>\n",
       "      <td> -232559</td>\n",
       "      <td>-7591345</td>\n",
       "    </tr>\n",
       "    <tr>\n",
       "      <th>5  </th>\n",
       "      <td>  24</td>\n",
       "      <td> M</td>\n",
       "      <td> 16463</td>\n",
       "      <td> 14334</td>\n",
       "      <td>  6695507</td>\n",
       "      <td>  7474</td>\n",
       "      <td>  627176</td>\n",
       "      <td> -709002</td>\n",
       "      <td>-6628256</td>\n",
       "    </tr>\n",
       "    <tr>\n",
       "      <th>6  </th>\n",
       "      <td>  25</td>\n",
       "      <td> M</td>\n",
       "      <td> 15715</td>\n",
       "      <td> 14497</td>\n",
       "      <td>  6470704</td>\n",
       "      <td> 13551</td>\n",
       "      <td> 1380835</td>\n",
       "      <td> -725420</td>\n",
       "      <td>-6279895</td>\n",
       "    </tr>\n",
       "    <tr>\n",
       "      <th>7  </th>\n",
       "      <td>  26</td>\n",
       "      <td> M</td>\n",
       "      <td> 10545</td>\n",
       "      <td>  2483</td>\n",
       "      <td>  5411748</td>\n",
       "      <td> 15792</td>\n",
       "      <td> 1469916</td>\n",
       "      <td>    9920</td>\n",
       "      <td>-5208288</td>\n",
       "    </tr>\n",
       "    <tr>\n",
       "      <th>8  </th>\n",
       "      <td>  27</td>\n",
       "      <td> M</td>\n",
       "      <td> 17165</td>\n",
       "      <td>  8017</td>\n",
       "      <td>  7098827</td>\n",
       "      <td>  2423</td>\n",
       "      <td> -146014</td>\n",
       "      <td>  150146</td>\n",
       "      <td>-7095737</td>\n",
       "    </tr>\n",
       "    <tr>\n",
       "      <th>9  </th>\n",
       "      <td>  28</td>\n",
       "      <td> M</td>\n",
       "      <td> 22659</td>\n",
       "      <td>  5080</td>\n",
       "      <td>  7554364</td>\n",
       "      <td> 15250</td>\n",
       "      <td>-1249228</td>\n",
       "      <td> 1430011</td>\n",
       "      <td>-7311834</td>\n",
       "    </tr>\n",
       "    <tr>\n",
       "      <th>10 </th>\n",
       "      <td>  29</td>\n",
       "      <td> M</td>\n",
       "      <td> 30090</td>\n",
       "      <td>  5311</td>\n",
       "      <td>  8769187</td>\n",
       "      <td> 14222</td>\n",
       "      <td>-1315604</td>\n",
       "      <td> 1571610</td>\n",
       "      <td>-8526305</td>\n",
       "    </tr>\n",
       "    <tr>\n",
       "      <th>11 </th>\n",
       "      <td>  30</td>\n",
       "      <td> M</td>\n",
       "      <td> 19024</td>\n",
       "      <td>  3224</td>\n",
       "      <td>  7179622</td>\n",
       "      <td> 11867</td>\n",
       "      <td>  441680</td>\n",
       "      <td> 1297695</td>\n",
       "      <td>-7047545</td>\n",
       "    </tr>\n",
       "    <tr>\n",
       "      <th>12 </th>\n",
       "      <td>  31</td>\n",
       "      <td> M</td>\n",
       "      <td> 26849</td>\n",
       "      <td>  2068</td>\n",
       "      <td>  8705464</td>\n",
       "      <td> 12180</td>\n",
       "      <td> 1812728</td>\n",
       "      <td>  161441</td>\n",
       "      <td>-8513111</td>\n",
       "    </tr>\n",
       "    <tr>\n",
       "      <th>13 </th>\n",
       "      <td>  32</td>\n",
       "      <td> M</td>\n",
       "      <td> 30749</td>\n",
       "      <td>  3768</td>\n",
       "      <td>  9018521</td>\n",
       "      <td> 12351</td>\n",
       "      <td>-1792906</td>\n",
       "      <td>  572623</td>\n",
       "      <td>-8819938</td>\n",
       "    </tr>\n",
       "    <tr>\n",
       "      <th>14 </th>\n",
       "      <td>  33</td>\n",
       "      <td> M</td>\n",
       "      <td> 32470</td>\n",
       "      <td>  3202</td>\n",
       "      <td>  9280584</td>\n",
       "      <td> 11415</td>\n",
       "      <td>-1588821</td>\n",
       "      <td>  777838</td>\n",
       "      <td>-9110425</td>\n",
       "    </tr>\n",
       "    <tr>\n",
       "      <th>15 </th>\n",
       "      <td>  34</td>\n",
       "      <td> F</td>\n",
       "      <td> 23733</td>\n",
       "      <td> 10020</td>\n",
       "      <td>  8109363</td>\n",
       "      <td> 14858</td>\n",
       "      <td> 2057388</td>\n",
       "      <td> -425348</td>\n",
       "      <td>-7832497</td>\n",
       "    </tr>\n",
       "    <tr>\n",
       "      <th>16 </th>\n",
       "      <td>  35</td>\n",
       "      <td> F</td>\n",
       "      <td> 17273</td>\n",
       "      <td>   680</td>\n",
       "      <td>  6810166</td>\n",
       "      <td> 11123</td>\n",
       "      <td> -372308</td>\n",
       "      <td> 1154242</td>\n",
       "      <td>-6701304</td>\n",
       "    </tr>\n",
       "    <tr>\n",
       "      <th>17 </th>\n",
       "      <td>  36</td>\n",
       "      <td> M</td>\n",
       "      <td> 17814</td>\n",
       "      <td>  1028</td>\n",
       "      <td>  7214300</td>\n",
       "      <td>  4075</td>\n",
       "      <td>  -80607</td>\n",
       "      <td>  392622</td>\n",
       "      <td>-7203158</td>\n",
       "    </tr>\n",
       "    <tr>\n",
       "      <th>18 </th>\n",
       "      <td>  37</td>\n",
       "      <td> F</td>\n",
       "      <td> 13123</td>\n",
       "      <td>  2928</td>\n",
       "      <td>  5708157</td>\n",
       "      <td> 14219</td>\n",
       "      <td> -749360</td>\n",
       "      <td>-1272241</td>\n",
       "      <td>-5513885</td>\n",
       "    </tr>\n",
       "    <tr>\n",
       "      <th>19 </th>\n",
       "      <td>  38</td>\n",
       "      <td> F</td>\n",
       "      <td> 15910</td>\n",
       "      <td>  2249</td>\n",
       "      <td>  6640921</td>\n",
       "      <td>  5199</td>\n",
       "      <td> -116773</td>\n",
       "      <td> -694687</td>\n",
       "      <td>-6603454</td>\n",
       "    </tr>\n",
       "    <tr>\n",
       "      <th>20 </th>\n",
       "      <td>  39</td>\n",
       "      <td> F</td>\n",
       "      <td> 12350</td>\n",
       "      <td>  3221</td>\n",
       "      <td>  5754900</td>\n",
       "      <td>  6251</td>\n",
       "      <td> -411897</td>\n",
       "      <td> -562550</td>\n",
       "      <td>-5712508</td>\n",
       "    </tr>\n",
       "    <tr>\n",
       "      <th>21 </th>\n",
       "      <td>  40</td>\n",
       "      <td> M</td>\n",
       "      <td> 14377</td>\n",
       "      <td>  7848</td>\n",
       "      <td>  6127411</td>\n",
       "      <td>  8780</td>\n",
       "      <td> -571542</td>\n",
       "      <td> -835859</td>\n",
       "      <td>-6043165</td>\n",
       "    </tr>\n",
       "    <tr>\n",
       "      <th>22 </th>\n",
       "      <td>  41</td>\n",
       "      <td> F</td>\n",
       "      <td> 16248</td>\n",
       "      <td>  7438</td>\n",
       "      <td>  6446148</td>\n",
       "      <td> 11217</td>\n",
       "      <td> -681711</td>\n",
       "      <td>-1152151</td>\n",
       "      <td>-6305604</td>\n",
       "    </tr>\n",
       "    <tr>\n",
       "      <th>23 </th>\n",
       "      <td>  42</td>\n",
       "      <td> F</td>\n",
       "      <td> 15637</td>\n",
       "      <td>  5301</td>\n",
       "      <td>  6351190</td>\n",
       "      <td> 10056</td>\n",
       "      <td> -661854</td>\n",
       "      <td> -988475</td>\n",
       "      <td>-6238789</td>\n",
       "    </tr>\n",
       "    <tr>\n",
       "      <th>24 </th>\n",
       "      <td>  43</td>\n",
       "      <td> F</td>\n",
       "      <td> 10646</td>\n",
       "      <td>  2871</td>\n",
       "      <td>  5147549</td>\n",
       "      <td> 12119</td>\n",
       "      <td> -820838</td>\n",
       "      <td> -782378</td>\n",
       "      <td>-5021092</td>\n",
       "    </tr>\n",
       "    <tr>\n",
       "      <th>25 </th>\n",
       "      <td>  44</td>\n",
       "      <td> F</td>\n",
       "      <td> 14234</td>\n",
       "      <td>  2530</td>\n",
       "      <td>  5963285</td>\n",
       "      <td> 12585</td>\n",
       "      <td> -902371</td>\n",
       "      <td>-1026723</td>\n",
       "      <td>-5804510</td>\n",
       "    </tr>\n",
       "    <tr>\n",
       "      <th>26 </th>\n",
       "      <td>  45</td>\n",
       "      <td> M</td>\n",
       "      <td> 22227</td>\n",
       "      <td>   245</td>\n",
       "      <td>  7802088</td>\n",
       "      <td>  6910</td>\n",
       "      <td> -292800</td>\n",
       "      <td>-1014088</td>\n",
       "      <td>-7730360</td>\n",
       "    </tr>\n",
       "    <tr>\n",
       "      <th>27 </th>\n",
       "      <td>  46</td>\n",
       "      <td> F</td>\n",
       "      <td> 19406</td>\n",
       "      <td>  8379</td>\n",
       "      <td>  7238955</td>\n",
       "      <td>  6830</td>\n",
       "      <td> -515245</td>\n",
       "      <td> -803121</td>\n",
       "      <td>-7175792</td>\n",
       "    </tr>\n",
       "    <tr>\n",
       "      <th>28 </th>\n",
       "      <td>  47</td>\n",
       "      <td> F</td>\n",
       "      <td> 17608</td>\n",
       "      <td>  4735</td>\n",
       "      <td>  6865776</td>\n",
       "      <td>  7346</td>\n",
       "      <td> -792965</td>\n",
       "      <td> -484112</td>\n",
       "      <td>-6802626</td>\n",
       "    </tr>\n",
       "    <tr>\n",
       "      <th>29 </th>\n",
       "      <td>  48</td>\n",
       "      <td> F</td>\n",
       "      <td> 15211</td>\n",
       "      <td>  7600</td>\n",
       "      <td>  6437565</td>\n",
       "      <td>  5564</td>\n",
       "      <td> -462544</td>\n",
       "      <td> -520198</td>\n",
       "      <td>-6399820</td>\n",
       "    </tr>\n",
       "    <tr>\n",
       "      <th>...</th>\n",
       "      <td>...</td>\n",
       "      <td>...</td>\n",
       "      <td>...</td>\n",
       "      <td>...</td>\n",
       "      <td>...</td>\n",
       "      <td>...</td>\n",
       "      <td>...</td>\n",
       "      <td>...</td>\n",
       "      <td>...</td>\n",
       "    </tr>\n",
       "    <tr>\n",
       "      <th>109</th>\n",
       "      <td> 128</td>\n",
       "      <td> G</td>\n",
       "      <td> 23121</td>\n",
       "      <td>  5678</td>\n",
       "      <td>  7903857</td>\n",
       "      <td> 17838</td>\n",
       "      <td> 2147379</td>\n",
       "      <td>-1236929</td>\n",
       "      <td>-7505313</td>\n",
       "    </tr>\n",
       "    <tr>\n",
       "      <th>110</th>\n",
       "      <td> 129</td>\n",
       "      <td> G</td>\n",
       "      <td> 26552</td>\n",
       "      <td>  2910</td>\n",
       "      <td>  8586082</td>\n",
       "      <td>  8047</td>\n",
       "      <td> 1129976</td>\n",
       "      <td> -543792</td>\n",
       "      <td>-8494013</td>\n",
       "    </tr>\n",
       "    <tr>\n",
       "      <th>111</th>\n",
       "      <td> 130</td>\n",
       "      <td> G</td>\n",
       "      <td> 21397</td>\n",
       "      <td>  5134</td>\n",
       "      <td>  7784349</td>\n",
       "      <td>  7379</td>\n",
       "      <td>  999749</td>\n",
       "      <td> -130062</td>\n",
       "      <td>-7718787</td>\n",
       "    </tr>\n",
       "    <tr>\n",
       "      <th>112</th>\n",
       "      <td> 131</td>\n",
       "      <td> G</td>\n",
       "      <td> 40252</td>\n",
       "      <td>  2044</td>\n",
       "      <td> 10247791</td>\n",
       "      <td> 16136</td>\n",
       "      <td>-2737164</td>\n",
       "      <td>  631227</td>\n",
       "      <td>-9855288</td>\n",
       "    </tr>\n",
       "    <tr>\n",
       "      <th>113</th>\n",
       "      <td> 132</td>\n",
       "      <td> G</td>\n",
       "      <td> 21057</td>\n",
       "      <td>   906</td>\n",
       "      <td>  7357098</td>\n",
       "      <td> 20710</td>\n",
       "      <td>-2578024</td>\n",
       "      <td> -459120</td>\n",
       "      <td>-6875310</td>\n",
       "    </tr>\n",
       "    <tr>\n",
       "      <th>114</th>\n",
       "      <td> 133</td>\n",
       "      <td> G</td>\n",
       "      <td> 22369</td>\n",
       "      <td>  2731</td>\n",
       "      <td>  7498935</td>\n",
       "      <td> 14884</td>\n",
       "      <td>-1826218</td>\n",
       "      <td> -726893</td>\n",
       "      <td>-7236752</td>\n",
       "    </tr>\n",
       "    <tr>\n",
       "      <th>115</th>\n",
       "      <td> 134</td>\n",
       "      <td> G</td>\n",
       "      <td> 34050</td>\n",
       "      <td>  5017</td>\n",
       "      <td>  9179147</td>\n",
       "      <td> 15708</td>\n",
       "      <td>-2068270</td>\n",
       "      <td>-1516961</td>\n",
       "      <td>-8813503</td>\n",
       "    </tr>\n",
       "    <tr>\n",
       "      <th>116</th>\n",
       "      <td> 135</td>\n",
       "      <td> G</td>\n",
       "      <td> 16050</td>\n",
       "      <td>  2231</td>\n",
       "      <td>  6268908</td>\n",
       "      <td> 21243</td>\n",
       "      <td>-1978523</td>\n",
       "      <td>-1207680</td>\n",
       "      <td>-5824617</td>\n",
       "    </tr>\n",
       "    <tr>\n",
       "      <th>117</th>\n",
       "      <td> 136</td>\n",
       "      <td> G</td>\n",
       "      <td> 14673</td>\n",
       "      <td>  7271</td>\n",
       "      <td>  6001555</td>\n",
       "      <td> 22562</td>\n",
       "      <td>-1953161</td>\n",
       "      <td>-1306950</td>\n",
       "      <td>-5522292</td>\n",
       "    </tr>\n",
       "    <tr>\n",
       "      <th>118</th>\n",
       "      <td> 137</td>\n",
       "      <td> G</td>\n",
       "      <td> 23718</td>\n",
       "      <td>  2173</td>\n",
       "      <td>  8264767</td>\n",
       "      <td>  3021</td>\n",
       "      <td> -414653</td>\n",
       "      <td> -263559</td>\n",
       "      <td>-8250150</td>\n",
       "    </tr>\n",
       "    <tr>\n",
       "      <th>119</th>\n",
       "      <td> 138</td>\n",
       "      <td> G</td>\n",
       "      <td> 21595</td>\n",
       "      <td>  4621</td>\n",
       "      <td>  7970400</td>\n",
       "      <td>  1540</td>\n",
       "      <td> -211655</td>\n",
       "      <td>  -92558</td>\n",
       "      <td>-7967051</td>\n",
       "    </tr>\n",
       "    <tr>\n",
       "      <th>120</th>\n",
       "      <td> 139</td>\n",
       "      <td> G</td>\n",
       "      <td> 17675</td>\n",
       "      <td>    41</td>\n",
       "      <td>  7190122</td>\n",
       "      <td>   582</td>\n",
       "      <td>  -63980</td>\n",
       "      <td> -148799</td>\n",
       "      <td>-7188297</td>\n",
       "    </tr>\n",
       "    <tr>\n",
       "      <th>121</th>\n",
       "      <td> 140</td>\n",
       "      <td> G</td>\n",
       "      <td> 17805</td>\n",
       "      <td> 12389</td>\n",
       "      <td>  6855718</td>\n",
       "      <td> 11131</td>\n",
       "      <td>  733592</td>\n",
       "      <td>-1207713</td>\n",
       "      <td>-6708512</td>\n",
       "    </tr>\n",
       "    <tr>\n",
       "      <th>122</th>\n",
       "      <td> 141</td>\n",
       "      <td> G</td>\n",
       "      <td> 22679</td>\n",
       "      <td>  3534</td>\n",
       "      <td>  7738931</td>\n",
       "      <td> 11903</td>\n",
       "      <td> 1124198</td>\n",
       "      <td>-1252531</td>\n",
       "      <td>-7553701</td>\n",
       "    </tr>\n",
       "    <tr>\n",
       "      <th>123</th>\n",
       "      <td> 142</td>\n",
       "      <td> G</td>\n",
       "      <td> 33368</td>\n",
       "      <td>  9216</td>\n",
       "      <td>  9446081</td>\n",
       "      <td> 14366</td>\n",
       "      <td> 2063601</td>\n",
       "      <td>-1255636</td>\n",
       "      <td>-9131998</td>\n",
       "    </tr>\n",
       "    <tr>\n",
       "      <th>124</th>\n",
       "      <td> 143</td>\n",
       "      <td> G</td>\n",
       "      <td> 37111</td>\n",
       "      <td>  2579</td>\n",
       "      <td> 10056139</td>\n",
       "      <td> 17075</td>\n",
       "      <td> 2719273</td>\n",
       "      <td>-1302532</td>\n",
       "      <td>-9593482</td>\n",
       "    </tr>\n",
       "    <tr>\n",
       "      <th>125</th>\n",
       "      <td> 144</td>\n",
       "      <td> G</td>\n",
       "      <td> 20406</td>\n",
       "      <td>  7479</td>\n",
       "      <td>  7728873</td>\n",
       "      <td>  2123</td>\n",
       "      <td>  276490</td>\n",
       "      <td> -196227</td>\n",
       "      <td>-7721433</td>\n",
       "    </tr>\n",
       "    <tr>\n",
       "      <th>126</th>\n",
       "      <td> 145</td>\n",
       "      <td> G</td>\n",
       "      <td> 21162</td>\n",
       "      <td>  4969</td>\n",
       "      <td>  7853778</td>\n",
       "      <td>  2978</td>\n",
       "      <td>  402046</td>\n",
       "      <td> -193729</td>\n",
       "      <td>-7841088</td>\n",
       "    </tr>\n",
       "    <tr>\n",
       "      <th>127</th>\n",
       "      <td> 146</td>\n",
       "      <td> G</td>\n",
       "      <td> 22548</td>\n",
       "      <td>   840</td>\n",
       "      <td>  8031590</td>\n",
       "      <td>  7439</td>\n",
       "      <td>  994615</td>\n",
       "      <td>  177706</td>\n",
       "      <td>-7967785</td>\n",
       "    </tr>\n",
       "    <tr>\n",
       "      <th>128</th>\n",
       "      <td> 147</td>\n",
       "      <td> G</td>\n",
       "      <td> 20926</td>\n",
       "      <td>  2440</td>\n",
       "      <td>  7890339</td>\n",
       "      <td>  1989</td>\n",
       "      <td>  195543</td>\n",
       "      <td>   67241</td>\n",
       "      <td>-7887629</td>\n",
       "    </tr>\n",
       "    <tr>\n",
       "      <th>129</th>\n",
       "      <td> 148</td>\n",
       "      <td> G</td>\n",
       "      <td> 19529</td>\n",
       "      <td>   696</td>\n",
       "      <td>  7607519</td>\n",
       "      <td>   677</td>\n",
       "      <td>   34559</td>\n",
       "      <td>  -37222</td>\n",
       "      <td>-7607349</td>\n",
       "    </tr>\n",
       "    <tr>\n",
       "      <th>130</th>\n",
       "      <td> 149</td>\n",
       "      <td> G</td>\n",
       "      <td> 20302</td>\n",
       "      <td>   764</td>\n",
       "      <td>  7734668</td>\n",
       "      <td>  3975</td>\n",
       "      <td>   -7419</td>\n",
       "      <td>  414200</td>\n",
       "      <td>-7723566</td>\n",
       "    </tr>\n",
       "    <tr>\n",
       "      <th>131</th>\n",
       "      <td> 150</td>\n",
       "      <td> G</td>\n",
       "      <td> 24528</td>\n",
       "      <td>  4866</td>\n",
       "      <td>  8460959</td>\n",
       "      <td>  4822</td>\n",
       "      <td> -280625</td>\n",
       "      <td>  520315</td>\n",
       "      <td>-8440281</td>\n",
       "    </tr>\n",
       "    <tr>\n",
       "      <th>132</th>\n",
       "      <td> 151</td>\n",
       "      <td> G</td>\n",
       "      <td> 26101</td>\n",
       "      <td>  6223</td>\n",
       "      <td>  8663651</td>\n",
       "      <td>  5092</td>\n",
       "      <td> -672341</td>\n",
       "      <td>  236710</td>\n",
       "      <td>-8634279</td>\n",
       "    </tr>\n",
       "    <tr>\n",
       "      <th>133</th>\n",
       "      <td> 152</td>\n",
       "      <td> G</td>\n",
       "      <td> 31241</td>\n",
       "      <td> 10377</td>\n",
       "      <td>  9337215</td>\n",
       "      <td>  7595</td>\n",
       "      <td>-1064655</td>\n",
       "      <td>  477731</td>\n",
       "      <td>-9264009</td>\n",
       "    </tr>\n",
       "    <tr>\n",
       "      <th>134</th>\n",
       "      <td> 153</td>\n",
       "      <td> G</td>\n",
       "      <td> 25617</td>\n",
       "      <td>  6331</td>\n",
       "      <td>  8696359</td>\n",
       "      <td>  4312</td>\n",
       "      <td>  523340</td>\n",
       "      <td>  255068</td>\n",
       "      <td>-8676849</td>\n",
       "    </tr>\n",
       "    <tr>\n",
       "      <th>135</th>\n",
       "      <td> 154</td>\n",
       "      <td> G</td>\n",
       "      <td> 24864</td>\n",
       "      <td>  5062</td>\n",
       "      <td>  8347051</td>\n",
       "      <td>  5047</td>\n",
       "      <td> -705588</td>\n",
       "      <td> -334458</td>\n",
       "      <td>-8310448</td>\n",
       "    </tr>\n",
       "    <tr>\n",
       "      <th>136</th>\n",
       "      <td> 155</td>\n",
       "      <td> G</td>\n",
       "      <td> 21552</td>\n",
       "      <td>  3869</td>\n",
       "      <td>  7769343</td>\n",
       "      <td>  4464</td>\n",
       "      <td> -515518</td>\n",
       "      <td> -438376</td>\n",
       "      <td>-7739816</td>\n",
       "    </tr>\n",
       "    <tr>\n",
       "      <th>137</th>\n",
       "      <td> 156</td>\n",
       "      <td> G</td>\n",
       "      <td> 16906</td>\n",
       "      <td>  9679</td>\n",
       "      <td>  6634123</td>\n",
       "      <td> 16174</td>\n",
       "      <td> 1308985</td>\n",
       "      <td>-1404846</td>\n",
       "      <td>-6350162</td>\n",
       "    </tr>\n",
       "    <tr>\n",
       "      <th>138</th>\n",
       "      <td> 157</td>\n",
       "      <td> G</td>\n",
       "      <td> 20281</td>\n",
       "      <td>  2758</td>\n",
       "      <td>  7635160</td>\n",
       "      <td>  5213</td>\n",
       "      <td>  693401</td>\n",
       "      <td>  -98909</td>\n",
       "      <td>-7602965</td>\n",
       "    </tr>\n",
       "  </tbody>\n",
       "</table>\n",
       "<p>139 rows × 9 columns</p>\n",
       "</div>"
      ],
      "text/plain": [
       "     Unnamed: 0 Type  Precision    RMS     Range  Direction        X        Y  \\\n",
       "0            19    M      18841   3609   6946071      22366 -2495922   768215   \n",
       "1            20    M      17684    121   6694072      20331 -2189589   684936   \n",
       "2            21    M      10987  17919   5357418      12336   193847 -1210530   \n",
       "3            22    M      14547   6941   6239373       9509  -988059   196378   \n",
       "4            23    M      20899   1983   7628989       5484  -720332  -232559   \n",
       "5            24    M      16463  14334   6695507       7474   627176  -709002   \n",
       "6            25    M      15715  14497   6470704      13551  1380835  -725420   \n",
       "7            26    M      10545   2483   5411748      15792  1469916     9920   \n",
       "8            27    M      17165   8017   7098827       2423  -146014   150146   \n",
       "9            28    M      22659   5080   7554364      15250 -1249228  1430011   \n",
       "10           29    M      30090   5311   8769187      14222 -1315604  1571610   \n",
       "11           30    M      19024   3224   7179622      11867   441680  1297695   \n",
       "12           31    M      26849   2068   8705464      12180  1812728   161441   \n",
       "13           32    M      30749   3768   9018521      12351 -1792906   572623   \n",
       "14           33    M      32470   3202   9280584      11415 -1588821   777838   \n",
       "15           34    F      23733  10020   8109363      14858  2057388  -425348   \n",
       "16           35    F      17273    680   6810166      11123  -372308  1154242   \n",
       "17           36    M      17814   1028   7214300       4075   -80607   392622   \n",
       "18           37    F      13123   2928   5708157      14219  -749360 -1272241   \n",
       "19           38    F      15910   2249   6640921       5199  -116773  -694687   \n",
       "20           39    F      12350   3221   5754900       6251  -411897  -562550   \n",
       "21           40    M      14377   7848   6127411       8780  -571542  -835859   \n",
       "22           41    F      16248   7438   6446148      11217  -681711 -1152151   \n",
       "23           42    F      15637   5301   6351190      10056  -661854  -988475   \n",
       "24           43    F      10646   2871   5147549      12119  -820838  -782378   \n",
       "25           44    F      14234   2530   5963285      12585  -902371 -1026723   \n",
       "26           45    M      22227    245   7802088       6910  -292800 -1014088   \n",
       "27           46    F      19406   8379   7238955       6830  -515245  -803121   \n",
       "28           47    F      17608   4735   6865776       7346  -792965  -484112   \n",
       "29           48    F      15211   7600   6437565       5564  -462544  -520198   \n",
       "..          ...  ...        ...    ...       ...        ...      ...      ...   \n",
       "109         128    G      23121   5678   7903857      17838  2147379 -1236929   \n",
       "110         129    G      26552   2910   8586082       8047  1129976  -543792   \n",
       "111         130    G      21397   5134   7784349       7379   999749  -130062   \n",
       "112         131    G      40252   2044  10247791      16136 -2737164   631227   \n",
       "113         132    G      21057    906   7357098      20710 -2578024  -459120   \n",
       "114         133    G      22369   2731   7498935      14884 -1826218  -726893   \n",
       "115         134    G      34050   5017   9179147      15708 -2068270 -1516961   \n",
       "116         135    G      16050   2231   6268908      21243 -1978523 -1207680   \n",
       "117         136    G      14673   7271   6001555      22562 -1953161 -1306950   \n",
       "118         137    G      23718   2173   8264767       3021  -414653  -263559   \n",
       "119         138    G      21595   4621   7970400       1540  -211655   -92558   \n",
       "120         139    G      17675     41   7190122        582   -63980  -148799   \n",
       "121         140    G      17805  12389   6855718      11131   733592 -1207713   \n",
       "122         141    G      22679   3534   7738931      11903  1124198 -1252531   \n",
       "123         142    G      33368   9216   9446081      14366  2063601 -1255636   \n",
       "124         143    G      37111   2579  10056139      17075  2719273 -1302532   \n",
       "125         144    G      20406   7479   7728873       2123   276490  -196227   \n",
       "126         145    G      21162   4969   7853778       2978   402046  -193729   \n",
       "127         146    G      22548    840   8031590       7439   994615   177706   \n",
       "128         147    G      20926   2440   7890339       1989   195543    67241   \n",
       "129         148    G      19529    696   7607519        677    34559   -37222   \n",
       "130         149    G      20302    764   7734668       3975    -7419   414200   \n",
       "131         150    G      24528   4866   8460959       4822  -280625   520315   \n",
       "132         151    G      26101   6223   8663651       5092  -672341   236710   \n",
       "133         152    G      31241  10377   9337215       7595 -1064655   477731   \n",
       "134         153    G      25617   6331   8696359       4312   523340   255068   \n",
       "135         154    G      24864   5062   8347051       5047  -705588  -334458   \n",
       "136         155    G      21552   3869   7769343       4464  -515518  -438376   \n",
       "137         156    G      16906   9679   6634123      16174  1308985 -1404846   \n",
       "138         157    G      20281   2758   7635160       5213   693401   -98909   \n",
       "\n",
       "           Z  \n",
       "0   -6436468  \n",
       "1   -6288653  \n",
       "2   -5215263  \n",
       "3   -6157512  \n",
       "4   -7591345  \n",
       "5   -6628256  \n",
       "6   -6279895  \n",
       "7   -5208288  \n",
       "8   -7095737  \n",
       "9   -7311834  \n",
       "10  -8526305  \n",
       "11  -7047545  \n",
       "12  -8513111  \n",
       "13  -8819938  \n",
       "14  -9110425  \n",
       "15  -7832497  \n",
       "16  -6701304  \n",
       "17  -7203158  \n",
       "18  -5513885  \n",
       "19  -6603454  \n",
       "20  -5712508  \n",
       "21  -6043165  \n",
       "22  -6305604  \n",
       "23  -6238789  \n",
       "24  -5021092  \n",
       "25  -5804510  \n",
       "26  -7730360  \n",
       "27  -7175792  \n",
       "28  -6802626  \n",
       "29  -6399820  \n",
       "..       ...  \n",
       "109 -7505313  \n",
       "110 -8494013  \n",
       "111 -7718787  \n",
       "112 -9855288  \n",
       "113 -6875310  \n",
       "114 -7236752  \n",
       "115 -8813503  \n",
       "116 -5824617  \n",
       "117 -5522292  \n",
       "118 -8250150  \n",
       "119 -7967051  \n",
       "120 -7188297  \n",
       "121 -6708512  \n",
       "122 -7553701  \n",
       "123 -9131998  \n",
       "124 -9593482  \n",
       "125 -7721433  \n",
       "126 -7841088  \n",
       "127 -7967785  \n",
       "128 -7887629  \n",
       "129 -7607349  \n",
       "130 -7723566  \n",
       "131 -8440281  \n",
       "132 -8634279  \n",
       "133 -9264009  \n",
       "134 -8676849  \n",
       "135 -8310448  \n",
       "136 -7739816  \n",
       "137 -6350162  \n",
       "138 -7602965  \n",
       "\n",
       "[139 rows x 9 columns]"
      ]
     },
     "execution_count": 24,
     "metadata": {},
     "output_type": "execute_result"
    }
   ],
   "source": [
    "id_frame = 2\n",
    "frame = read_csv(data/'frame_'+str(id_frame)+'/points.csv', sep='\\t')\n",
    "frame"
   ]
  },
  {
   "cell_type": "markdown",
   "metadata": {},
   "source": [
    "On each frame, bodanius are are represented by spheres"
   ]
  },
  {
   "cell_type": "code",
   "execution_count": 25,
   "metadata": {
    "collapsed": false
   },
   "outputs": [
    {
     "data": {
      "image/png": "[encoded data removed]",
      "text/plain": [
       "<matplotlib.figure.Figure at 0x7f7c7117aa90>"
      ]
     },
     "metadata": {},
     "output_type": "display_data"
    }
   ],
   "source": [
    "from wanda.frame import plot_spheres\n",
    "\n",
    "window = vtk.vtkRenderWindow()\n",
    "renderer = renderers(window, 1,1).pop()\n",
    "\n",
    "plot_spheres(frame[frame.Type != 'G'], renderer, 0., 1., 0., size=200000)\n",
    "\n",
    "show(window)\n",
    "del window"
   ]
  },
  {
   "cell_type": "markdown",
   "metadata": {},
   "source": [
    "On each frame the ground is represented by a surface representing the delaunay triangulation of avaible points."
   ]
  },
  {
   "cell_type": "code",
   "execution_count": 26,
   "metadata": {
    "collapsed": false
   },
   "outputs": [
    {
     "data": {
      "image/png": "[encoded data removed]",
      "text/plain": [
       "<matplotlib.figure.Figure at 0x7f7c4abfe650>"
      ]
     },
     "metadata": {},
     "output_type": "display_data"
    }
   ],
   "source": [
    "from wanda.frame import plot_delaunay_2D\n",
    "\n",
    "window = vtk.vtkRenderWindow()\n",
    "renderer = renderers(window, 1,1).pop()\n",
    "\n",
    "plot_delaunay_2D(frame[frame.Type == 'G'], renderer, 1., 1., 0.)\n",
    "\n",
    "show(window)\n",
    "del window"
   ]
  },
  {
   "cell_type": "markdown",
   "metadata": {},
   "source": [
    "The resulting frame is a combination of:\n",
    "\n",
    "* A yellow surface representing the ground.\n",
    "* Blue spheres representing male bodanius.\n",
    "* Red spheres representing female bodanius."
   ]
  },
  {
   "cell_type": "code",
   "execution_count": 27,
   "metadata": {
    "collapsed": false
   },
   "outputs": [
    {
     "data": {
      "image/png": "[encoded data removed]",
      "text/plain": [
       "<matplotlib.figure.Figure at 0x7f7c4d2e17d0>"
      ]
     },
     "metadata": {},
     "output_type": "display_data"
    }
   ],
   "source": [
    "id_frame = 4\n",
    "frame = read_csv(data/'frame_'+str(id_frame)+'/points.csv', sep='\\t')\n",
    "\n",
    "window = vtk.vtkRenderWindow()\n",
    "renderer = renderers(window, 1,1).pop()\n",
    "\n",
    "plot_spheres(frame[frame.Type == 'M'], renderer, 0., 0., 1., size=200000)\n",
    "plot_spheres(frame[frame.Type == 'F'], renderer, 1., 0., 0., size=200000)\n",
    "plot_delaunay_2D(frame[frame.Type == 'G'], renderer, 1., 1., 0.)\n",
    "\n",
    "show(window, magnification=5, name='./frame.png')\n",
    "del window"
   ]
  },
  {
   "cell_type": "markdown",
   "metadata": {},
   "source": [
    "### Distances between individuals"
   ]
  },
  {
   "cell_type": "markdown",
   "metadata": {},
   "source": [
    "Since the units of positions are in micrometers, one use the `SI` function to convert them into meters."
   ]
  },
  {
   "cell_type": "code",
   "execution_count": 29,
   "metadata": {
    "collapsed": true
   },
   "outputs": [],
   "source": [
    "from wanda.tools import SI"
   ]
  },
  {
   "cell_type": "markdown",
   "metadata": {},
   "source": [
    "In order to compare behaviours of males and females we consider sex minimal intra and inter-distances.\n",
    "The minimal intra-distance is the minimal distance of one individual to another individual of the same sex.\n",
    "*A contrario*, the minimal inter-distance is the minimal distance of one individual to another individual of the other sex.\n",
    "These distances are displayed using conditional histograms for males (in blue) and females (in red) and statistically compared using:\n",
    "\n",
    "* [Wilcoxon rank sum test](http://en.wikipedia.org/wiki/Wilcoxon_signed-rank_test),\n",
    "* Gamma [GLMs](http://en.wikipedia.org/wiki/Generalized_linear_model), \n",
    "* Model selection using the `step` function and the Bayesian Information Criterion ([BIC](http://en.wikipedia.org/wiki/Bayesian_information_criterion)).\n",
    "\n",
    "The Wilcoxon rank sum test and Gamma GLMs are used since the obersations are clearly non-normal."
   ]
  },
  {
   "cell_type": "markdown",
   "metadata": {},
   "source": [
    "#### Intra-distances"
   ]
  },
  {
   "cell_type": "code",
   "execution_count": 30,
   "metadata": {
    "collapsed": false
   },
   "outputs": [
    {
     "data": {
      "image/png": "[encoded data removed]",
      "text/plain": [
       "<matplotlib.figure.Figure at 0x7f2ce331e110>"
      ]
     },
     "metadata": {},
     "output_type": "display_data"
    }
   ],
   "source": [
    "from wanda.distances import intra\n",
    "frames = []\n",
    "for id_frame in range(1,20):\n",
    "    frame = read_csv(data/'frame_'+str(id_frame)+'/points.csv', sep='\\t')\n",
    "    for sex in ['F', 'M']:\n",
    "        if id_frame < 16:\n",
    "            X, Y, Z = SI(frame[frame.Type == sex], 'micro')\n",
    "        else:\n",
    "            X, Y, Z = SI(frame[frame.Type == sex], 'mm')\n",
    "        for d in intra(X, Y, Z):\n",
    "            frames.append([d, sex])\n",
    "frames = DataFrame(data=frames, columns=['d', 'sex'])\n",
    "%Rpush frames\n",
    "fig = plt.figure(figsize=(15,5))\n",
    "axes = fig.add_subplot(1,1,1)\n",
    "histM = axes.hist(frames[frames.sex == 'M'].d.tolist(), alpha=.5, color='b', normed=True)\n",
    "histF = axes.hist(frames[frames.sex == 'F'].d.tolist(), alpha=.5, color='r', normed=True)"
   ]
  },
  {
   "cell_type": "code",
   "execution_count": 31,
   "metadata": {
    "collapsed": false
   },
   "outputs": [
    {
     "data": {
      "text/plain": [
       "\n",
       "\tWilcoxon rank sum test with continuity correction\n",
       "\n",
       "data:  d by sex\n",
       "W = 11759, p-value = 1.166e-13\n",
       "alternative hypothesis: true location shift is not equal to 0\n",
       "\n"
      ]
     },
     "metadata": {},
     "output_type": "display_data"
    }
   ],
   "source": [
    "%%R\n",
    "wilcox.test(d ~ sex, data=frames)"
   ]
  },
  {
   "cell_type": "code",
   "execution_count": 32,
   "metadata": {
    "collapsed": false
   },
   "outputs": [
    {
     "data": {
      "text/plain": [
       "\n",
       "Call:\n",
       "glm(formula = d ~ sex, family = Gamma, data = frames)\n",
       "\n",
       "Deviance Residuals: \n",
       "    Min       1Q   Median       3Q      Max  \n",
       "-1.2279  -0.5199  -0.2147   0.1997   1.4972  \n",
       "\n",
       "Coefficients:\n",
       "            Estimate Std. Error t value Pr(>|t|)    \n",
       "(Intercept)  0.89874    0.03703  24.269  < 2e-16 ***\n",
       "sexM        -0.28610    0.04507  -6.348 5.88e-10 ***\n",
       "---\n",
       "Signif. codes:  0 ‘***’ 0.001 ‘**’ 0.01 ‘*’ 0.05 ‘.’ 0.1 ‘ ’ 1\n",
       "\n",
       "(Dispersion parameter for Gamma family taken to be 0.3498013)\n",
       "\n",
       "    Null deviance: 137.38  on 404  degrees of freedom\n",
       "Residual deviance: 122.57  on 403  degrees of freedom\n",
       "AIC: 808.07\n",
       "\n",
       "Number of Fisher Scoring iterations: 5\n",
       "\n"
      ]
     },
     "metadata": {},
     "output_type": "display_data"
    }
   ],
   "source": [
    "%%R\n",
    "reg = glm(d~sex,family=Gamma, data=frames)\n",
    "summary(reg)"
   ]
  },
  {
   "cell_type": "code",
   "execution_count": 33,
   "metadata": {
    "collapsed": false
   },
   "outputs": [
    {
     "data": {
      "text/plain": [
       "$names\n",
       " [1] \"coefficients\"      \"residuals\"         \"fitted.values\"    \n",
       " [4] \"effects\"           \"R\"                 \"rank\"             \n",
       " [7] \"qr\"                \"family\"            \"linear.predictors\"\n",
       "[10] \"deviance\"          \"aic\"               \"null.deviance\"    \n",
       "[13] \"iter\"              \"weights\"           \"prior.weights\"    \n",
       "[16] \"df.residual\"       \"df.null\"           \"y\"                \n",
       "[19] \"converged\"         \"boundary\"          \"model\"            \n",
       "[22] \"call\"              \"formula\"           \"terms\"            \n",
       "[25] \"data\"              \"offset\"            \"control\"          \n",
       "[28] \"method\"            \"contrasts\"         \"xlevels\"          \n",
       "\n",
       "$class\n",
       "[1] \"glm\" \"lm\" \n",
       "\n"
      ]
     },
     "metadata": {},
     "output_type": "display_data"
    }
   ],
   "source": [
    "%%R\n",
    "attributes(reg)"
   ]
  },
  {
   "cell_type": "code",
   "execution_count": 34,
   "metadata": {
    "collapsed": false
   },
   "outputs": [
    {
     "data": {
      "text/plain": [
       "Start:  AIC=813.92\n",
       "d ~ sex\n",
       "\n",
       "       Df Deviance    AIC\n",
       "<none>      122.57 813.92\n",
       "- sex   1   137.38 851.33\n",
       "\n",
       "Call:  glm(formula = d ~ sex, family = Gamma, data = frames)\n",
       "\n",
       "Coefficients:\n",
       "(Intercept)         sexM  \n",
       "     0.8987      -0.2861  \n",
       "\n",
       "Degrees of Freedom: 404 Total (i.e. Null);  403 Residual\n",
       "Null Deviance:\t    137.4 \n",
       "Residual Deviance: 122.6 \tAIC: 808.1\n"
      ]
     },
     "metadata": {},
     "output_type": "display_data"
    }
   ],
   "source": [
    "%%R\n",
    "step(reg, k = log(reg$n))"
   ]
  },
  {
   "cell_type": "markdown",
   "metadata": {},
   "source": [
    "The three approaches (Test, GLMs+Test and Model selection) are considering that intra-distances within females and within males are significatively different.\n",
    "Males tend to be less close than females."
   ]
  },
  {
   "cell_type": "markdown",
   "metadata": {},
   "source": [
    "#### Inter-distances"
   ]
  },
  {
   "cell_type": "markdown",
   "metadata": {},
   "source": [
    "Inter-distances are not really relevant and are not significatively different.\n",
    "The approach below comparing intra-distances to inter-distances seems to be more relevant."
   ]
  },
  {
   "cell_type": "code",
   "execution_count": 35,
   "metadata": {
    "collapsed": false
   },
   "outputs": [
    {
     "data": {
      "image/png": "[encoded data removed]",
      "text/plain": [
       "<matplotlib.figure.Figure at 0x7f2ce331f550>"
      ]
     },
     "metadata": {},
     "output_type": "display_data"
    }
   ],
   "source": [
    "from wanda.distances import inter\n",
    "frames = []\n",
    "for id_frame in range(1,20):\n",
    "    frame = read_csv(data/'frame_'+str(id_frame)+'/points.csv', sep='\\t')\n",
    "    for sex in ['F', 'M']:\n",
    "        if id_frame < 16:\n",
    "            X0, Y0, Z0 = SI(frame[frame.Type == sex], 'micro')\n",
    "            X1, Y1, Z1 = SI(frame[frame.Type == 'G'], 'micro')\n",
    "        else:\n",
    "            X0, Y0, Z0 = SI(frame[frame.Type == sex], 'mm')\n",
    "            X1, Y1, Z1 = SI(frame[frame.Type == 'G'], 'mm')\n",
    "        for d in inter(X0, Y0, Z0, X1, Y1, Z1):\n",
    "            frames.append([d, sex])\n",
    "frames = DataFrame(data=frames, columns=['d', 'sex'])\n",
    "%Rpush frames\n",
    "fig = plt.figure(figsize=(15,5))\n",
    "axes = fig.add_subplot(1,1,1)\n",
    "histM = axes.hist(frames[frames.sex == 'M'].d.tolist(), alpha=.5, color='b', normed=True)\n",
    "histF = axes.hist(frames[frames.sex == 'F'].d.tolist(), alpha=.5, color='r', normed=True)"
   ]
  },
  {
   "cell_type": "code",
   "execution_count": 36,
   "metadata": {
    "collapsed": false
   },
   "outputs": [
    {
     "data": {
      "text/plain": [
       "\n",
       "\tWilcoxon rank sum test with continuity correction\n",
       "\n",
       "data:  d by sex\n",
       "W = 3065, p-value = 2.248e-05\n",
       "alternative hypothesis: true location shift is not equal to 0\n",
       "\n"
      ]
     },
     "metadata": {},
     "output_type": "display_data"
    }
   ],
   "source": [
    "%%R\n",
    "wilcox.test(d ~ sex, data=frames)"
   ]
  },
  {
   "cell_type": "code",
   "execution_count": 37,
   "metadata": {
    "collapsed": false
   },
   "outputs": [
    {
     "data": {
      "text/plain": [
       "\n",
       "Call:\n",
       "glm(formula = d ~ sex, family = Gamma, data = frames)\n",
       "\n",
       "Deviance Residuals: \n",
       "    Min       1Q   Median       3Q      Max  \n",
       "-1.6459  -0.4962  -0.1686   0.2953   1.7357  \n",
       "\n",
       "Coefficients:\n",
       "            Estimate Std. Error t value Pr(>|t|)    \n",
       "(Intercept)   2.0157     0.1236  16.308  < 2e-16 ***\n",
       "sexM         -0.6190     0.1473  -4.202 4.03e-05 ***\n",
       "---\n",
       "Signif. codes:  0 ‘***’ 0.001 ‘**’ 0.01 ‘*’ 0.05 ‘.’ 0.1 ‘ ’ 1\n",
       "\n",
       "(Dispersion parameter for Gamma family taken to be 0.3422079)\n",
       "\n",
       "    Null deviance: 69.885  on 194  degrees of freedom\n",
       "Residual deviance: 63.441  on 193  degrees of freedom\n",
       "AIC: 90.443\n",
       "\n",
       "Number of Fisher Scoring iterations: 5\n",
       "\n"
      ]
     },
     "metadata": {},
     "output_type": "display_data"
    }
   ],
   "source": [
    "%%R\n",
    "reg = glm(d~sex,family=Gamma, data=frames)\n",
    "summary(reg)"
   ]
  },
  {
   "cell_type": "code",
   "execution_count": 38,
   "metadata": {
    "collapsed": false
   },
   "outputs": [
    {
     "data": {
      "text/plain": [
       "Start:  AIC=94.94\n",
       "d ~ sex\n",
       "\n",
       "       Df Deviance     AIC\n",
       "<none>      63.441  94.937\n",
       "- sex   1   69.885 109.521\n",
       "\n",
       "Call:  glm(formula = d ~ sex, family = Gamma, data = frames)\n",
       "\n",
       "Coefficients:\n",
       "(Intercept)         sexM  \n",
       "      2.016       -0.619  \n",
       "\n",
       "Degrees of Freedom: 194 Total (i.e. Null);  193 Residual\n",
       "Null Deviance:\t    69.89 \n",
       "Residual Deviance: 63.44 \tAIC: 90.44\n"
      ]
     },
     "metadata": {},
     "output_type": "display_data"
    }
   ],
   "source": [
    "%%R\n",
    "step(reg, k = log(reg$n))"
   ]
  },
  {
   "cell_type": "code",
   "execution_count": 39,
   "metadata": {
    "collapsed": false
   },
   "outputs": [
    {
     "data": {
      "image/png": "[encoded data removed]"
     },
     "metadata": {},
     "output_type": "display_data"
    }
   ],
   "source": [
    "%%R\n",
    "par(mfrow=c(2,2))\n",
    "plot(reg)"
   ]
  },
  {
   "cell_type": "markdown",
   "metadata": {},
   "source": [
    "#### Comparison of inter and intra-distances"
   ]
  },
  {
   "cell_type": "markdown",
   "metadata": {},
   "source": [
    "We compare hereabove the intra and inter-distances for males and females.\n",
    "For both, after a statistical analysis it appears that males are closest to females than to males and vice-versa."
   ]
  },
  {
   "cell_type": "code",
   "execution_count": 40,
   "metadata": {
    "collapsed": false
   },
   "outputs": [
    {
     "data": {
      "image/png": "[encoded data removed]",
      "text/plain": [
       "<matplotlib.figure.Figure at 0x7f2ce22c4390>"
      ]
     },
     "metadata": {},
     "output_type": "display_data"
    }
   ],
   "source": [
    "frames = []\n",
    "for id_frame in range(1,20):\n",
    "    frame = read_csv(data/'frame_'+str(id_frame)+'/points.csv', sep='\\t')\n",
    "    if id_frame < 16:\n",
    "        X0, Y0, Z0 = SI(frame[frame.Type == 'M'], 'micro')\n",
    "        X1, Y1, Z1 = SI(frame[frame.Type == 'F'], 'micro')\n",
    "    else:\n",
    "        X0, Y0, Z0 = SI(frame[frame.Type == 'M'], 'mm')\n",
    "        X1, Y1, Z1 = SI(frame[frame.Type == 'F'], 'mm')  \n",
    "    for d in inter(X0, Y0, Z0, X1, Y1, Z1):\n",
    "        frames.append([d, 'F'])\n",
    "    for d in intra(X0, Y0, Z0):\n",
    "        frames.append([d, 'M'])\n",
    "frames = DataFrame(data=frames, columns=['d', 'sex'])\n",
    "%Rpush frames\n",
    "fig = plt.figure(figsize=(15,5))\n",
    "axes = fig.add_subplot(1,1,1)\n",
    "histM = axes.hist(frames[frames.sex == 'M'].d.tolist(), alpha=.5, color='b', normed=True)\n",
    "histF = axes.hist(frames[frames.sex == 'F'].d.tolist(), alpha=.5, color='r', normed=True)"
   ]
  },
  {
   "cell_type": "code",
   "execution_count": 41,
   "metadata": {
    "collapsed": false
   },
   "outputs": [
    {
     "data": {
      "text/plain": [
       "\n",
       "\tWilcoxon rank sum test with continuity correction\n",
       "\n",
       "data:  d by sex\n",
       "W = 2292, p-value < 2.2e-16\n",
       "alternative hypothesis: true location shift is not equal to 0\n",
       "\n"
      ]
     },
     "metadata": {},
     "output_type": "display_data"
    }
   ],
   "source": [
    "%%R\n",
    "wilcox.test(d ~ sex, data=frames)"
   ]
  },
  {
   "cell_type": "code",
   "execution_count": 42,
   "metadata": {
    "collapsed": false
   },
   "outputs": [
    {
     "data": {
      "text/plain": [
       "\n",
       "Call:\n",
       "glm(formula = d ~ sex, family = Gamma, data = frames)\n",
       "\n",
       "Deviance Residuals: \n",
       "    Min       1Q   Median       3Q      Max  \n",
       "-1.5478  -0.4688  -0.1550   0.1913   1.3228  \n",
       "\n",
       "Coefficients:\n",
       "            Estimate Std. Error t value Pr(>|t|)    \n",
       "(Intercept)  1.28133    0.08423  15.213  < 2e-16 ***\n",
       "sexM        -0.66870    0.08750  -7.642 3.88e-13 ***\n",
       "---\n",
       "Signif. codes:  0 ‘***’ 0.001 ‘**’ 0.01 ‘*’ 0.05 ‘.’ 0.1 ‘ ’ 1\n",
       "\n",
       "(Dispersion parameter for Gamma family taken to be 0.29814)\n",
       "\n",
       "    Null deviance: 100.65  on 267  degrees of freedom\n",
       "Residual deviance:  76.16  on 266  degrees of freedom\n",
       "AIC: 526.67\n",
       "\n",
       "Number of Fisher Scoring iterations: 5\n",
       "\n"
      ]
     },
     "metadata": {},
     "output_type": "display_data"
    }
   ],
   "source": [
    "%%R\n",
    "reg = glm(d~sex,family=Gamma, data=frames)\n",
    "summary(reg)"
   ]
  },
  {
   "cell_type": "code",
   "execution_count": 43,
   "metadata": {
    "collapsed": false
   },
   "outputs": [
    {
     "data": {
      "text/plain": [
       "Start:  AIC=531.89\n",
       "d ~ sex\n",
       "\n",
       "       Df Deviance    AIC\n",
       "<none>       76.16 531.89\n",
       "- sex   1   100.65 609.42\n",
       "\n",
       "Call:  glm(formula = d ~ sex, family = Gamma, data = frames)\n",
       "\n",
       "Coefficients:\n",
       "(Intercept)         sexM  \n",
       "     1.2813      -0.6687  \n",
       "\n",
       "Degrees of Freedom: 267 Total (i.e. Null);  266 Residual\n",
       "Null Deviance:\t    100.6 \n",
       "Residual Deviance: 76.16 \tAIC: 526.7\n"
      ]
     },
     "metadata": {},
     "output_type": "display_data"
    }
   ],
   "source": [
    "%%R\n",
    "step(reg, k = log(reg$n))"
   ]
  },
  {
   "cell_type": "code",
   "execution_count": 44,
   "metadata": {
    "collapsed": false
   },
   "outputs": [
    {
     "data": {
      "image/png": "[encoded data removed]"
     },
     "metadata": {},
     "output_type": "display_data"
    }
   ],
   "source": [
    "%%R\n",
    "par(mfrow=c(2,2))\n",
    "plot(reg)"
   ]
  },
  {
   "cell_type": "code",
   "execution_count": 45,
   "metadata": {
    "collapsed": false
   },
   "outputs": [
    {
     "data": {
      "image/png": "[encoded data removed]",
      "text/plain": [
       "<matplotlib.figure.Figure at 0x7f2d2f096b10>"
      ]
     },
     "metadata": {},
     "output_type": "display_data"
    }
   ],
   "source": [
    "frames = []\n",
    "for id_frame in range(1,20):\n",
    "    frame = read_csv(data/'frame_'+str(id_frame)+'/points.csv', sep='\\t')\n",
    "    if id_frame < 16:\n",
    "        X0, Y0, Z0 = SI(frame[frame.Type == 'F'], 'micro')\n",
    "        X1, Y1, Z1 = SI(frame[frame.Type == 'M'], 'micro')\n",
    "    else:\n",
    "        X0, Y0, Z0 = SI(frame[frame.Type == 'F'], 'mm')\n",
    "        X1, Y1, Z1 = SI(frame[frame.Type == 'M'], 'mm')\n",
    "    for d in inter(X0, Y0, Z0, X1, Y1, Z1):\n",
    "        frames.append([d, 'M'])\n",
    "    for d in intra(X0, Y0, Z0):\n",
    "        frames.append([d, 'F'])\n",
    "frames = DataFrame(data=frames, columns=['d', 'sex'])\n",
    "%Rpush frames\n",
    "fig = plt.figure(figsize=(15,5))\n",
    "axes = fig.add_subplot(1,1,1)\n",
    "histM = axes.hist(frames[frames.sex == 'M'].d.tolist(), alpha=.5, color='b', normed=True)\n",
    "histF = axes.hist(frames[frames.sex == 'F'].d.tolist(), alpha=.5, color='r', normed=True)"
   ]
  },
  {
   "cell_type": "code",
   "execution_count": 46,
   "metadata": {
    "collapsed": false
   },
   "outputs": [
    {
     "data": {
      "text/plain": [
       "  Sex  d.Min. d.1st Qu. d.Median  d.Mean d.3rd Qu.  d.Max. sex.F sex.M\n",
       "1   F 0.34200   0.58160  0.87490 1.11300   1.51300 3.69500   206     0\n",
       "2   M 0.09829   0.55110  0.71100 0.74680   0.94020 1.73200     0   132\n"
      ]
     },
     "metadata": {},
     "output_type": "display_data"
    }
   ],
   "source": [
    "%%R\n",
    "aggregate(frames, list(Sex = frames$sex), summary)"
   ]
  },
  {
   "cell_type": "code",
   "execution_count": 47,
   "metadata": {
    "collapsed": false
   },
   "outputs": [
    {
     "data": {
      "text/plain": [
       "\n",
       "\tWilcoxon rank sum test with continuity correction\n",
       "\n",
       "data:  d by sex\n",
       "W = 17152, p-value = 4.952e-05\n",
       "alternative hypothesis: true location shift is not equal to 0\n",
       "\n"
      ]
     },
     "metadata": {},
     "output_type": "display_data"
    }
   ],
   "source": [
    "%%R\n",
    "wilcox.test(d ~ sex, data=frames)"
   ]
  },
  {
   "cell_type": "code",
   "execution_count": 48,
   "metadata": {
    "collapsed": false
   },
   "outputs": [
    {
     "data": {
      "text/plain": [
       "\n",
       "Call:\n",
       "glm(formula = d ~ sex, family = Gamma, data = frames)\n",
       "\n",
       "Deviance Residuals: \n",
       "    Min       1Q   Median       3Q      Max  \n",
       "-1.5228  -0.5852  -0.1793   0.2993   1.4972  \n",
       "\n",
       "Coefficients:\n",
       "            Estimate Std. Error t value Pr(>|t|)    \n",
       "(Intercept)  0.89874    0.03568   25.19  < 2e-16 ***\n",
       "sexM         0.44034    0.07540    5.84 1.23e-08 ***\n",
       "---\n",
       "Signif. codes:  0 ‘***’ 0.001 ‘**’ 0.01 ‘*’ 0.05 ‘.’ 0.1 ‘ ’ 1\n",
       "\n",
       "(Dispersion parameter for Gamma family taken to be 0.3247741)\n",
       "\n",
       "    Null deviance: 114.04  on 337  degrees of freedom\n",
       "Residual deviance: 101.69  on 336  degrees of freedom\n",
       "AIC: 441.33\n",
       "\n",
       "Number of Fisher Scoring iterations: 5\n",
       "\n"
      ]
     },
     "metadata": {},
     "output_type": "display_data"
    }
   ],
   "source": [
    "%%R\n",
    "reg = glm(d~sex,family=Gamma, data=frames)\n",
    "summary(reg)"
   ]
  },
  {
   "cell_type": "code",
   "execution_count": 49,
   "metadata": {
    "collapsed": false
   },
   "outputs": [
    {
     "data": {
      "text/plain": [
       "Start:  AIC=446.81\n",
       "d ~ sex\n",
       "\n",
       "       Df Deviance    AIC\n",
       "<none>      101.69 446.81\n",
       "- sex   1   114.04 480.11\n",
       "\n",
       "Call:  glm(formula = d ~ sex, family = Gamma, data = frames)\n",
       "\n",
       "Coefficients:\n",
       "(Intercept)         sexM  \n",
       "     0.8987       0.4403  \n",
       "\n",
       "Degrees of Freedom: 337 Total (i.e. Null);  336 Residual\n",
       "Null Deviance:\t    114 \n",
       "Residual Deviance: 101.7 \tAIC: 441.3\n"
      ]
     },
     "metadata": {},
     "output_type": "display_data"
    }
   ],
   "source": [
    "%%R\n",
    "step(reg, k = log(reg$n))"
   ]
  },
  {
   "cell_type": "markdown",
   "metadata": {},
   "source": [
    "## Providing estimates of abundance and volumetric density of fish using individual 3D coordinates"
   ]
  },
  {
   "cell_type": "markdown",
   "metadata": {},
   "source": [
    "Using convex hulls we are able to estimate the density of a set of fish."
   ]
  },
  {
   "cell_type": "code",
   "execution_count": 50,
   "metadata": {
    "collapsed": false
   },
   "outputs": [
    {
     "data": {
      "text/html": [
       "<div style=\"max-height:1000px;max-width:1500px;overflow:auto;\">\n",
       "<table border=\"1\" class=\"dataframe\">\n",
       "  <thead>\n",
       "    <tr style=\"text-align: right;\">\n",
       "      <th></th>\n",
       "      <th>c</th>\n",
       "      <th>sex</th>\n",
       "    </tr>\n",
       "  </thead>\n",
       "  <tbody>\n",
       "    <tr>\n",
       "      <th>0 </th>\n",
       "      <td> 2.450088</td>\n",
       "      <td> F</td>\n",
       "    </tr>\n",
       "    <tr>\n",
       "      <th>1 </th>\n",
       "      <td> 1.228412</td>\n",
       "      <td> M</td>\n",
       "    </tr>\n",
       "    <tr>\n",
       "      <th>2 </th>\n",
       "      <td> 3.620624</td>\n",
       "      <td> F</td>\n",
       "    </tr>\n",
       "    <tr>\n",
       "      <th>3 </th>\n",
       "      <td> 1.186523</td>\n",
       "      <td> M</td>\n",
       "    </tr>\n",
       "    <tr>\n",
       "      <th>4 </th>\n",
       "      <td> 3.429632</td>\n",
       "      <td> F</td>\n",
       "    </tr>\n",
       "    <tr>\n",
       "      <th>5 </th>\n",
       "      <td> 1.091303</td>\n",
       "      <td> M</td>\n",
       "    </tr>\n",
       "    <tr>\n",
       "      <th>6 </th>\n",
       "      <td> 5.168258</td>\n",
       "      <td> F</td>\n",
       "    </tr>\n",
       "    <tr>\n",
       "      <th>7 </th>\n",
       "      <td> 1.601316</td>\n",
       "      <td> M</td>\n",
       "    </tr>\n",
       "    <tr>\n",
       "      <th>8 </th>\n",
       "      <td> 2.203265</td>\n",
       "      <td> F</td>\n",
       "    </tr>\n",
       "    <tr>\n",
       "      <th>9 </th>\n",
       "      <td> 2.369772</td>\n",
       "      <td> M</td>\n",
       "    </tr>\n",
       "    <tr>\n",
       "      <th>11</th>\n",
       "      <td> 1.402278</td>\n",
       "      <td> M</td>\n",
       "    </tr>\n",
       "    <tr>\n",
       "      <th>13</th>\n",
       "      <td> 3.562269</td>\n",
       "      <td> M</td>\n",
       "    </tr>\n",
       "    <tr>\n",
       "      <th>15</th>\n",
       "      <td> 1.823780</td>\n",
       "      <td> M</td>\n",
       "    </tr>\n",
       "    <tr>\n",
       "      <th>17</th>\n",
       "      <td> 2.947524</td>\n",
       "      <td> M</td>\n",
       "    </tr>\n",
       "    <tr>\n",
       "      <th>19</th>\n",
       "      <td> 2.536074</td>\n",
       "      <td> M</td>\n",
       "    </tr>\n",
       "    <tr>\n",
       "      <th>20</th>\n",
       "      <td> 4.947402</td>\n",
       "      <td> F</td>\n",
       "    </tr>\n",
       "    <tr>\n",
       "      <th>22</th>\n",
       "      <td> 2.928430</td>\n",
       "      <td> F</td>\n",
       "    </tr>\n",
       "  </tbody>\n",
       "</table>\n",
       "</div>"
      ],
      "text/plain": [
       "           c sex\n",
       "0   2.450088   F\n",
       "1   1.228412   M\n",
       "2   3.620624   F\n",
       "3   1.186523   M\n",
       "4   3.429632   F\n",
       "5   1.091303   M\n",
       "6   5.168258   F\n",
       "7   1.601316   M\n",
       "8   2.203265   F\n",
       "9   2.369772   M\n",
       "11  1.402278   M\n",
       "13  3.562269   M\n",
       "15  1.823780   M\n",
       "17  2.947524   M\n",
       "19  2.536074   M\n",
       "20  4.947402   F\n",
       "22  2.928430   F"
      ]
     },
     "execution_count": 50,
     "metadata": {},
     "output_type": "execute_result"
    }
   ],
   "source": [
    "from wanda.concentration import convex_hull_concentration\n",
    "frames = []\n",
    "for id_frame in range(1,13):\n",
    "    frame = read_csv(data/'frame_'+str(id_frame)+'/points.csv', sep='\\t')\n",
    "    for sex in ['F', 'M']:\n",
    "        X, Y, Z = SI(frame[frame.Type == sex], 'micro')\n",
    "        c = convex_hull_concentration(X, Y, Z, nmin=3)\n",
    "        frames.append([c, sex])\n",
    "frames = DataFrame(data=frames, columns=['c', 'sex'])\n",
    "%Rpush frames\n",
    "frames.dropna(0, 'any')"
   ]
  },
  {
   "cell_type": "markdown",
   "metadata": {},
   "source": [
    "Given the number of frames the data is limited.\n",
    "Nevertheless males and females could be compared using Wilcoxon rank sum test for instances."
   ]
  },
  {
   "cell_type": "code",
   "execution_count": 51,
   "metadata": {
    "collapsed": false
   },
   "outputs": [
    {
     "data": {
      "text/plain": [
       "\n",
       "\tWilcoxon rank sum test\n",
       "\n",
       "data:  c by sex\n",
       "W = 60, p-value = 0.01357\n",
       "alternative hypothesis: true location shift is not equal to 0\n",
       "\n"
      ]
     },
     "metadata": {},
     "output_type": "display_data"
    }
   ],
   "source": [
    "%%R\n",
    "wilcox.test(c ~ sex, data=frames)"
   ]
  },
  {
   "cell_type": "markdown",
   "metadata": {},
   "source": [
    "But this approach is not entirely satisfying since one compare densities between different frames.\n",
    "Fish groups are therefore have not the same size and it could be relevant only if fishes are uniformly distributed into their convex hull.\n",
    "In order to investigate this property we considered the density as a function of the distance of the barycenter of fish groups.\n",
    "As illustrated on the below (log of density as function of the log distance to the barycenter) the fishes are clearly not uniformly distributed into their convex-hulls."
   ]
  },
  {
   "cell_type": "code",
   "execution_count": 52,
   "metadata": {
    "collapsed": false
   },
   "outputs": [
    {
     "data": {
      "image/png": "[encoded data removed]",
      "text/plain": [
       "<matplotlib.figure.Figure at 0x7f2cdb5d9dd0>"
      ]
     },
     "metadata": {},
     "output_type": "display_data"
    }
   ],
   "source": [
    "from wanda.concentration import radiuses\n",
    "fig = plt.figure(figsize=(15,5))\n",
    "axes = plt.subplot(1,1,1)\n",
    "logx = True\n",
    "logy = True\n",
    "frames = []\n",
    "for id_frame in range(1,13):\n",
    "    frame = read_csv(data/'frame_'+str(id_frame)+'/points.csv', sep='\\t')\n",
    "    for sex, color in zip(['F', 'M'], ['ko', 'kD']):\n",
    "        X, Y, Z = SI(frame[frame.Type == sex], 'micro')\n",
    "        r = radiuses(X, Y, Z)\n",
    "        c = [convex_hull_concentration(X, Y, Z, i, nmin=7) for i in r]\n",
    "        if logx:\n",
    "            r = [math.log(r) for r in r]\n",
    "        if logy:\n",
    "            c = [math.log(c) for c in c]\n",
    "        plt.plot(r,c,color, markersize=10., alpha=.3+.3*(sex=='M'))\n",
    "        for r, c in zip(r, c):\n",
    "            frames.append([r, c, sex])\n",
    "axes.set_xlabel('Distance to the barycenter')\n",
    "axes.set_ylabel('Concentration')\n",
    "frames = DataFrame(data=frames, columns=['r', 'c', 'sex'])\n",
    "fig.savefig('density.svg')\n",
    "%Rpush frames"
   ]
  },
  {
   "cell_type": "markdown",
   "metadata": {},
   "source": [
    "In fact, it seems that for a group $i$ of individuals of same sex $s_i$: \n",
    "\n",
    "$$ \\log(d_i) = \\alpha_{s_i} + \\beta_{s_i} \\times r_i + \\epsilon_i$$\n",
    "\n",
    "where:\n",
    "\n",
    "* $d_i$ is the density of the group,\n",
    "* $r_i$ is the maximal distance to the barycenter encountered in the group $i$,\n",
    "* $\\epsilon_i$"
   ]
  },
  {
   "cell_type": "code",
   "execution_count": 53,
   "metadata": {
    "collapsed": false
   },
   "outputs": [
    {
     "data": {
      "text/plain": [
       "\n",
       "Call:\n",
       "lm(formula = \"c ~ r * sex\", data = frames)\n",
       "\n",
       "Residuals:\n",
       "     Min       1Q   Median       3Q      Max \n",
       "-0.80550 -0.23397 -0.01438  0.14569  1.22272 \n",
       "\n",
       "Coefficients:\n",
       "            Estimate Std. Error t value Pr(>|t|)    \n",
       "(Intercept)  3.23361    0.04938  65.483  < 2e-16 ***\n",
       "r           -0.91688    0.04654 -19.703  < 2e-16 ***\n",
       "sexM        -1.02108    0.25270  -4.041 8.19e-05 ***\n",
       "r:sexM       0.22339    0.16192   1.380     0.17    \n",
       "---\n",
       "Signif. codes:  0 ‘***’ 0.001 ‘**’ 0.01 ‘*’ 0.05 ‘.’ 0.1 ‘ ’ 1\n",
       "\n",
       "Residual standard error: 0.3541 on 163 degrees of freedom\n",
       "  (135 observations deleted due to missingness)\n",
       "Multiple R-squared:  0.8376,\tAdjusted R-squared:  0.8346 \n",
       "F-statistic: 280.3 on 3 and 163 DF,  p-value: < 2.2e-16\n",
       "\n"
      ]
     },
     "metadata": {},
     "output_type": "display_data"
    }
   ],
   "source": [
    "%%R\n",
    "reg = lm('c ~ r * sex', data=frames)\n",
    "summary(reg)"
   ]
  },
  {
   "cell_type": "code",
   "execution_count": 54,
   "metadata": {
    "collapsed": false
   },
   "outputs": [
    {
     "data": {
      "text/plain": [
       "Start:  AIC=-342.78\n",
       "c ~ r * sex\n",
       "\n",
       "        Df Sum of Sq    RSS     AIC\n",
       "- r:sex  1   0.23869 20.680 -342.84\n",
       "<none>               20.441 -342.78\n",
       "\n",
       "Step:  AIC=-342.84\n",
       "c ~ r + sex\n",
       "\n",
       "       Df Sum of Sq    RSS     AIC\n",
       "<none>              20.679 -342.84\n",
       "- sex   1     11.24 31.919 -272.35\n",
       "- r     1     50.95 71.629 -137.36\n",
       "\n",
       "Call:\n",
       "lm(formula = c ~ r + sex, data = frames)\n",
       "\n",
       "Coefficients:\n",
       "(Intercept)            r         sexM  \n",
       "     3.2185      -0.8984      -0.6871  \n",
       "\n"
      ]
     },
     "metadata": {},
     "output_type": "display_data"
    }
   ],
   "source": [
    "%%R\n",
    "step(reg)"
   ]
  },
  {
   "cell_type": "markdown",
   "metadata": {},
   "source": [
    "When fitting the linear model to data, both test and model selection approaches propose to consider the following model (the slope is not depending on the sex) :\n",
    "\n",
    "$$ \\log(d_i) = \\alpha_{s_i} + \\beta \\times r_i + \\epsilon_i$$\n",
    "\n",
    "This is particularly interesting since the difference between males and females is therefore only concerning the intercept.\n",
    "Then\n",
    "\n",
    "$$\\forall r \\in \\mathbb{R}^+, \\quad \\frac{d_M}{d_F} = \\exp(\\alpha_{M}-\\alpha_{F}) $$\n",
    "\n",
    "can be used to compare densities."
   ]
  },
  {
   "cell_type": "code",
   "execution_count": 64,
   "metadata": {
    "collapsed": false
   },
   "outputs": [
    {
     "data": {
      "text/plain": [
       "\n",
       "Call:\n",
       "lm(formula = \"c ~ r + sex\", data = frames)\n",
       "\n",
       "Residuals:\n",
       "     Min       1Q   Median       3Q      Max \n",
       "-0.75758 -0.22691 -0.02436  0.14913  1.32342 \n",
       "\n",
       "Coefficients:\n",
       "            Estimate Std. Error t value Pr(>|t|)    \n",
       "(Intercept)  3.21846    0.04828  66.665   <2e-16 ***\n",
       "r           -0.89843    0.04470 -20.101   <2e-16 ***\n",
       "sexM        -0.68714    0.07278  -9.441   <2e-16 ***\n",
       "---\n",
       "Signif. codes:  0 ‘***’ 0.001 ‘**’ 0.01 ‘*’ 0.05 ‘.’ 0.1 ‘ ’ 1\n",
       "\n",
       "Residual standard error: 0.3551 on 164 degrees of freedom\n",
       "  (135 observations deleted due to missingness)\n",
       "Multiple R-squared:  0.8357,\tAdjusted R-squared:  0.8337 \n",
       "F-statistic: 417.2 on 2 and 164 DF,  p-value: < 2.2e-16\n",
       "\n"
      ]
     },
     "metadata": {},
     "output_type": "display_data"
    }
   ],
   "source": [
    "%%R\n",
    "reg = lm('c ~ r + sex', data=frames)\n",
    "coefficients = summary(reg)$coefficients\n",
    "prd = predict(reg, na.action = na.exclude)\n",
    "summary(reg)"
   ]
  },
  {
   "cell_type": "markdown",
   "metadata": {},
   "source": [
    "From this table we have $\\alpha_M - \\alpha_F = -0.68714$.\n",
    "For a same radius of an enclosing circle, the density of females is therefore $\\frac{1}{\\exp(-0.68714)} \\approx \\frac{1}{.50} \\approx 2.$ times higher that the one of males."
   ]
  },
  {
   "cell_type": "code",
   "execution_count": 88,
   "metadata": {
    "collapsed": false
   },
   "outputs": [],
   "source": [
    "newframes = DataFrame(data=[[-.5, 'M'], [3.5, \"M\"]], columns=['r', 'sex'])\n",
    "newframes\n",
    "%Rpush newframes"
   ]
  },
  {
   "cell_type": "code",
   "execution_count": 89,
   "metadata": {
    "collapsed": false
   },
   "outputs": [],
   "source": [
    "%%R\n",
    "Mpred = predict(reg, newframes)"
   ]
  },
  {
   "cell_type": "code",
   "execution_count": 90,
   "metadata": {
    "collapsed": true
   },
   "outputs": [],
   "source": [
    "newframes = DataFrame(data=[[-.5, 'F'], [3.5, \"F\"]], columns=['r', 'sex'])\n",
    "newframes\n",
    "%Rpush newframes"
   ]
  },
  {
   "cell_type": "code",
   "execution_count": 91,
   "metadata": {
    "collapsed": true
   },
   "outputs": [],
   "source": [
    "%%R\n",
    "Fpred = predict(reg, newframes)"
   ]
  },
  {
   "cell_type": "code",
   "execution_count": 85,
   "metadata": {
    "collapsed": false
   },
   "outputs": [
    {
     "data": {
      "text/plain": [
       "[3.667678681596427, 0.0739509991486722]"
      ]
     },
     "execution_count": 85,
     "metadata": {},
     "output_type": "execute_result"
    }
   ],
   "source": [
    "%Rpull Fpred\n",
    "list(Fpred)"
   ]
  },
  {
   "cell_type": "code",
   "execution_count": 101,
   "metadata": {
    "collapsed": false
   },
   "outputs": [
    {
     "data": {
      "image/png": "[encoded data removed]",
      "text/plain": [
       "<matplotlib.figure.Figure at 0x7f2cdb044490>"
      ]
     },
     "metadata": {},
     "output_type": "display_data"
    }
   ],
   "source": [
    "%Rpull Mpred\n",
    "%Rpull Fpred\n",
    "fig = plt.figure(figsize=(15,5))\n",
    "axes = plt.subplot(1,1,1)\n",
    "axes.plot(frames.r[frames.sex == 'F'], frames.c[frames.sex == 'F'], 'ko', markersize=10., alpha=.3)\n",
    "axes.plot(frames.r[frames.sex == 'M'], frames.c[frames.sex == 'M'], 'kD', markersize=10., alpha=.6)\n",
    "axes.plot([-.5, 3.5], list(Fpred), 'k:')\n",
    "axes.plot([-.5, 3.5], list(Mpred), 'k--')\n",
    "axes.set_xlabel('Distance to the barycenter')\n",
    "axes.set_ylabel('Concentration')\n",
    "fig.savefig('density.svg')"
   ]
  },
  {
   "cell_type": "code",
   "execution_count": null,
   "metadata": {
    "collapsed": true
   },
   "outputs": [],
   "source": []
  },
  {
   "cell_type": "code",
   "execution_count": null,
   "metadata": {
    "collapsed": true
   },
   "outputs": [],
   "source": []
  },
  {
   "cell_type": "code",
   "execution_count": null,
   "metadata": {
    "collapsed": true
   },
   "outputs": [],
   "source": []
  }
 ],
 "metadata": {
  "kernelspec": {
   "display_name": "Python 2",
   "language": "python",
   "name": "python2"
  },
  "language_info": {
   "codemirror_mode": {
    "name": "ipython",
    "version": 2
   },
   "file_extension": ".py",
   "mimetype": "text/x-python",
   "name": "python",
   "nbconvert_exporter": "python",
   "pygments_lexer": "ipython2",
   "version": "2.7.9"
  }
 },
 "nbformat": 4,
 "nbformat_minor": 0
}
